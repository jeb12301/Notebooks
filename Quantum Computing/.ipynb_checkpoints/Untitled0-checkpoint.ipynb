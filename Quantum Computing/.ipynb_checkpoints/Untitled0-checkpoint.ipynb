{
 "cells": [
  {
   "cell_type": "code",
   "execution_count": null,
   "metadata": {
    "colab": {
     "base_uri": "https://localhost:8080/"
    },
    "executionInfo": {
     "elapsed": 29846,
     "status": "ok",
     "timestamp": 1672736568310,
     "user": {
      "displayName": "Jeb Song",
      "userId": "10089748623463297574"
     },
     "user_tz": -480
    },
    "id": "uGEyGU3alM9S",
    "outputId": "ca8fb863-7e49-4ccf-f99b-3212b530a7bb"
   },
   "outputs": [],
   "source": [
    "!pip3 install qiskit\n",
    "!pip3 install pylatexenc"
   ]
  },
  {
   "cell_type": "code",
   "execution_count": null,
   "metadata": {
    "colab": {
     "base_uri": "https://localhost:8080/"
    },
    "executionInfo": {
     "elapsed": 3464,
     "status": "ok",
     "timestamp": 1672736571758,
     "user": {
      "displayName": "Jeb Song",
      "userId": "10089748623463297574"
     },
     "user_tz": -480
    },
    "id": "oSqTwCC9SMbo",
    "outputId": "17a7c4f4-3fb3-4e83-8377-7df088f46438"
   },
   "outputs": [],
   "source": [
    "!pip3 show sympy"
   ]
  },
  {
   "cell_type": "code",
   "execution_count": null,
   "metadata": {
    "colab": {
     "base_uri": "https://localhost:8080/"
    },
    "executionInfo": {
     "elapsed": 22399,
     "status": "ok",
     "timestamp": 1672736749071,
     "user": {
      "displayName": "Jeb Song",
      "userId": "10089748623463297574"
     },
     "user_tz": -480
    },
    "id": "epWqNuZnSE3A",
    "outputId": "b17abfb2-0ef1-4e32-d1d8-17c5d3ad1170"
   },
   "outputs": [],
   "source": [
    "!pip3 uninstall sympy -y\n",
    "!pip3 install sympy"
   ]
  },
  {
   "cell_type": "code",
   "execution_count": 6,
   "metadata": {
    "colab": {
     "base_uri": "https://localhost:8080/"
    },
    "executionInfo": {
     "elapsed": 522,
     "status": "ok",
     "timestamp": 1672736802006,
     "user": {
      "displayName": "Jeb Song",
      "userId": "10089748623463297574"
     },
     "user_tz": -480
    },
    "id": "E4Rmtww5tL8K",
    "outputId": "29520b34-82a2-48dc-fd57-158ec19a7775"
   },
   "outputs": [],
   "source": [
    "#!rm -r ~/.qiskit/\n",
    "!mkdir ~/.qiskit/\n",
    "!touch ~/.qiskit/settings.conf\n",
    "!printf \"[default]\\ncircuit_drawer = mpl\" > ~/.qiskit/settings.conf"
   ]
  },
  {
   "cell_type": "code",
   "execution_count": 36,
   "metadata": {
    "executionInfo": {
     "elapsed": 1534,
     "status": "ok",
     "timestamp": 1672736808293,
     "user": {
      "displayName": "Jeb Song",
      "userId": "10089748623463297574"
     },
     "user_tz": -480
    },
    "id": "R_tbrQelYLvn"
   },
   "outputs": [],
   "source": [
    "from qiskit import QuantumCircuit, Aer, assemble, transpile\n",
    "from qiskit.extensions import UnitaryGate\n",
    "from qiskit.visualization import plot_histogram\n",
    "\n",
    "\n",
    "import sympy as smp\n",
    "import numpy as np\n",
    "from sympy.physics.quantum import TensorProduct\n",
    "from sympy.physics.quantum.dagger import Dagger"
   ]
  },
  {
   "cell_type": "code",
   "execution_count": 55,
   "metadata": {
    "executionInfo": {
     "elapsed": 346,
     "status": "ok",
     "timestamp": 1672736812302,
     "user": {
      "displayName": "Jeb Song",
      "userId": "10089748623463297574"
     },
     "user_tz": -480
    },
    "id": "G9ziGtslorUD"
   },
   "outputs": [],
   "source": [
    "# Sympy arrays\n",
    "I = smp.Matrix([[1,0], [0,1]])\n",
    "X = smp.Matrix([[0,1],[1,0]])\n",
    "Z = smp.Matrix([[1, 0],[0, -1]])\n",
    "Y = smp.Matrix([[0,-smp.I],[smp.I,0]])\n",
    "H = smp.Matrix([[1, 1],[1, -1]])*(1/smp.sqrt(2))\n",
    "\n",
    "\n",
    "def non_hermitian_gate(time, a, b):\n",
    "\n",
    "    # Desired non-hermitian Hamiltonian\n",
    "    H = smp.Matrix(smp.I*(a*TensorProduct(X,Y)- b*TensorProduct(Y, X)))\n",
    "    A = smp.exp(-smp.I*time*H)\n",
    "    A = smp.Matrix(smp.N(A))\n",
    "\n",
    "    # Singular-value decomposition\n",
    "    U, S, V = A.singular_value_decomposition()\n",
    "\n",
    "    # s\n",
    "    num = max((Dagger(A)*A).eigenvals())\n",
    "    s = 1/smp.sqrt(num)\n",
    "\n",
    "    # Sum Tilde\n",
    "    S_T = (smp.eye(smp.shape(S)[0])-s**2*S**2)**(1/2)\n",
    "\n",
    "    # C matrix\n",
    "    C = U*S_T*Dagger(V)\n",
    "\n",
    "    # Initialise matrix\n",
    "    init_matrix = (s*A).col_join(C)\n",
    "    random_matrix = smp.randMatrix(8,4)/100\n",
    "    to_input = init_matrix.row_join(random_matrix)\n",
    "    to_input = np.reshape(np.fromiter(to_input, dtype=complex), (8, 8))\n",
    "\n",
    "    # Simulated matrix\n",
    "    q, r = np.linalg.qr(to_input) # Using qr algorithm, q is negative of desired unitary\n",
    "    #simulated_matrix = -smp.Matrix(q) # Unitary matrix to simulate\n",
    "    q = -q #np.array\n",
    "    return q"
   ]
  },
  {
   "cell_type": "code",
   "execution_count": null,
   "metadata": {
    "colab": {
     "base_uri": "https://localhost:8080/",
     "height": 1000
    },
    "executionInfo": {
     "elapsed": 3699,
     "status": "error",
     "timestamp": 1672211031754,
     "user": {
      "displayName": "Jeb Song",
      "userId": "10089748623463297574"
     },
     "user_tz": -480
    },
    "id": "W9y2kZOZYPzK",
    "outputId": "bfa3c932-f349-4bd1-ee65-ef281a1071fa"
   },
   "outputs": [],
   "source": [
    "\"\"\"\n",
    "times = []\n",
    "res = []\n",
    "iterations = 10a0\n",
    "time = 1/100\n",
    "N = 5\n",
    "v= 1/2\n",
    "w= 1\n",
    "num_time_slices = 1\n",
    "\"\"\"\n",
    "\n",
    "\n",
    "# Variables\n",
    "#time = 1\n",
    "A = 20\n",
    "B = 1\n",
    "\n",
    "\n",
    "for time in range(0, 30):\n",
    "    time *= 0.1\n",
    "    #for itr in range(iterations):\n",
    "    # Circuit\n",
    "    qc = QuantumCircuit(3, 3)\n",
    "\n",
    "    qc.x(0)\n",
    "    qc.x(1)\n",
    "\n",
    "    qc.h(0)\n",
    "    qc.h(1)\n",
    "    # Apply unitary gate\n",
    "    qc.append(UnitaryGate(non_hermitian_gate(time, A, B)), [0, 1, 2])\n",
    "\n",
    "    # Measurement\n",
    "    qc.measure(0,0)\n",
    "    qc.measure(1,1)\n",
    "    qc.measure(2,2)\n",
    "\n",
    "    # Simulation\n",
    "    svsim = Aer.get_backend('aer_simulator')\n",
    "    shots = 1000 #500\n",
    "    t_qpe = transpile(qc, svsim)\n",
    "    qobj = assemble(t_qpe, shots=shots)\n",
    "    results = svsim.run(qobj).result()\n",
    "    answer = results.get_counts()\n",
    "    desired = {}\n",
    "    for i in answer:\n",
    "        if i[0] != '1':\n",
    "            desired[i[1:]] = answer[i]\n",
    "    hist = plot_histogram(desired, title=\"Evolution of |--> state with A=1, B=1, and time: %1.1f\"% (time))\n",
    "    display(hist)\n",
    "    #hist.savefig('A=1_B=1_states=-_-_time:%1.1f.png' % (time))\n",
    "    print(time)"
   ]
  },
  {
   "cell_type": "code",
   "execution_count": null,
   "metadata": {
    "id": "GHg3HNFKePLg"
   },
   "outputs": [],
   "source": [
    "for idx in range(6):\n",
    "  idx *= 0.1\n",
    "  idx = format(idx, '.1f')\n",
    "  !mv A=1_B=1_states=-_-_time:{idx}.png /content/drive/MyDrive/Quantum\\ Computing/QC_Photo"
   ]
  },
  {
   "cell_type": "code",
   "execution_count": null,
   "metadata": {
    "colab": {
     "base_uri": "https://localhost:8080/"
    },
    "executionInfo": {
     "elapsed": 21,
     "status": "ok",
     "timestamp": 1672209897415,
     "user": {
      "displayName": "Jeb Song",
      "userId": "10089748623463297574"
     },
     "user_tz": -480
    },
    "id": "ZD0Ltmb9egpm",
    "outputId": "1c132736-f421-421e-ce0c-b1841f23aed1"
   },
   "outputs": [
    {
     "data": {
      "text/plain": [
       "0.30000000000000004"
      ]
     },
     "execution_count": 103,
     "metadata": {},
     "output_type": "execute_result"
    }
   ],
   "source": [
    "!mv A=2_B=1_states=1_1_time:0.5.png /content/drive/MyDrive/Quantum\\ Computing/QC_Photo"
   ]
  },
  {
   "cell_type": "code",
   "execution_count": null,
   "metadata": {
    "id": "FigYE-9-Tmr9"
   },
   "outputs": [],
   "source": [
    "from google.colab import drive\n",
    "drive.mount('/content/drive')"
   ]
  },
  {
   "cell_type": "code",
   "execution_count": null,
   "metadata": {
    "id": "rzNkCqFPeItk"
   },
   "outputs": [],
   "source": [
    "for i in range"
   ]
  },
  {
   "cell_type": "markdown",
   "metadata": {
    "id": "Y2bcsvwlxMb1",
    "jp-MarkdownHeadingCollapsed": true,
    "tags": []
   },
   "source": [
    "# Code to create unitary gate from non-unitary\n"
   ]
  },
  {
   "cell_type": "code",
   "execution_count": null,
   "metadata": {
    "id": "uo3L3STtxQf1"
   },
   "outputs": [],
   "source": [
    "# Sympy arrays\n",
    "I = smp.Matrix([[1,0], [0,1]])\n",
    "X = smp.Matrix([[0,1],[1,0]])\n",
    "Z = smp.Matrix([[1, 0],[0, -1]])\n",
    "Y = smp.Matrix([[0,-smp.I],[smp.I,0]])\n",
    "\n",
    "# Variables\n",
    "time = 1\n",
    "\n",
    "# Desired non-hermitian Hamiltonian\n",
    "## a = 1, b = 1\n",
    "H = smp.Matrix(smp.I*(TensorProduct(X,Y)- TensorProduct(Y, X)))\n",
    "A = smp.exp(-smp.I*time*H)\n",
    "A = smp.Matrix(smp.N(A))\n",
    "\n",
    "# Singular-value decomposition\n",
    "U, S, V = A.singular_value_decomposition()\n",
    "\n",
    "# s\n",
    "num = max((Dagger(A)*A).eigenvals())\n",
    "s = 1/smp.sqrt(num)\n",
    "\n",
    "# Sum Tilde\n",
    "S_T = (smp.eye(smp.shape(S)[0])-s**2*S**2)**(1/2)\n",
    "\n",
    "# C matrix\n",
    "C = U*S_T*Dagger(V)\n",
    "\n",
    "# Initialise matrix\n",
    "init_matrix = (s*A).col_join(C)\n",
    "random_matrix = smp.randMatrix(8,4)/100\n",
    "to_input = init_matrix.row_join(random_matrix)\n",
    "to_input = np.reshape(np.fromiter(to_input, dtype=complex), (8, 8))\n",
    "\n",
    "# Simulated matrix\n",
    "q, r = np.linalg.qr(to_input) # Using qr algorithm, q is negative of desired unitary\n",
    "simulated_matrix = -smp.Matrix(q) # Unitary matrix to simulate\n",
    "\n",
    "qc = QuantumCircuit(3,3)\n",
    "qc.append(UnitaryGate(simulated_matrix), [0, 1, 2])\n",
    "qc_transpile = transpile(qc, basis_gates=['cx','rz','sx','x'])\n",
    "qc_transpile.draw()"
   ]
  },
  {
   "cell_type": "markdown",
   "metadata": {
    "id": "ijeV_1D63DMW",
    "jp-MarkdownHeadingCollapsed": true,
    "tags": []
   },
   "source": [
    "# Analytical solution"
   ]
  },
  {
   "cell_type": "code",
   "execution_count": null,
   "metadata": {
    "colab": {
     "base_uri": "https://localhost:8080/",
     "height": 102
    },
    "executionInfo": {
     "elapsed": 1788,
     "status": "ok",
     "timestamp": 1672288474014,
     "user": {
      "displayName": "Jeb Song",
      "userId": "10089748623463297574"
     },
     "user_tz": -480
    },
    "id": "59q1ZaJp3FPp",
    "outputId": "7bc81c06-68b9-42ca-b1a9-984b06b4b859"
   },
   "outputs": [
    {
     "data": {
      "text/latex": [
       "$\\displaystyle \\left[\\begin{matrix}\\alpha \\gamma \\left(0.5 e^{t \\left(a - b\\right)} + 0.5 e^{- t \\left(a - b\\right)}\\right) + \\beta \\xi \\left(- 0.5 i e^{t \\left(a - b\\right)} + 0.5 i e^{- t \\left(a - b\\right)}\\right)\\\\\\alpha \\xi \\left(0.5 e^{t \\left(a + b\\right)} + 0.5 e^{- t \\left(a + b\\right)}\\right) + \\beta \\gamma \\left(0.5 i e^{t \\left(a + b\\right)} - 0.5 i e^{- t \\left(a + b\\right)}\\right)\\\\\\alpha \\xi \\left(- 0.5 i e^{t \\left(a + b\\right)} + 0.5 i e^{- t \\left(a + b\\right)}\\right) + \\beta \\gamma \\left(0.5 e^{t \\left(a + b\\right)} + 0.5 e^{- t \\left(a + b\\right)}\\right)\\\\\\alpha \\gamma \\left(0.5 i e^{t \\left(a - b\\right)} - 0.5 i e^{- t \\left(a - b\\right)}\\right) + \\beta \\xi \\left(0.5 e^{t \\left(a - b\\right)} + 0.5 e^{- t \\left(a - b\\right)}\\right)\\end{matrix}\\right]$"
      ],
      "text/plain": [
       "Matrix([\n",
       "[alpha*gamma*(0.5*exp(t*(a - b)) + 0.5*exp(-t*(a - b))) + beta*xi*(-0.5*I*exp(t*(a - b)) + 0.5*I*exp(-t*(a - b)))],\n",
       "[ alpha*xi*(0.5*exp(t*(a + b)) + 0.5*exp(-t*(a + b))) + beta*gamma*(0.5*I*exp(t*(a + b)) - 0.5*I*exp(-t*(a + b)))],\n",
       "[alpha*xi*(-0.5*I*exp(t*(a + b)) + 0.5*I*exp(-t*(a + b))) + beta*gamma*(0.5*exp(t*(a + b)) + 0.5*exp(-t*(a + b)))],\n",
       "[ alpha*gamma*(0.5*I*exp(t*(a - b)) - 0.5*I*exp(-t*(a - b))) + beta*xi*(0.5*exp(t*(a - b)) + 0.5*exp(-t*(a - b)))]])"
      ]
     },
     "metadata": {},
     "output_type": "display_data"
    }
   ],
   "source": [
    "# Sympy arrays\n",
    "X = smp.Matrix([[0,1],[1,0]])\n",
    "Y = smp.Matrix([[0,-smp.I],[smp.I,0]])\n",
    "\n",
    "a, b, time = smp.symbols('a b t')\n",
    "\n",
    "# Desired non-hermitian Hamiltonian\n",
    "H = smp.Matrix(smp.I*(a*TensorProduct(X,Y)- b*TensorProduct(Y, X)))\n",
    "A_g = smp.exp(-smp.I*time*H)\n",
    "A_g = smp.Matrix(smp.N(A_g))\n",
    "\n",
    "\n",
    "a_, b_, g_, x_ = smp.symbols('alpha beta gamma xi')\n",
    "\n",
    "inital_state_1 = smp.Matrix([[a_],[b_]])\n",
    "inital_state_2 = smp.Matrix([[g_],[x_]])\n",
    "\n",
    "\n",
    "display(A_g*TensorProduct(inital_state_1,inital_state_2))"
   ]
  },
  {
   "cell_type": "code",
   "execution_count": null,
   "metadata": {
    "colab": {
     "base_uri": "https://localhost:8080/"
    },
    "executionInfo": {
     "elapsed": 29,
     "status": "ok",
     "timestamp": 1672210742180,
     "user": {
      "displayName": "Jeb Song",
      "userId": "10089748623463297574"
     },
     "user_tz": -480
    },
    "id": "5mqaCXYfhHn1",
    "outputId": "715e61dc-cfbb-4c8d-d6f5-23aacfb620df"
   },
   "outputs": [
    {
     "name": "stdout",
     "output_type": "stream",
     "text": [
      "\\left[\\begin{matrix}\\alpha \\gamma \\left(0.5 e^{t \\left(a - b\\right)} + 0.5 e^{- t \\left(a - b\\right)}\\right) + \\beta \\xi \\left(- 0.5 i e^{t \\left(a - b\\right)} + 0.5 i e^{- t \\left(a - b\\right)}\\right)\\\\\\alpha \\xi \\left(0.5 i e^{t \\left(a + b\\right)} - 0.5 i e^{- t \\left(a + b\\right)}\\right) + \\beta \\gamma \\left(0.5 e^{t \\left(a + b\\right)} + 0.5 e^{- t \\left(a + b\\right)}\\right)\\\\\\alpha \\xi \\left(0.5 e^{t \\left(a + b\\right)} + 0.5 e^{- t \\left(a + b\\right)}\\right) + \\beta \\gamma \\left(- 0.5 i e^{t \\left(a + b\\right)} + 0.5 i e^{- t \\left(a + b\\right)}\\right)\\\\\\alpha \\gamma \\left(0.5 i e^{t \\left(a - b\\right)} - 0.5 i e^{- t \\left(a - b\\right)}\\right) + \\beta \\xi \\left(0.5 e^{t \\left(a - b\\right)} + 0.5 e^{- t \\left(a - b\\right)}\\right)\\end{matrix}\\right]\n"
     ]
    }
   ],
   "source": [
    "print(smp.latex(A_g*TensorProduct(inital_state_2,inital_state_1)))"
   ]
  },
  {
   "cell_type": "code",
   "execution_count": null,
   "metadata": {
    "colab": {
     "base_uri": "https://localhost:8080/",
     "height": 183
    },
    "executionInfo": {
     "elapsed": 19,
     "status": "ok",
     "timestamp": 1672210616063,
     "user": {
      "displayName": "Jeb Song",
      "userId": "10089748623463297574"
     },
     "user_tz": -480
    },
    "id": "5pQebp5vQivd",
    "outputId": "c0b9032d-9c51-491a-8fce-5e3f9c785bc2"
   },
   "outputs": [
    {
     "data": {
      "text/latex": [
       "$\\displaystyle \\left[\\begin{matrix}0.5 e^{t \\left(a - b\\right)} + 0.5 e^{- t \\left(a - b\\right)}\\\\0\\\\0\\\\0.5 i e^{t \\left(a - b\\right)} - 0.5 i e^{- t \\left(a - b\\right)}\\end{matrix}\\right]$"
      ],
      "text/plain": [
       "Matrix([\n",
       "[    0.5*exp(t*(a - b)) + 0.5*exp(-t*(a - b))],\n",
       "[                                           0],\n",
       "[                                           0],\n",
       "[0.5*I*exp(t*(a - b)) - 0.5*I*exp(-t*(a - b))]])"
      ]
     },
     "metadata": {},
     "output_type": "display_data"
    },
    {
     "data": {
      "text/latex": [
       "$\\displaystyle \\left[\\begin{matrix}0.5 e^{t \\left(a - b\\right)} + 0.5 e^{- t \\left(a - b\\right)}\\\\0\\\\0\\\\0.5 i e^{t \\left(a - b\\right)} - 0.5 i e^{- t \\left(a - b\\right)}\\end{matrix}\\right]$"
      ],
      "text/plain": [
       "Matrix([\n",
       "[    0.5*exp(t*(a - b)) + 0.5*exp(-t*(a - b))],\n",
       "[                                           0],\n",
       "[                                           0],\n",
       "[0.5*I*exp(t*(a - b)) - 0.5*I*exp(-t*(a - b))]])"
      ]
     },
     "metadata": {},
     "output_type": "display_data"
    }
   ],
   "source": [
    "inital_state_1 = smp.Matrix([[1],[0]])\n",
    "inital_state_2 = smp.Matrix([[1],[0]])\n",
    "\n",
    "display(A_g*TensorProduct(inital_state_1,inital_state_2))\n",
    "\n",
    "inital_state_1 = smp.Matrix([[1],[0]])\n",
    "inital_state_2 = smp.Matrix([[1],[0]])\n",
    "\n",
    "display(A_g*TensorProduct(inital_state_1,inital_state_2))"
   ]
  },
  {
   "cell_type": "code",
   "execution_count": null,
   "metadata": {
    "colab": {
     "base_uri": "https://localhost:8080/"
    },
    "executionInfo": {
     "elapsed": 7,
     "status": "ok",
     "timestamp": 1672288603148,
     "user": {
      "displayName": "Jeb Song",
      "userId": "10089748623463297574"
     },
     "user_tz": -480
    },
    "id": "Oku6d8ywKpGo",
    "outputId": "ab9d7464-4812-4887-c95b-b7a8decaafff"
   },
   "outputs": [
    {
     "name": "stdout",
     "output_type": "stream",
     "text": [
      "\\left[\\begin{matrix}0 & 0 & 0 & a - b\\\\0 & 0 & - a - b & 0\\\\0 & a + b & 0 & 0\\\\- a + b & 0 & 0 & 0\\end{matrix}\\right]\n"
     ]
    }
   ],
   "source": [
    "print(smp.latex(smp.simplify(H)))"
   ]
  },
  {
   "cell_type": "code",
   "execution_count": null,
   "metadata": {
    "colab": {
     "base_uri": "https://localhost:8080/",
     "height": 99
    },
    "executionInfo": {
     "elapsed": 12,
     "status": "ok",
     "timestamp": 1672210207645,
     "user": {
      "displayName": "Jeb Song",
      "userId": "10089748623463297574"
     },
     "user_tz": -480
    },
    "id": "4ath6qjHbeD3",
    "outputId": "d061be2f-200f-47cc-f1ed-248c59d7356f"
   },
   "outputs": [
    {
     "data": {
      "text/latex": [
       "$\\displaystyle \\left[\\begin{matrix}0\\\\0\\\\0\\\\-5\\end{matrix}\\right]$"
      ],
      "text/plain": [
       "Matrix([\n",
       "[ 0],\n",
       "[ 0],\n",
       "[ 0],\n",
       "[-5]])"
      ]
     },
     "metadata": {},
     "output_type": "display_data"
    }
   ],
   "source": [
    "inital_state_1 = smp.Matrix([[0],[1]])\n",
    "inital_state_2 = smp.Matrix([[0],[-1]])\n",
    "\n",
    "display(A*TensorProduct(inital_state_1,inital_state_2))"
   ]
  },
  {
   "cell_type": "markdown",
   "metadata": {
    "id": "9bWZsYeGg7CI"
   },
   "source": [
    "Change in $a, b$ determines the rate of oscillation between the different qubit bases and the direction of change (increase or decrease in probability amplitude). Analytically, the value of some  amplitudes can be set as exponential functions with respect to time $t$. Values could tend towards positive or negative infinity (positive exponent, positive or negative sign); stay constant (constant exponent); or tend to zero (negative exponent).\n",
    "\n",
    "The non-hermitian hamiltonian $H$ is given as:\n",
    "$$\\left[\\begin{matrix}0 & 0 & 0 & a - b\\\\0 & 0 & - a - b & 0\\\\0 & a + b & 0 & 0\\\\- a + b & 0 & 0 & 0\\end{matrix}\\right]\n",
    "$$\n",
    "\n",
    "The operator $e^{-iHt}$ is given as:\n",
    "$$\\left[\\begin{matrix}0.5 e^{t \\left(a - b\\right)} + 0.5 e^{- t \\left(a - b\\right)} & 0 & 0 & - 0.5 i e^{t \\left(a - b\\right)} + 0.5 i e^{- t \\left(a - b\\right)}\\\\0 & 0.5 e^{t \\left(a + b\\right)} + 0.5 e^{- t \\left(a + b\\right)} & 0.5 i e^{t \\left(a + b\\right)} - 0.5 i e^{- t \\left(a + b\\right)} & 0\\\\0 & - 0.5 i e^{t \\left(a + b\\right)} + 0.5 i e^{- t \\left(a + b\\right)} & 0.5 e^{t \\left(a + b\\right)} + 0.5 e^{- t \\left(a + b\\right)} & 0\\\\0.5 i e^{t \\left(a - b\\right)} - 0.5 i e^{- t \\left(a - b\\right)} & 0 & 0 & 0.5 e^{t \\left(a - b\\right)} + 0.5 e^{- t \\left(a - b\\right)}\\end{matrix}\\right]\n",
    "$$\n",
    "\n",
    "General case for state initialisations $\\alpha |0\\rangle + \\beta |1\\rangle$ on qubit 1 and $\\gamma |0\\rangle + \\xi |1\\rangle$ on qubit 2 :\n",
    "$$\n",
    "\\left[\\begin{matrix}\\alpha \\gamma \\left(0.5 e^{t \\left(a - b\\right)} + 0.5 e^{- t \\left(a - b\\right)}\\right) + \\beta \\xi \\left(- 0.5 i e^{t \\left(a - b\\right)} + 0.5 i e^{- t \\left(a - b\\right)}\\right)\\\\\\alpha \\xi \\left(0.5 i e^{t \\left(a + b\\right)} - 0.5 i e^{- t \\left(a + b\\right)}\\right) + \\beta \\gamma \\left(0.5 e^{t \\left(a + b\\right)} + 0.5 e^{- t \\left(a + b\\right)}\\right)\\\\\\alpha \\xi \\left(0.5 e^{t \\left(a + b\\right)} + 0.5 e^{- t \\left(a + b\\right)}\\right) + \\beta \\gamma \\left(- 0.5 i e^{t \\left(a + b\\right)} + 0.5 i e^{- t \\left(a + b\\right)}\\right)\\\\\\alpha \\gamma \\left(0.5 i e^{t \\left(a - b\\right)} - 0.5 i e^{- t \\left(a - b\\right)}\\right) + \\beta \\xi \\left(0.5 e^{t \\left(a - b\\right)} + 0.5 e^{- t \\left(a - b\\right)}\\right)\\end{matrix}\\right]\n",
    "$$\n",
    "\n",
    "Example of specific case for initialisations of $|0\\rangle$ on each qubit:\n",
    "$$\n",
    "\\left[\\begin{matrix}0.5 e^{t \\left(a - b\\right)} + 0.5 e^{- t \\left(a - b\\right)}\\\\0\\\\0\\\\0.5 i e^{t \\left(a - b\\right)} - 0.5 i e^{- t \\left(a - b\\right)}\\end{matrix}\\right]\n",
    "$$"
   ]
  },
  {
   "cell_type": "code",
   "execution_count": null,
   "metadata": {
    "id": "is7E7StShN0d"
   },
   "outputs": [],
   "source": []
  },
  {
   "cell_type": "code",
   "execution_count": null,
   "metadata": {
    "id": "NgA1MUq9q8sn"
   },
   "outputs": [],
   "source": [
    "import sympy as smp"
   ]
  },
  {
   "cell_type": "code",
   "execution_count": null,
   "metadata": {
    "id": "8UDWsStbq98M"
   },
   "outputs": [],
   "source": [
    "I = smp.Matrix([[1,0], [0,1]])\n",
    "X = smp.Matrix([[0,1],[1,0]])\n",
    "Z = smp.Matrix([[1, 0],[0, -1]])\n",
    "Y = smp.Matrix([[0,-smp.I],[smp.I,0]])\n",
    "H = smp.Matrix([[1, 1],[1, -1]])*(1/smp.sqrt(2)) \n"
   ]
  },
  {
   "cell_type": "code",
   "execution_count": null,
   "metadata": {
    "id": "ksI5A6bhrBiM"
   },
   "outputs": [],
   "source": [
    "target = (smp.re(smp.E**(smp.I*smp.pi/4)*I -smp.E**(-smp.I*smp.pi/4)*Z)+smp.im(smp.E**(smp.I*smp.pi/4)*I -smp.E**(-smp.I*smp.pi/4)*Z)*smp.I)/smp.sqrt(2)"
   ]
  },
  {
   "cell_type": "code",
   "execution_count": null,
   "metadata": {
    "colab": {
     "base_uri": "https://localhost:8080/",
     "height": 58
    },
    "executionInfo": {
     "elapsed": 14,
     "status": "ok",
     "timestamp": 1672381467582,
     "user": {
      "displayName": "Jeb Song",
      "userId": "10089748623463297574"
     },
     "user_tz": -480
    },
    "id": "4qB6pojTr19r",
    "outputId": "9fbbc172-6310-438b-929c-0cef6eaa1e88"
   },
   "outputs": [
    {
     "data": {
      "text/latex": [
       "$\\displaystyle \\left[\\begin{matrix}-1 & 0\\\\0 & 1\\end{matrix}\\right]$"
      ],
      "text/plain": [
       "Matrix([\n",
       "[-1, 0],\n",
       "[ 0, 1]])"
      ]
     },
     "execution_count": 28,
     "metadata": {},
     "output_type": "execute_result"
    }
   ],
   "source": [
    "target**2"
   ]
  },
  {
   "cell_type": "code",
   "execution_count": null,
   "metadata": {
    "id": "3fdAxIQ6sBDM"
   },
   "outputs": [],
   "source": []
  },
  {
   "cell_type": "markdown",
   "metadata": {
    "id": "fvhoO00x4a6I",
    "tags": []
   },
   "source": [
    "# Section 2\n"
   ]
  },
  {
   "cell_type": "code",
   "execution_count": 4,
   "metadata": {
    "executionInfo": {
     "elapsed": 5,
     "status": "ok",
     "timestamp": 1672737550948,
     "user": {
      "displayName": "Jeb Song",
      "userId": "10089748623463297574"
     },
     "user_tz": -480
    },
    "id": "ljmsnxTZ4onp"
   },
   "outputs": [],
   "source": [
    "from qiskit import IBMQ, assemble, transpile"
   ]
  },
  {
   "cell_type": "code",
   "execution_count": 5,
   "metadata": {
    "colab": {
     "base_uri": "https://localhost:8080/"
    },
    "executionInfo": {
     "elapsed": 2273,
     "status": "ok",
     "timestamp": 1672737674447,
     "user": {
      "displayName": "Jeb Song",
      "userId": "10089748623463297574"
     },
     "user_tz": -480
    },
    "id": "mmx1WRLa7YiT",
    "outputId": "1b023419-1cf8-4238-e480-da7bcbf20e59"
   },
   "outputs": [
    {
     "name": "stderr",
     "output_type": "stream",
     "text": [
      "configrc.store_credentials:WARNING:2023-01-12 17:20:21,711: Credentials already present. Set overwrite=True to overwrite.\n"
     ]
    }
   ],
   "source": [
    "IBMQ.save_account('38307034cdda6895f36d0c2886cfd2b29783ddcc09310b10f0376de4b876623bab976052519255846e8854323ef48d56d4143f5565b2b62d7136b29a90144c23')\n",
    "provider = IBMQ.load_account()\n",
    "backend = provider.backend.ibm_nairobi"
   ]
  },
  {
   "cell_type": "code",
   "execution_count": 6,
   "metadata": {
    "colab": {
     "base_uri": "https://localhost:8080/"
    },
    "executionInfo": {
     "elapsed": 342,
     "status": "ok",
     "timestamp": 1672738534858,
     "user": {
      "displayName": "Jeb Song",
      "userId": "10089748623463297574"
     },
     "user_tz": -480
    },
    "id": "GbPtL4_D_G9F",
    "outputId": "42dba06a-a6a5-49fa-de4e-e29fd63b8414"
   },
   "outputs": [
    {
     "data": {
      "text/plain": [
       "['id', 'rz', 'sx', 'x', 'cx', 'reset']"
      ]
     },
     "execution_count": 6,
     "metadata": {},
     "output_type": "execute_result"
    }
   ],
   "source": [
    "backend.configuration().basis_gates"
   ]
  },
  {
   "cell_type": "code",
   "execution_count": 37,
   "metadata": {
    "colab": {
     "base_uri": "https://localhost:8080/",
     "height": 1000
    },
    "executionInfo": {
     "elapsed": 3928,
     "status": "ok",
     "timestamp": 1672738460998,
     "user": {
      "displayName": "Jeb Song",
      "userId": "10089748623463297574"
     },
     "user_tz": -480
    },
    "id": "M9znZwjp4d1w",
    "outputId": "e13a8719-f6db-4037-bcb8-2d950332658b"
   },
   "outputs": [],
   "source": [
    "lst = []\n",
    "for i in range(4): #100\n",
    "    qc = QuantumCircuit(3, 3)\n",
    "\n",
    "    a_ = 1\n",
    "    b_ = 1\n",
    "    time = 1\n",
    "\n",
    "    qc.append(UnitaryGate(non_hermitian_gate(time, a_, b_, 10)), [0, 1, 2])\n",
    "\n",
    "    qc_basis = transpile(qc, backend)\n",
    "    qc_basis.draw(output='mpl')\n",
    "\n",
    "\n",
    "    to_add = dict(qc_basis.count_ops())\n",
    "    lst.append(sum(to_add.values()))\n"
   ]
  },
  {
   "cell_type": "code",
   "execution_count": 38,
   "metadata": {
    "executionInfo": {
     "elapsed": 20,
     "status": "ok",
     "timestamp": 1672738152232,
     "user": {
      "displayName": "Jeb Song",
      "userId": "10089748623463297574"
     },
     "user_tz": -480
    },
    "id": "xTvnWhql4rDI"
   },
   "outputs": [],
   "source": [
    "counts = dict()\n",
    "for i in lst:\n",
    "    counts[i] = counts.get(i, 0) + 1"
   ]
  },
  {
   "cell_type": "code",
   "execution_count": 39,
   "metadata": {
    "colab": {
     "base_uri": "https://localhost:8080/"
    },
    "executionInfo": {
     "elapsed": 8,
     "status": "ok",
     "timestamp": 1672738153591,
     "user": {
      "displayName": "Jeb Song",
      "userId": "10089748623463297574"
     },
     "user_tz": -480
    },
    "id": "1Fdl8MgG6Z7_",
    "outputId": "f5d1c8e3-1404-458b-f393-9212b23e91bf"
   },
   "outputs": [
    {
     "data": {
      "text/plain": [
       "{164: 1, 166: 2, 169: 1}"
      ]
     },
     "execution_count": 39,
     "metadata": {},
     "output_type": "execute_result"
    }
   ],
   "source": [
    "counts"
   ]
  },
  {
   "cell_type": "markdown",
   "metadata": {
    "id": "tZTc4gZz9muo"
   },
   "source": [
    "for $a,b,t=1$, we have a total gate count (in the ibm basis gates) of between 169 and 183, concentrated around 170-174. The differences results from the different values for the random matrix $B, D$."
   ]
  },
  {
   "cell_type": "markdown",
   "metadata": {
    "id": "6o7wMRdK9tvg"
   },
   "source": [
    "# Unitary Approximations"
   ]
  },
  {
   "cell_type": "code",
   "execution_count": 43,
   "metadata": {},
   "outputs": [
    {
     "name": "stderr",
     "output_type": "stream",
     "text": [
      "configrc.store_credentials:WARNING:2023-01-12 17:39:57,065: Credentials already present. Set overwrite=True to overwrite.\n",
      "ibmqfactory.load_account:WARNING:2023-01-12 17:39:57,807: Credentials are already in use. The existing account in the session will be replaced.\n"
     ]
    }
   ],
   "source": [
    "from qiskit import IBMQ, assemble, transpile, execute\n",
    "\n",
    "IBMQ.save_account('38307034cdda6895f36d0c2886cfd2b29783ddcc09310b10f0376de4b876623bab976052519255846e8854323ef48d56d4143f5565b2b62d7136b29a90144c23')\n",
    "provider = IBMQ.load_account()\n",
    "backend = provider.backend.ibm_nairobi"
   ]
  },
  {
   "cell_type": "code",
   "execution_count": 9,
   "metadata": {},
   "outputs": [],
   "source": [
    "from qiskit.providers import Options\n",
    "from qiskit.transpiler.synthesis.aqc.cnot_structures import make_cnot_network\n",
    "from qiskit.algorithms.optimizers import L_BFGS_B\n",
    "from qiskit.transpiler.synthesis.aqc import *\n",
    "import numpy as np"
   ]
  },
  {
   "cell_type": "code",
   "execution_count": 49,
   "metadata": {},
   "outputs": [
    {
     "name": "stdout",
     "output_type": "stream",
     "text": [
      "{'rz': 19, 'sx': 14, 'cx': 2}\n"
     ]
    },
    {
     "data": {
      "text/latex": [
       "$\\displaystyle \\left[\\begin{matrix}0.004 - 0.288 i & -0.031 - 0.198 i & -0.122 - 0.125 i & -0.101 - 0.075 i & -0.062 + 0.088 i & 0.115 + 0.053 i & 0.787 - 0.215 i & 0.366 - 0.064 i\\\\-0.138 + 0.155 i & 0.316 - 0.328 i & 0.006 + 0.13 i & 0.003 - 0.287 i & -0.037 - 0.144 i & 0.03 + 0.52 i & -0.269 - 0.235 i & 0.392 + 0.273 i\\\\0.209 + 0.304 i & 0.008 + 0.095 i & 0.234 + 0.056 i & 0.043 + 0.041 i & -0.821 + 0.018 i & -0.082 - 0.153 i & 0.088 - 0.258 i & -0.008 + 0.124 i\\\\0.063 - 0.047 i & 0.044 - 0.097 i & 0.01 - 0.047 i & -0.018 - 0.076 i & -0.106 + 0.113 i & 0.404 + 0.5 i & 0.141 - 0.075 i & -0.715 - 0.019 i\\\\0.729 - 0.062 i & 0.388 - 0.028 i & -0.144 + 0.347 i & -0.042 + 0.023 i & 0.198 - 0.203 i & 0.112 - 0.164 i & -0.005 - 0.182 i & -0.022 - 0.126 i\\\\-0.265 - 0.281 i & 0.462 + 0.461 i & 0.019 + 0.02 i & 0.263 + 0.067 i & -0.205 + 0.019 i & 0.455 - 0.022 i & -0.086 + 0.101 i & 0.199 - 0.209 i\\\\-0.175 - 0.012 i & -0.087 + 0.077 i & -0.082 + 0.843 i & -0.179 + 0.004 i & -0.055 + 0.37 i & -0.061 + 0.074 i & 0.126 + 0.196 i & 0.004 + 0.058 i\\\\0.126 + 0.014 i & -0.374 - 0.019 i & 0.055 + 0.175 i & 0.759 - 0.456 i & 0.078 + 0.01 i & 0.103 - 0.045 i & 0.038 - 0.029 i & 0.037 - 0.057 i\\end{matrix}\\right]$"
      ],
      "text/plain": [
       "Matrix([\n",
       "[ 0.004 - 0.288*I, -0.031 - 0.198*I, -0.122 - 0.125*I, -0.101 - 0.075*I, -0.062 + 0.088*I,  0.115 + 0.053*I,  0.787 - 0.215*I,  0.366 - 0.064*I],\n",
       "[-0.138 + 0.155*I,  0.316 - 0.328*I,   0.006 + 0.13*I,  0.003 - 0.287*I, -0.037 - 0.144*I,    0.03 + 0.52*I, -0.269 - 0.235*I,  0.392 + 0.273*I],\n",
       "[ 0.209 + 0.304*I,  0.008 + 0.095*I,  0.234 + 0.056*I,  0.043 + 0.041*I, -0.821 + 0.018*I, -0.082 - 0.153*I,  0.088 - 0.258*I, -0.008 + 0.124*I],\n",
       "[ 0.063 - 0.047*I,  0.044 - 0.097*I,   0.01 - 0.047*I, -0.018 - 0.076*I, -0.106 + 0.113*I,    0.404 + 0.5*I,  0.141 - 0.075*I, -0.715 - 0.019*I],\n",
       "[ 0.729 - 0.062*I,  0.388 - 0.028*I, -0.144 + 0.347*I, -0.042 + 0.023*I,  0.198 - 0.203*I,  0.112 - 0.164*I, -0.005 - 0.182*I, -0.022 - 0.126*I],\n",
       "[-0.265 - 0.281*I,  0.462 + 0.461*I,   0.019 + 0.02*I,  0.263 + 0.067*I, -0.205 + 0.019*I,  0.455 - 0.022*I, -0.086 + 0.101*I,  0.199 - 0.209*I],\n",
       "[-0.175 - 0.012*I, -0.087 + 0.077*I, -0.082 + 0.843*I, -0.179 + 0.004*I,  -0.055 + 0.37*I, -0.061 + 0.074*I,  0.126 + 0.196*I,  0.004 + 0.058*I],\n",
       "[ 0.126 + 0.014*I, -0.374 - 0.019*I,  0.055 + 0.175*I,  0.759 - 0.456*I,   0.078 + 0.01*I,  0.103 - 0.045*I,  0.038 - 0.029*I,  0.037 - 0.057*I]])"
      ]
     },
     "execution_count": 49,
     "metadata": {},
     "output_type": "execute_result"
    }
   ],
   "source": [
    "a_ = 1\n",
    "b_ = 1\n",
    "time = 1\n",
    "\n",
    "# Define a target circuit as a unitary matrix\n",
    "target_shape = non_hermitian_gate(time, a_, b_).shape\n",
    "unitary = np.fromiter(non_hermitian_gate(time, a_, b_), dtype=complex).reshape(target_shape)\n",
    "\n",
    "# Define a number of qubits for the algorithm, at least 3 qubits\n",
    "num_qubits = int(round(np.log2(unitary.shape[0])))\n",
    "\n",
    "\"\"\"\n",
    "    Args:\n",
    "        num_qubits: number of qubits.\n",
    "        network_layout: type of network geometry, ``{\"sequ\", \"spin\", \"cart\", \"cyclic_spin\",\n",
    "            \"cyclic_line\"}``.\n",
    "        connectivity_type: type of inter-qubit connectivity, ``{\"full\", \"line\", \"star\"}``.\n",
    "        depth: depth of the CNOT-network, i.e. the number of layers, where each layer consists of\n",
    "            a single CNOT-block; default value will be selected, if ``L <= 0``.\n",
    "\"\"\"\n",
    "cnots = make_cnot_network(num_qubits, network_layout='spin', connectivity_type='full', depth=2)\n",
    "\n",
    "# Create an optimizer to be used by AQC\n",
    "optimizer = L_BFGS_B()\n",
    "\n",
    "# Create an instance\n",
    "aqc = AQC(optimizer)\n",
    "\n",
    "# Create a template circuit that will approximate our target circuit\n",
    "approximate_circuit = CNOTUnitCircuit(num_qubits=num_qubits, cnots=cnots)\n",
    "\n",
    "# Create an objective that defines our optimization problem\n",
    "approximating_objective = DefaultCNOTUnitObjective(num_qubits=num_qubits, cnots=cnots)\n",
    "\n",
    "# Run optimization process to compile the unitary\n",
    "aqc.compile_unitary(\n",
    "    target_matrix=unitary,\n",
    "    approximate_circuit=approximate_circuit,\n",
    "    approximating_objective=approximating_objective,\n",
    ")\n",
    "\n",
    "qc = QuantumCircuit(3, 3)\n",
    "qc.append(approximate_circuit, [0, 1, 2])\n",
    "\n",
    "qc_basis = transpile(qc, backend)\n",
    "print(dict(qc_basis.count_ops()))\n",
    "\n",
    "#job execution and getting the result as an object\n",
    "backend_u = Aer.get_backend('unitary_simulator')\n",
    "job = execute(qc, backend_u)\n",
    "result = job.result()\n",
    "#get the unitary matrix from the result object\n",
    "smp.Matrix(result.get_unitary(qc, decimals=3))"
   ]
  },
  {
   "cell_type": "code",
   "execution_count": 48,
   "metadata": {},
   "outputs": [
    {
     "data": {
      "text/latex": [
       "$\\displaystyle \\left[\\begin{matrix}0.135335283236613 & 0 & 0 & 0 & -0.0975034041439146 & 0.713437032730536 - 0.0175522069481042 i & 0.163309840466704 - 0.641466837223519 i & 0.120287511992112 + 0.101282154693983 i\\\\0 & 0.509157819444385 & 0.490842180555614 i & 0 & -0.366618541887685 + 0.109569113228305 i & -0.308844855596663 - 0.163660534989619 i & 0.322376750987946 - 0.173192783447113 i & 0.274410960588464 - 0.148404589579168 i\\\\0 & - 0.49084218055565 i & 0.50915781944435 & 0 & -0.109569123725517 - 0.366618547761125 i & 0.163660531511562 - 0.308844846696526 i & 0.173192772775512 + 0.32237674787338 i & 0.148404594171478 + 0.274410968552022 i\\\\0 & 0 & 0 & 0.135335283236613 & -0.603964024338815 & 0.137016925539915 - 0.108723399326221 i & 0.0045507084294956 + 0.0854274010103239 i & -0.747085016430853 - 0.14443971546702 i\\\\0.990799859260822 & 0 & 0 & 0 & 0.0133181799462458 & -0.0974497543511041 + 0.0023974901455088 i & -0.0223068092998885 + 0.0876192051211082 i & -0.0164303056294587 - 0.0138343268463428 i\\\\0 & 0.499916127308378 + 7.45058059692409 \\cdot 10^{-9} i & -7.45058059692356 \\cdot 10^{-9} - 0.499916127308414 i & 0 & -0.345512006622818 - 0.199087103184272 i & -0.111046579918695 + 0.30163706522048 i & -0.363985017851747 - 0.10133484150454 i & 0.149065495800995 + 0.269931255231723 i\\\\0 & 7.45058059692409 \\cdot 10^{-9} + 0.499916127308378 i & 0.499916127308414 + 7.45058059692356 \\cdot 10^{-9} i & 0 & -0.195072772984154 + 0.358943965525747 i & 0.29564096494763 + 0.122361859537104 i & -0.107680178669602 + 0.352173964344658 i & 0.264494093344481 - 0.159119206532911 i\\\\0 & 0 & 0 & 0.990799859260822 & 0.082496622839246 & -0.0187154088213015 + 0.014850740949074 i & -0.000621590130919572 - 0.011668695149518 i & 0.102045798003977 + 0.0197293021599017 i\\end{matrix}\\right]$"
      ],
      "text/plain": [
       "Matrix([\n",
       "[0.135335283236613,                                         0,                                          0,                 0,                      -0.0975034041439146,   0.713437032730536 - 0.0175522069481042*I,     0.163309840466704 - 0.641466837223519*I,    0.120287511992112 + 0.101282154693983*I],\n",
       "[                0,                         0.509157819444385,                        0.490842180555614*I,                 0, -0.366618541887685 + 0.109569113228305*I,   -0.308844855596663 - 0.163660534989619*I,     0.322376750987946 - 0.173192783447113*I,    0.274410960588464 - 0.148404589579168*I],\n",
       "[                0,                       -0.49084218055565*I,                           0.50915781944435,                 0, -0.109569123725517 - 0.366618547761125*I,    0.163660531511562 - 0.308844846696526*I,      0.173192772775512 + 0.32237674787338*I,    0.148404594171478 + 0.274410968552022*I],\n",
       "[                0,                                         0,                                          0, 0.135335283236613,                       -0.603964024338815,    0.137016925539915 - 0.108723399326221*I,   0.0045507084294956 + 0.0854274010103239*I,    -0.747085016430853 - 0.14443971546702*I],\n",
       "[0.990799859260822,                                         0,                                          0,                 0,                       0.0133181799462458, -0.0974497543511041 + 0.0023974901455088*I,  -0.0223068092998885 + 0.0876192051211082*I, -0.0164303056294587 - 0.0138343268463428*I],\n",
       "[                0, 0.499916127308378 + 7.45058059692409e-9*I, -7.45058059692356e-9 - 0.499916127308414*I,                 0, -0.345512006622818 - 0.199087103184272*I,    -0.111046579918695 + 0.30163706522048*I,     -0.363985017851747 - 0.10133484150454*I,    0.149065495800995 + 0.269931255231723*I],\n",
       "[                0, 7.45058059692409e-9 + 0.499916127308378*I,  0.499916127308414 + 7.45058059692356e-9*I,                 0, -0.195072772984154 + 0.358943965525747*I,     0.29564096494763 + 0.122361859537104*I,    -0.107680178669602 + 0.352173964344658*I,    0.264494093344481 - 0.159119206532911*I],\n",
       "[                0,                                         0,                                          0, 0.990799859260822,                        0.082496622839246,  -0.0187154088213015 + 0.014850740949074*I, -0.000621590130919572 - 0.011668695149518*I,   0.102045798003977 + 0.0197293021599017*I]])"
      ]
     },
     "execution_count": 48,
     "metadata": {},
     "output_type": "execute_result"
    }
   ],
   "source": [
    "smp.Matrix(unitary)"
   ]
  },
  {
   "cell_type": "markdown",
   "metadata": {},
   "source": [
    "## Comparison of unitary with approximation"
   ]
  },
  {
   "cell_type": "code",
   "execution_count": 39,
   "metadata": {},
   "outputs": [
    {
     "name": "stdout",
     "output_type": "stream",
     "text": [
      "{'01': 0.244, '11': 0.244, '00': 0.262, '10': 0.25}\n",
      "{'rz': 53, 'sx': 32, 'cx': 32, 'measure': 3, 'x': 2, 'barrier': 1}\n",
      "{'00': 0.23, '10': 0.274, '01': 0.285, '11': 0.211}\n",
      "{'rz': 82, 'sx': 54, 'cx': 38, 'measure': 3, 'x': 2, 'barrier': 1}\n",
      "{'01': 0.312, '11': 0.179, '10': 0.358, '00': 0.151}\n",
      "{'rz': 82, 'sx': 55, 'cx': 38, 'measure': 3, 'x': 1, 'barrier': 1}\n",
      "{'01': 0.399, '11': 0.12, '00': 0.114, '10': 0.368}\n",
      "{'rz': 78, 'sx': 54, 'cx': 37, 'measure': 3, 'x': 1, 'barrier': 1}\n",
      "{'00': 0.086, '10': 0.406, '01': 0.422, '11': 0.086}\n",
      "{'rz': 82, 'sx': 55, 'cx': 38, 'measure': 3, 'x': 1, 'barrier': 1}\n"
     ]
    }
   ],
   "source": [
    "\"\"\"\n",
    "times = []\n",
    "res = []\n",
    "iterations = 10a0\n",
    "time = 1/100\n",
    "N = 5\n",
    "v= 1/2\n",
    "w= 1\n",
    "num_time_slices = 1\n",
    "\"\"\"\n",
    "\n",
    "\n",
    "# Variables\n",
    "#time = 1\n",
    "A = 20\n",
    "B = 1\n",
    "\n",
    "\n",
    "for time in range(0, 5):\n",
    "    time *= 0.1\n",
    "    #for itr in range(iterations):\n",
    "    # Circuit\n",
    "    qc = QuantumCircuit(3, 3)\n",
    "\n",
    "    qc.x(0)\n",
    "    qc.x(1)\n",
    "\n",
    "    qc.h(0)\n",
    "    qc.h(1)\n",
    "    # Apply unitary gate\n",
    "    qc.append(UnitaryGate(non_hermitian_gate(time, A, B)), [0, 1, 2])\n",
    "\n",
    "    # Measurement\n",
    "    qc.measure(0,0)\n",
    "    qc.measure(1,1)\n",
    "    qc.measure(2,2)\n",
    "\n",
    "    # Simulation\n",
    "    svsim = Aer.get_backend('aer_simulator')\n",
    "    shots = 1000 #500\n",
    "    t_qpe = transpile(qc, svsim)\n",
    "    qobj = assemble(t_qpe, shots=shots)\n",
    "    results = svsim.run(qobj).result()\n",
    "    answer = results.get_counts()\n",
    "    desired = {}\n",
    "    for i in answer:\n",
    "        if i[0] != '1':\n",
    "            desired[i[1:]] = answer[i]\n",
    "    total = sum(desired.values())\n",
    "    for i in desired:\n",
    "        desired[i] /= total\n",
    "        desired[i] = round(desired[i], 3)\n",
    "    print(desired)\n",
    "    qc_basis = transpile(qc, backend)\n",
    "    print(dict(qc_basis.count_ops()))"
   ]
  },
  {
   "cell_type": "code",
   "execution_count": 40,
   "metadata": {},
   "outputs": [
    {
     "name": "stdout",
     "output_type": "stream",
     "text": [
      "{'11': 0.422, '01': 0.444, '10': 0.035, '00': 0.099}\n",
      "{'rz': 82, 'sx': 55, 'cx': 38, 'measure': 3, 'x': 1, 'barrier': 1}\n",
      "{'10': 0.124, '00': 0.331, '11': 0.105, '01': 0.44}\n",
      "{'rz': 82, 'sx': 55, 'cx': 38, 'measure': 3, 'x': 1, 'barrier': 1}\n",
      "{'01': 0.126, '11': 0.023, '10': 0.395, '00': 0.456}\n",
      "{'rz': 82, 'sx': 55, 'cx': 38, 'measure': 3, 'x': 1, 'barrier': 1}\n",
      "{'01': 0.129, '11': 0.192, '10': 0.417, '00': 0.262}\n",
      "{'rz': 82, 'sx': 55, 'cx': 38, 'measure': 3, 'x': 1, 'barrier': 1}\n",
      "{'01': 0.188, '10': 0.006, '00': 0.614, '11': 0.192}\n",
      "{'rz': 82, 'sx': 55, 'cx': 38, 'measure': 3, 'x': 1, 'barrier': 1}\n"
     ]
    }
   ],
   "source": [
    "a_ = 1\n",
    "b_ = 1\n",
    "num_qubits = 3\n",
    "optimizer = L_BFGS_B()\n",
    "aqc = AQC(optimizer)\n",
    "cnots = make_cnot_network(num_qubits, network_layout='spin', connectivity_type='full', depth=2)\n",
    "approximate_circuit = CNOTUnitCircuit(num_qubits=num_qubits, cnots=cnots)\n",
    "approximating_objective = DefaultCNOTUnitObjective(num_qubits=num_qubits, cnots=cnots)\n",
    "\n",
    "\n",
    "for time in range(0, 5):\n",
    "    time *= 0.1\n",
    "    #for itr in range(iterations):\n",
    "    # Circuit\n",
    "    qc = QuantumCircuit(3, 3)\n",
    "\n",
    "    qc.x(0)\n",
    "    qc.x(1)\n",
    "\n",
    "    qc.h(0)\n",
    "    qc.h(1)\n",
    "    \n",
    "    # Apply unitary gate\n",
    "    target_shape = non_hermitian_gate(time, a_, b_).shape\n",
    "    unitary = np.fromiter(non_hermitian_gate(time, a_, b_), dtype=complex).reshape(target_shape)\n",
    "    aqc.compile_unitary(\n",
    "        target_matrix=unitary,\n",
    "        approximate_circuit=approximate_circuit,\n",
    "        approximating_objective=approximating_objective,\n",
    "    )\n",
    "    qc.append(approximate_circuit, [0, 1, 2])\n",
    "\n",
    "    # Measurement\n",
    "    qc.measure(0,0)\n",
    "    qc.measure(1,1)\n",
    "    qc.measure(2,2)\n",
    "\n",
    "    # Simulation\n",
    "    svsim = Aer.get_backend('aer_simulator')\n",
    "    shots = 1000 #500\n",
    "    t_qpe = transpile(qc, svsim)\n",
    "    qobj = assemble(t_qpe, shots=shots)\n",
    "    results = svsim.run(qobj).result()\n",
    "    answer = results.get_counts()\n",
    "    desired = {}\n",
    "    for i in answer:\n",
    "        if i[0] != '1':\n",
    "            desired[i[1:]] = answer[i]\n",
    "    total = sum(desired.values())\n",
    "    for i in desired:\n",
    "        desired[i] /= total\n",
    "        desired[i] = round(desired[i], 3)\n",
    "    print(desired)\n",
    "    print(dict(qc_basis.count_ops()))"
   ]
  },
  {
   "cell_type": "code",
   "execution_count": null,
   "metadata": {},
   "outputs": [],
   "source": [
    "{'11': 0.24, '10': 0.224, '00': 0.263, '01': 0.273}\n",
    "{'01': 0.339, '10': 0.265, '00': 0.192, '11': 0.205}\n",
    "{'10': 0.338, '00': 0.136, '11': 0.139, '01': 0.387}\n",
    "{'00': 0.098, '10': 0.45, '01': 0.339, '11': 0.113}\n",
    "{'00': 0.061, '10': 0.434, '01': 0.421, '11': 0.084}"
   ]
  },
  {
   "cell_type": "markdown",
   "metadata": {},
   "source": [
    "## Ruizhe code"
   ]
  },
  {
   "cell_type": "code",
   "execution_count": 62,
   "metadata": {},
   "outputs": [
    {
     "name": "stderr",
     "output_type": "stream",
     "text": [
      "+0.020364037809 [best: +0.020364037809] :  34%|███████▍              | 336/1000 [00:19<00:38, 17.26it/s]"
     ]
    },
    {
     "name": "stdout",
     "output_type": "stream",
     "text": [
      "Fidelity: 97.40 %\n"
     ]
    },
    {
     "name": "stderr",
     "output_type": "stream",
     "text": [
      "\n"
     ]
    }
   ],
   "source": [
    "from quimb import *\n",
    "\n",
    "import quimb as qu\n",
    "\n",
    "import quimb.tensor as qtn\n",
    "\n",
    "import numpy as np\n",
    "\n",
    "import math\n",
    "\n",
    "import numpy as np\n",
    "\n",
    "import json\n",
    "\n",
    "from scipy.linalg import expm\n",
    "\n",
    "from quimb.gen.states import up,down\n",
    "\n",
    "import sys\n",
    "\n",
    "from numpy.linalg import matrix_power\n",
    "\n",
    "import scipy\n",
    "\n",
    "\n",
    "\n",
    "## ANSATZ from Quimb\n",
    "\n",
    "def ini_qubit_layer(circ, gate_round=None):\n",
    "\n",
    "    \"\"\"Apply a parametrizable layer of single qubit ``U3`` gates.\"\"\"\n",
    "\n",
    "    regs = range(0, circ.N)\n",
    "\n",
    "    for i in regs:\n",
    "\n",
    "        # initialize with random parameters\n",
    "\n",
    "        params = qu.randn(3, dist='uniform')\n",
    "\n",
    "        circ.apply_gate('U3', *params, i,gate_round=gate_round, parametrize=True)\n",
    "\n",
    "def single_qubit_layer(circ, gate_round=None,reverse=False,):\n",
    "\n",
    "    \"\"\"Apply a parametrizable layer of single qubit ``U3`` gates.\"\"\"\n",
    "\n",
    "    regs = range(0, circ.N-1)\n",
    "\n",
    "    if reverse:\n",
    "\n",
    "        regs = range(1, circ.N)\n",
    "\n",
    "    for i in regs:\n",
    "\n",
    "        # initialize with random parameters\n",
    "\n",
    "        params = qu.randn(3, dist='uniform')\n",
    "\n",
    "        circ.apply_gate('U3', *params, i,gate_round=gate_round, parametrize=True)\n",
    "\n",
    "\n",
    "\n",
    "def two_qubit_layer_trotter(circ, gate2='CNOT', reverse=False, gate_round=None):\n",
    "\n",
    "    \"\"\"Apply a layer of constant entangling gates.\n",
    "\n",
    "    \"\"\"\n",
    "\n",
    "    regs = range(0, circ.N - 1,2)\n",
    "\n",
    "    if reverse:\n",
    "\n",
    "        regs = range(1, circ.N,2)\n",
    "\n",
    "    for i in regs:\n",
    "\n",
    "        circ.apply_gate(\n",
    "\n",
    "            gate2, i, i + 1, gate_round=gate_round)\n",
    "\n",
    "\n",
    "\n",
    "def ansatz_circuit(n, depth, gate2='CZ', **kwargs):\n",
    "\n",
    "    \"\"\"Construct a circuit of single qubit and entangling layers.\"\"\"\n",
    "\n",
    "    circ = qtn.Circuit(n, **kwargs)\n",
    "\n",
    "    ini_qubit_layer(circ)\n",
    "\n",
    "    for r in range(depth):\n",
    "\n",
    "        two_qubit_layer_trotter(circ, gate2=gate2, gate_round=r, reverse=r % 2 == 0)\n",
    "\n",
    "        single_qubit_layer(circ, gate_round=r,reverse=r % 2 == 0)\n",
    "\n",
    "    return circ\n",
    "\n",
    "\n",
    "\n",
    "\n",
    "\n",
    "\n",
    "\n",
    "\n",
    "\n",
    "## parameters\n",
    "\n",
    "N = 2\n",
    "\n",
    "sx=np.array([[0,1],[1,0]])\n",
    "\n",
    "sy=np.array([[0,-1j],[1j,0]])\n",
    "\n",
    "sz=np.array([[1,0],[0,-1]])\n",
    "\n",
    "Id = np.eye(2)\n",
    "\n",
    "sxy=np.kron(sx,sy)\n",
    "\n",
    "syx=np.kron(sy,sx)\n",
    "\n",
    "\n",
    "\n",
    "## get unitary from QR \n",
    "\n",
    "# evolution time\n",
    "\n",
    "t=1\n",
    "\n",
    "U=expm(-1j*t*(1j*(sxy-syx)))\n",
    "\n",
    "\n",
    "\n",
    "E,V=np.linalg.eig(U.dot(U.conj().transpose()))\n",
    "\n",
    "U=U/np.sqrt(E.real.max())\n",
    "\n",
    "c=np.power(np.eye(2**N)-np.dot(U.conj().transpose(),U),0.5)\n",
    "\n",
    "nH=np.block([[U,np.eye(2**N)],[c,np.eye(2**N)]])\n",
    "\n",
    "U, R = scipy.linalg.qr(nH)\n",
    "\n",
    "\n",
    "U=non_hermitian_gate(1, 1, 1)\n",
    "\n",
    "# Total qubit\n",
    "\n",
    "n=N+1\n",
    "\n",
    "# number of layers\n",
    "\n",
    "depth =10\n",
    "\n",
    "gate2 = 'CNOT'\n",
    "\n",
    "circ = ansatz_circuit(n, depth,gate2)\n",
    "\n",
    "V = circ.uni\n",
    "\n",
    "# target unitary\n",
    "\n",
    "U_target=qtn.Tensor(data=U.reshape([2]*(2*n)),inds=[f'k{i}' for i in range(n)] + [f'b{i}' for i in range(n)],tags={'U_TARGET'})\n",
    "\n",
    "psi0=qu.core.kron(up(),up(),up(),up(),up())\n",
    "\n",
    "# loss function\n",
    "\n",
    "def loss(V,U):\n",
    "\n",
    "    return 1 - (abs((V.H & U).contract(all, optimize='auto-hq')) /2**n)\n",
    "\n",
    "    \n",
    "\n",
    "# use the autograd/jax based optimizer\n",
    "\n",
    "n_itr = 1000\n",
    "\n",
    "nhop=1\n",
    "\n",
    "## main\n",
    "\n",
    "tnopt = qtn.TNOptimizer(\n",
    "\n",
    "    V,                        # the tensor network we want to optimize\n",
    "\n",
    "    loss,                     # the function we want to minimize\n",
    "\n",
    "    loss_constants={'U': U_target},  # supply U to the loss function as a constant TN\n",
    "\n",
    "    tags=['U3'],              # only optimize U3 tensors\n",
    "\n",
    "    autodiff_backend='autograd',   # use 'autograd' for non-compiled optimization\n",
    "\n",
    "    optimizer='L-BFGS-B',     # the optimization algorithm\n",
    "\n",
    ")\n",
    "\n",
    "\n",
    "\n",
    "## Train the circuit\n",
    "\n",
    "V_opt = tnopt.optimize_basinhopping(n=n_itr, nhop=nhop)\n",
    "\n",
    "V_opt_dense = V_opt.to_dense([f'k{i}' for i in range(n)], [f'b{i}' for i in range(n)])\n",
    "\n",
    "\n",
    "\n",
    "# ##initial state for dynamics\n",
    "\n",
    "psi0=qu.core.kron(up(),up(),up())\n",
    "\n",
    "# psi0 = qu.rand_ket(2**n)\n",
    "\n",
    "# this is the exact state we want\n",
    "\n",
    "psif_exact = np.dot(U,psi0)\n",
    "\n",
    "# this is the state our circuit will produce if fed `psi0`\n",
    "\n",
    "psif_apprx = np.dot(V_opt_dense,psi0)\n",
    "\n",
    "print(f\"Fidelity: {100 * qu.fidelity(psif_apprx, psif_exact):.2f} %\")\n",
    "\n",
    "\n",
    "\n",
    "\n",
    "\n",
    "\n",
    "\n",
    "\n",
    "\n",
    "# pre-processing function to save gates into json files\n",
    "\n",
    "def pre_processing_gate(optimized_gates):\n",
    "\n",
    "    optimized_gates_save = []\n",
    "\n",
    "    for item in optimized_gates:\n",
    "\n",
    "        entry = []\n",
    "\n",
    "        if item.label == 'U3':\n",
    "\n",
    "            entry.append(str(item.label))\n",
    "\n",
    "            entry.append(item.params)\n",
    "\n",
    "            entry.append(item.qubits)\n",
    "\n",
    "        elif item.label == 'CNOT':\n",
    "\n",
    "            entry.append(str(item.label))\n",
    "\n",
    "            entry.append(item.qubits)\n",
    "\n",
    "        optimized_gates_save.append(entry)\n",
    "\n",
    "    return optimized_gates_save\n",
    "\n",
    "fidelity_val = [qu.fidelity(V_opt_dense @ psi0, psif_exact)]\n",
    "\n",
    "circ.update_params_from(V_opt)\n",
    "\n",
    "optimized_gates = circ.gates\n",
    "\n",
    "optimized_gates_save = []\n",
    "\n",
    "optimized_gates_save = pre_processing_gate(optimized_gates)\n",
    "\n",
    "# save gates to json files\n",
    "\n",
    "with open(str(t)+'.json','w') as fp:\n",
    "\n",
    "    json.dump(optimized_gates_save,fp)\n",
    "\n",
    "    \n",
    "\n",
    "with open('depth_'+str(t)+'.json','w') as fp:\n",
    "\n",
    "    json.dump(depth,fp)\n",
    "\n",
    "# # save the fidelity value to json files\n",
    "\n",
    "with open('fidelity_' + str(t) + '.json','w') as fp2:\n",
    "\n",
    "    json.dump(fidelity_val,fp2)\n",
    "\n",
    "\n",
    "\n",
    "\n",
    "\n",
    "\n",
    "\n",
    "# import gc\n",
    "\n",
    "# gc.collect()\n"
   ]
  },
  {
   "cell_type": "code",
   "execution_count": null,
   "metadata": {},
   "outputs": [],
   "source": [
    "# ReiZhe U = 96.1% Fidelity\n",
    "# My U \\approx 99% Fidelity"
   ]
  }
 ],
 "metadata": {
  "colab": {
   "authorship_tag": "ABX9TyPcyQku3bFwWKE7EDUVTCdA",
   "mount_file_id": "1Jb27pZdTCxsjpVvckkp6YsnXSnHw7ExK",
   "provenance": []
  },
  "kernelspec": {
   "display_name": "python3.9",
   "language": "python",
   "name": "python3.9.16"
  },
  "language_info": {
   "codemirror_mode": {
    "name": "ipython",
    "version": 3
   },
   "file_extension": ".py",
   "mimetype": "text/x-python",
   "name": "python",
   "nbconvert_exporter": "python",
   "pygments_lexer": "ipython3",
   "version": "3.9.16"
  }
 },
 "nbformat": 4,
 "nbformat_minor": 4
}
