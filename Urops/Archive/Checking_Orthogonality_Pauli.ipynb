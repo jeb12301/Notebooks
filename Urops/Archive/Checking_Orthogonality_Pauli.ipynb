{
 "cells": [
  {
   "cell_type": "code",
   "execution_count": 1,
   "id": "93748787-d37a-4837-a46b-2c4b24a3ec87",
   "metadata": {},
   "outputs": [],
   "source": [
    "import sympy as smp\n",
    "import numpy as np\n",
    "from sympy.physics.quantum.dagger import Dagger\n",
    "from sympy.physics.quantum import TensorProduct as TP"
   ]
  },
  {
   "cell_type": "code",
   "execution_count": 239,
   "id": "e9f776e8-f16f-4428-878d-0384ea8cfbeb",
   "metadata": {},
   "outputs": [],
   "source": [
    "def hs(mat1, mat2):\n",
    "    return smp.N(np.trace(Dagger(mat1)*mat2))\n",
    "\n",
    "def norm(mat1):\n",
    "    return mat1/hs(mat1, mat1)"
   ]
  },
  {
   "cell_type": "code",
   "execution_count": 3,
   "id": "aa06e06e-c66e-426f-8f28-699fce241160",
   "metadata": {},
   "outputs": [],
   "source": [
    "I = smp.Matrix([[1,0,0], [0,1,0], [0,0,1]])\n",
    "X = smp.Matrix([[0,0,1],[1,0,0], [0,1,0]])\n",
    "Z = smp.Matrix([[1,0,0], [0,smp.E**(1j*2*smp.pi/3),0], [0, 0, smp.E**(1j*4*smp.pi/3)]])\n",
    "\n",
    "\n",
    "H = (1/smp.sqrt(3))*smp.Matrix([[1,1,1],[1,smp.E**(1j*2*smp.pi/3),smp.E**(1j*4*smp.pi/3)], [1, smp.E**(1j*4*smp.pi/3), smp.E**(1j*2*smp.pi/3)]])\n",
    "#S = smp.Matrix([[1,0,0], [0,smp.E**(1j*2*smp.pi/3),0], [0, 0, 1]])#smp.sqrt(Z).doit().factor(deep=True)\n",
    "S = smp.Matrix([[smp.E**(1j*2*smp.pi/3),0,0], [0,1,0], [0, 0, 1]])\n",
    "#Y=Z*X\n",
    "CZ = TP(smp.Matrix([[1,0, 0], [0,0, 0], [0, 0, 0]]), I)+TP(smp.Matrix([[0,0, 0], [0,1, 0], [0, 0, 0]]), Z) + TP(smp.Matrix([[0,0, 0], [0,0, 0], [0, 0, 1]]), Z**2)\n",
    "CX = TP(smp.Matrix([[1,0, 0], [0,0, 0], [0, 0, 0]]), I)+TP(smp.Matrix([[0,0, 0], [0,1, 0], [0, 0, 0]]), X) + TP(smp.Matrix([[0,0, 0], [0,0, 0], [0, 0, 1]]), X**2)\n",
    "HS = smp.Matrix(H*S) #S, Z, I\n",
    "\n",
    "T_2 = TP(HS, HS)*CZ\n",
    "T_3 = TP(HS, HS, HS)*TP(CZ, I)*TP(I, CZ)\n",
    "T_4 = TP(HS, HS, HS, HS)*TP(CZ, CZ)*TP(I,CZ,I)\n",
    "\n",
    "w = smp.N(smp.E**(2*smp.I*smp.pi*1/3))"
   ]
  },
  {
   "cell_type": "code",
   "execution_count": 150,
   "id": "b6f4df97-f215-448b-a96e-c2874f47d347",
   "metadata": {},
   "outputs": [
    {
     "data": {
      "text/latex": [
       "$\\displaystyle 27.0$"
      ],
      "text/plain": [
       "27.0000000000000"
      ]
     },
     "execution_count": 150,
     "metadata": {},
     "output_type": "execute_result"
    }
   ],
   "source": [
    "Z_first = TP(Z, I, I) + TP(Z**2, I, I)\n",
    "\n",
    "Z_second = TP(Z, I, I) + w*TP(Z**2, I, I)\n",
    "\n",
    "smp.N(hs(Z_first, Z_second))"
   ]
  },
  {
   "cell_type": "code",
   "execution_count": 153,
   "id": "087365a1-6f1e-43e4-98ce-b4918b6d0a00",
   "metadata": {},
   "outputs": [
    {
     "data": {
      "text/latex": [
       "$\\displaystyle 54.0$"
      ],
      "text/plain": [
       "54.0000000000000"
      ]
     },
     "execution_count": 153,
     "metadata": {},
     "output_type": "execute_result"
    }
   ],
   "source": [
    "smp.N(hs(Z_first, Z_first))"
   ]
  },
  {
   "cell_type": "code",
   "execution_count": 156,
   "id": "63468688-6ec0-415f-9de1-dbcc1c76f7a2",
   "metadata": {},
   "outputs": [],
   "source": [
    "Z_1_ortho = smp.N(norm(Z_first))"
   ]
  },
  {
   "cell_type": "code",
   "execution_count": 157,
   "id": "c68ccd2c-e160-42d5-96db-bf528a9f08c3",
   "metadata": {},
   "outputs": [],
   "source": [
    "Z_2_ortho = smp.N(norm(Z_second))"
   ]
  },
  {
   "cell_type": "code",
   "execution_count": 189,
   "id": "3fe1d987-aa67-4a44-804d-7f1b83967d98",
   "metadata": {},
   "outputs": [],
   "source": [
    "Z_3 = smp.N(Z_2_ortho\\\n",
    "            -(1.2*Z_1_ortho))"
   ]
  },
  {
   "cell_type": "code",
   "execution_count": 190,
   "id": "5658596f-0fdd-4bc7-8e4d-3ef3ba8ef341",
   "metadata": {},
   "outputs": [
    {
     "data": {
      "text/latex": [
       "$\\displaystyle 1.04403065089105$"
      ],
      "text/plain": [
       "1.04403065089105"
      ]
     },
     "execution_count": 190,
     "metadata": {},
     "output_type": "execute_result"
    }
   ],
   "source": [
    "smp.N(hs(Z_1_ortho, Z_3))"
   ]
  },
  {
   "cell_type": "code",
   "execution_count": 240,
   "id": "c3b4f4be-b808-445c-bcf8-a569fa79e51e",
   "metadata": {},
   "outputs": [],
   "source": [
    "I = smp.Matrix([[1,0,0], [0,1,0], [0,0,1]])\n",
    "X = smp.Matrix([[0,0,1],[1,0,0], [0,1,0]])"
   ]
  },
  {
   "cell_type": "code",
   "execution_count": 251,
   "id": "4132fc73-462c-4b84-98e8-e2b32989e19b",
   "metadata": {},
   "outputs": [],
   "source": [
    "first = norm(1.5*I+2*X)"
   ]
  },
  {
   "cell_type": "code",
   "execution_count": 252,
   "id": "d3a20044-c482-4b93-8d39-775330fbb755",
   "metadata": {},
   "outputs": [
    {
     "data": {
      "text/latex": [
       "$\\displaystyle \\left[\\begin{matrix}0.08 & 0 & 0.106666666666667\\\\0.106666666666667 & 0.08 & 0\\\\0 & 0.106666666666667 & 0.08\\end{matrix}\\right]$"
      ],
      "text/plain": [
       "Matrix([\n",
       "[             0.08,                 0, 0.106666666666667],\n",
       "[0.106666666666667,              0.08,                 0],\n",
       "[                0, 0.106666666666667,              0.08]])"
      ]
     },
     "execution_count": 252,
     "metadata": {},
     "output_type": "execute_result"
    }
   ],
   "source": [
    "first"
   ]
  },
  {
   "cell_type": "code",
   "execution_count": 253,
   "id": "3ba4a731-06fd-44c4-8e47-ee5823a28182",
   "metadata": {},
   "outputs": [
    {
     "data": {
      "text/latex": [
       "$\\displaystyle 4.5$"
      ],
      "text/plain": [
       "4.50000000000000"
      ]
     },
     "execution_count": 253,
     "metadata": {},
     "output_type": "execute_result"
    }
   ],
   "source": [
    "np.trace(1.5*I+2*X)"
   ]
  },
  {
   "cell_type": "code",
   "execution_count": 289,
   "id": "e602b5ca-fe99-4478-8fa1-6167d802f692",
   "metadata": {},
   "outputs": [],
   "source": [
    "first = Z*X+Z*Z\n",
    "second = Z*X+w*Z*Z"
   ]
  },
  {
   "cell_type": "code",
   "execution_count": 290,
   "id": "ab39d753-df8d-4506-ad43-b1dd229d2e67",
   "metadata": {},
   "outputs": [],
   "source": [
    "first = first/smp.sqrt(smp.Abs(hs(first, first)))"
   ]
  },
  {
   "cell_type": "code",
   "execution_count": 294,
   "id": "58bd4242-2c3c-4f88-91d0-d19596c761ef",
   "metadata": {},
   "outputs": [],
   "source": [
    "third = smp.N(second - hs(first, second)*first)"
   ]
  },
  {
   "cell_type": "code",
   "execution_count": null,
   "id": "1c1441f0-28a5-49ca-9d97-06e5d933554a",
   "metadata": {},
   "outputs": [],
   "source": []
  },
  {
   "cell_type": "code",
   "execution_count": null,
   "id": "e9e0af1d-2c5a-4f3f-84a8-7cb574bc6f6e",
   "metadata": {},
   "outputs": [],
   "source": []
  },
  {
   "cell_type": "code",
   "execution_count": null,
   "id": "f3e7e9f8-14e5-473e-8746-c3b547f2a406",
   "metadata": {},
   "outputs": [],
   "source": []
  },
  {
   "cell_type": "code",
   "execution_count": 1,
   "id": "92333ecc-c15c-419a-99d9-a91f5611dd5c",
   "metadata": {},
   "outputs": [
    {
     "name": "stdout",
     "output_type": "stream",
     "text": [
      "30\n"
     ]
    }
   ],
   "source": [
    "dim = 3 # Dimension\n",
    "\n",
    "def modadd(state, Z_or_X, index):\n",
    "    if state[Z_or_X][index] == dim-1:\n",
    "        state[Z_or_X][index]=0\n",
    "    else:\n",
    "        state[Z_or_X][index]+=1\n",
    "    return state\n",
    "\n",
    "def evolution(state, size):\n",
    "    Z_part, X_part = state\n",
    "    new_state = [[0 for _ in range(size)],[0 for _ in range(size)]]\n",
    "    # X to Z evolution\n",
    "    for i in range(size):\n",
    "        for k in range(X_part[i]):\n",
    "            # Z\n",
    "            new_state = modadd(new_state, 0, i)\n",
    "            new_state = modadd(new_state, 0, i)\n",
    "    # Z evolution\n",
    "    for i in range(size):\n",
    "        for k in range(Z_part[i]):\n",
    "            if i == 0: # Boundary\n",
    "                # Z\n",
    "                new_state = modadd(new_state, 0, i)\n",
    "                new_state = modadd(new_state, 0, i)\n",
    "                new_state = modadd(new_state, 0, i+1)\n",
    "                new_state = modadd(new_state, 0, i+1)\n",
    "                # X\n",
    "                new_state = modadd(new_state, 1, i)\n",
    "            elif i < size-1:\n",
    "                # Z\n",
    "                new_state = modadd(new_state, 0, i-1)\n",
    "                new_state = modadd(new_state, 0, i-1)\n",
    "                new_state = modadd(new_state, 0, i)\n",
    "                new_state = modadd(new_state, 0, i)\n",
    "                new_state = modadd(new_state, 0, i+1)\n",
    "                new_state = modadd(new_state, 0, i+1)\n",
    "                # X\n",
    "                new_state = modadd(new_state, 1, i)\n",
    "            else:\n",
    "                # Z\n",
    "                new_state = modadd(new_state, 0, i-1)\n",
    "                new_state = modadd(new_state, 0, i-1)\n",
    "                new_state = modadd(new_state, 0, i)\n",
    "                new_state = modadd(new_state, 0, i)\n",
    "                # X\n",
    "                new_state = modadd(new_state, 1, i) \n",
    "    return new_state\n",
    "\n",
    "state_0=[[1, 0, 0],[0, 0, 0]] # (Z, X)\n",
    "\n",
    "size = len(state_0[0])\n",
    "\n",
    "state = evolution(state_0, size)\n",
    "\n",
    "all_states = [state_0]\n",
    "\n",
    "while state != state_0:\n",
    "    all_states.append(state)\n",
    "    state = evolution(state, size)\n",
    "print(len(all_states))\n"
   ]
  },
  {
   "cell_type": "code",
   "execution_count": 2,
   "id": "a3aa05c7-49f6-4e97-b9ad-633c709cb89e",
   "metadata": {},
   "outputs": [
    {
     "ename": "NameError",
     "evalue": "name 'np' is not defined",
     "output_type": "error",
     "traceback": [
      "\u001b[0;31m---------------------------------------------------------------------------\u001b[0m",
      "\u001b[0;31mNameError\u001b[0m                                 Traceback (most recent call last)",
      "Cell \u001b[0;32mIn[2], line 1\u001b[0m\n\u001b[0;32m----> 1\u001b[0m l3 \u001b[38;5;241m=\u001b[39m \u001b[43mnp\u001b[49m\u001b[38;5;241m.\u001b[39mmatrix([[\u001b[38;5;241m1\u001b[39m, \u001b[38;5;241m0\u001b[39m, \u001b[38;5;241m0\u001b[39m], [\u001b[38;5;241m0\u001b[39m, \u001b[38;5;241m-\u001b[39m\u001b[38;5;241m1\u001b[39m, \u001b[38;5;241m0\u001b[39m], [\u001b[38;5;241m0\u001b[39m, \u001b[38;5;241m0\u001b[39m, \u001b[38;5;241m0\u001b[39m]])\n\u001b[1;32m      3\u001b[0m l8 \u001b[38;5;241m=\u001b[39m np\u001b[38;5;241m.\u001b[39mmatrix([[\u001b[38;5;241m1\u001b[39m, \u001b[38;5;241m0\u001b[39m, \u001b[38;5;241m0\u001b[39m], [\u001b[38;5;241m0\u001b[39m, \u001b[38;5;241m1\u001b[39m, \u001b[38;5;241m0\u001b[39m], [\u001b[38;5;241m0\u001b[39m, \u001b[38;5;241m0\u001b[39m, \u001b[38;5;241m-\u001b[39m\u001b[38;5;241m2\u001b[39m]])\u001b[38;5;241m*\u001b[39m\u001b[38;5;241m1\u001b[39m\u001b[38;5;241m/\u001b[39mnp\u001b[38;5;241m.\u001b[39msqrt(\u001b[38;5;241m3\u001b[39m)\n",
      "\u001b[0;31mNameError\u001b[0m: name 'np' is not defined"
     ]
    }
   ],
   "source": [
    "l3 = np.matrix([[1, 0, 0], [0, -1, 0], [0, 0, 0]])\n",
    "\n",
    "l8 = np.matrix([[1, 0, 0], [0, 1, 0], [0, 0, -2]])*1/np.sqrt(3)\n"
   ]
  },
  {
   "cell_type": "code",
   "execution_count": null,
   "id": "6aae5cbc-34df-486b-ab96-c267c8a39594",
   "metadata": {},
   "outputs": [],
   "source": []
  }
 ],
 "metadata": {
  "kernelspec": {
   "display_name": "python3.9",
   "language": "python",
   "name": "python3.9.16"
  },
  "language_info": {
   "codemirror_mode": {
    "name": "ipython",
    "version": 3
   },
   "file_extension": ".py",
   "mimetype": "text/x-python",
   "name": "python",
   "nbconvert_exporter": "python",
   "pygments_lexer": "ipython3",
   "version": "3.9.16"
  }
 },
 "nbformat": 4,
 "nbformat_minor": 5
}
