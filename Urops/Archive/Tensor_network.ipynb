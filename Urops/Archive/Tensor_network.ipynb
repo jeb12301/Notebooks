{
 "cells": [
  {
   "cell_type": "code",
   "execution_count": 1,
   "id": "28ae422e-fc14-45e8-b668-4a8d4224cea6",
   "metadata": {},
   "outputs": [],
   "source": [
    "import sympy as smp"
   ]
  },
  {
   "cell_type": "markdown",
   "id": "90494a0b-6cbf-42bf-ac8f-5a6161497ff1",
   "metadata": {},
   "source": [
    "page 6"
   ]
  },
  {
   "cell_type": "code",
   "execution_count": 16,
   "id": "62405ee4-fa9d-4941-84be-b9019269d80c",
   "metadata": {},
   "outputs": [
    {
     "data": {
      "text/latex": [
       "$\\displaystyle \\left[\\begin{matrix}0 & a d - b c\\\\- a d + b c & 0\\end{matrix}\\right]$"
      ],
      "text/plain": [
       "Matrix([\n",
       "[         0, a*d - b*c],\n",
       "[-a*d + b*c,         0]])"
      ]
     },
     "execution_count": 16,
     "metadata": {},
     "output_type": "execute_result"
    }
   ],
   "source": [
    "a, b, c, d = smp.symbols('a b c d')\n",
    "S = smp.Matrix([[a, b], [c, d]])\n",
    "e = smp.Matrix([[0, 1], [-1, 0]])\n",
    "S*e*S.T"
   ]
  },
  {
   "cell_type": "markdown",
   "id": "2d9d47b6-57bd-4bb2-b857-e7adb8bb20b9",
   "metadata": {},
   "source": [
    "$(S\\epsilon)_{ik}=\\sum_j S_{ij} \\epsilon_{jk}$\n",
    "\n",
    "and\n",
    "\n",
    "$(S\\epsilon S)_{il}=\\sum_k (S\\epsilon)_{ik} S_{lk} = \\sum_k (S\\epsilon)_{ik} S^T_{kl}$"
   ]
  },
  {
   "cell_type": "markdown",
   "id": "d912aa75-4874-4282-8aff-c38be8a84379",
   "metadata": {},
   "source": [
    "page 7 write the algebraic form + draw tensor network"
   ]
  },
  {
   "cell_type": "code",
   "execution_count": 146,
   "id": "863b32d8-9473-490b-8ecb-fa0e28406d25",
   "metadata": {},
   "outputs": [
    {
     "data": {
      "text/latex": [
       "$\\displaystyle \\left[\\begin{matrix}- \\frac{\\sqrt{2} i}{2} & \\frac{\\sqrt{2}}{2}\\\\\\frac{\\sqrt{2} i}{2} & \\frac{\\sqrt{2}}{2}\\end{matrix}\\right]$"
      ],
      "text/plain": [
       "Matrix([\n",
       "[-sqrt(2)*I/2, sqrt(2)/2],\n",
       "[ sqrt(2)*I/2, sqrt(2)/2]])"
      ]
     },
     "execution_count": 146,
     "metadata": {},
     "output_type": "execute_result"
    }
   ],
   "source": [
    "import sympy as smp\n",
    "from sympy.vector import *\n",
    "I = smp.Matrix([[1,0], [0,1]])\n",
    "X = smp.Matrix([[0,1],[1,0]])\n",
    "Z = smp.Matrix([[1, 0],[0, -1]])\n",
    "H = smp.Matrix([[1, 1],[1, -1]])*(1/smp.sqrt(2))\n",
    "S = smp.Matrix([[1, 0],[0, -smp.I]])\n",
    "H*S*H"
   ]
  },
  {
   "cell_type": "code",
   "execution_count": 3,
   "id": "cc70026b-3b58-4e38-b85d-d7981b413fe4",
   "metadata": {},
   "outputs": [
    {
     "data": {
      "text/latex": [
       "$\\displaystyle \\left[\\begin{matrix}0 & - i\\\\i & 0\\end{matrix}\\right]$"
      ],
      "text/plain": [
       "Matrix([\n",
       "[0, -I],\n",
       "[I,  0]])"
      ]
     },
     "execution_count": 3,
     "metadata": {},
     "output_type": "execute_result"
    }
   ],
   "source": [
    "X*smp.I*Z"
   ]
  },
  {
   "cell_type": "code",
   "execution_count": 154,
   "id": "8d56cd3c-7ed0-4437-9959-73f21037e1b9",
   "metadata": {},
   "outputs": [
    {
     "data": {
      "text/latex": [
       "$\\displaystyle \\left[\\begin{matrix}- i & 0\\\\0 & i\\end{matrix}\\right]$"
      ],
      "text/plain": [
       "Matrix([\n",
       "[-I, 0],\n",
       "[ 0, I]])"
      ]
     },
     "execution_count": 154,
     "metadata": {},
     "output_type": "execute_result"
    }
   ],
   "source": [
    "H*S*X*S*H"
   ]
  },
  {
   "cell_type": "code",
   "execution_count": 11,
   "id": "178f1f44-0f79-4d72-bb13-9e67c31cf8e8",
   "metadata": {},
   "outputs": [
    {
     "data": {
      "text/latex": [
       "$\\displaystyle \\left[\\begin{matrix}1 & 0\\\\0 & -1\\end{matrix}\\right]$"
      ],
      "text/plain": [
       "Matrix([\n",
       "[1,  0],\n",
       "[0, -1]])"
      ]
     },
     "execution_count": 11,
     "metadata": {},
     "output_type": "execute_result"
    }
   ],
   "source": [
    "Z*X**2"
   ]
  },
  {
   "cell_type": "markdown",
   "id": "8ea6b4d7-bede-4809-8526-c5905735047a",
   "metadata": {},
   "source": [
    "## Suzuki Trotter"
   ]
  },
  {
   "cell_type": "code",
   "execution_count": 1,
   "id": "bb33d314-b60a-4f6b-9f4f-738900c59c71",
   "metadata": {},
   "outputs": [
    {
     "data": {
      "text/latex": [
       "$\\displaystyle \\frac{H^{12}}{518400} + \\frac{H^{11}}{43200} + \\frac{H^{10}}{5400} + \\frac{H^{9}}{864} + \\frac{17 H^{8}}{2880} + \\frac{H^{7}}{40} + \\frac{4 H^{6}}{45} + \\frac{4 H^{5}}{15} + \\frac{2 H^{4}}{3} + \\frac{4 H^{3}}{3} + 2 H^{2} + 2 H + 1$"
      ],
      "text/plain": [
       "H**12/518400 + H**11/43200 + H**10/5400 + H**9/864 + 17*H**8/2880 + H**7/40 + 4*H**6/45 + 4*H**5/15 + 2*H**4/3 + 4*H**3/3 + 2*H**2 + 2*H + 1"
      ]
     },
     "metadata": {},
     "output_type": "display_data"
    },
    {
     "data": {
      "text/latex": [
       "$\\displaystyle \\frac{4 H^{6}}{45} + \\frac{4 H^{5}}{15} + \\frac{2 H^{4}}{3} + \\frac{4 H^{3}}{3} + 2 H^{2} + 2 H + 1$"
      ],
      "text/plain": [
       "4*H**6/45 + 4*H**5/15 + 2*H**4/3 + 4*H**3/3 + 2*H**2 + 2*H + 1"
      ]
     },
     "metadata": {},
     "output_type": "display_data"
    }
   ],
   "source": [
    "import sympy as smp\n",
    "\n",
    "H = smp.symbols('H')\n",
    "\n",
    "seperated = (1+H+H**2/smp.factorial(2)+H**3/smp.factorial(3)\\\n",
    "             +H**4/smp.factorial(4)+H**5/smp.factorial(5)+H**6/smp.factorial(6))\n",
    "\n",
    "\n",
    "total = (1+(2*H)+(2*H)**2/smp.factorial(2)+(2*H)**3/smp.factorial(3)\\\n",
    "         +(2*H)**4/smp.factorial(4)+(2*H)**5/smp.factorial(5)+(2*H)**6/smp.factorial(6))\n",
    "\n",
    "\n",
    "display(smp.expand(seperated*seperated))\n",
    "\n",
    "display(total)"
   ]
  },
  {
   "cell_type": "code",
   "execution_count": 6,
   "id": "5f774892-3e2c-453d-ac4a-95c5554dc96b",
   "metadata": {},
   "outputs": [
    {
     "data": {
      "text/latex": [
       "$\\displaystyle \\frac{H^{12}}{518400} + \\frac{i H^{11}}{43200} - \\frac{H^{10}}{5400} - \\frac{i H^{9}}{864} + \\frac{17 H^{8}}{2880} + \\frac{i H^{7}}{40} - \\frac{4 H^{6}}{45} - \\frac{4 i H^{5}}{15} + \\frac{2 H^{4}}{3} + \\frac{4 i H^{3}}{3} - 2 H^{2} - 2 i H + 1$"
      ],
      "text/plain": [
       "H**12/518400 + I*H**11/43200 - H**10/5400 - I*H**9/864 + 17*H**8/2880 + I*H**7/40 - 4*H**6/45 - 4*I*H**5/15 + 2*H**4/3 + 4*I*H**3/3 - 2*H**2 - 2*I*H + 1"
      ]
     },
     "metadata": {},
     "output_type": "display_data"
    },
    {
     "data": {
      "text/latex": [
       "$\\displaystyle - \\frac{4 H^{6}}{45} - \\frac{4 i H^{5}}{15} + \\frac{2 H^{4}}{3} + \\frac{4 i H^{3}}{3} - 2 H^{2} - 2 i H + 1$"
      ],
      "text/plain": [
       "-4*H**6/45 - 4*I*H**5/15 + 2*H**4/3 + 4*I*H**3/3 - 2*H**2 - 2*I*H + 1"
      ]
     },
     "metadata": {},
     "output_type": "display_data"
    }
   ],
   "source": [
    "seperated = (1+(-smp.I)*H+(-smp.I*H)**2/smp.factorial(2)+(-smp.I*H)**3/smp.factorial(3)\\\n",
    "             +(-smp.I*H)**4/smp.factorial(4)+(-smp.I*H)**5/smp.factorial(5)+(-smp.I*H)**6/smp.factorial(6))\n",
    "\n",
    "\n",
    "total = (1+(-smp.I*2*H)+(-smp.I*2*H)**2/smp.factorial(2)+(-smp.I*2*H)**3/smp.factorial(3)\\\n",
    "             +(-smp.I*2*H)**4/smp.factorial(4)+(-smp.I*2*H)**5/smp.factorial(5)+(-smp.I*2*H)**6/smp.factorial(6))\n",
    "\n",
    "display(smp.expand(seperated*seperated))\n",
    "\n",
    "display(smp.expand(total))"
   ]
  },
  {
   "cell_type": "code",
   "execution_count": null,
   "id": "88e19673-1128-461a-93a6-786bda199ec1",
   "metadata": {},
   "outputs": [],
   "source": []
  },
  {
   "cell_type": "markdown",
   "id": "16d982ff-201f-483f-a4e0-1a43dcc03f68",
   "metadata": {},
   "source": [
    "## Qudits\n"
   ]
  },
  {
   "cell_type": "code",
   "execution_count": 1,
   "id": "19ad8e61-a616-406d-a9b8-ecd1b6066a5d",
   "metadata": {},
   "outputs": [],
   "source": [
    "import sympy as smp\n",
    "from sympy.vector import *\n",
    "I = smp.Matrix([[1,0,0], [0,1,0], [0,0,1]])\n",
    "\n",
    "# Unique up to a phase\n",
    "Z = smp.Matrix([[1,0,0], [0,smp.E**(2*smp.pi*smp.I/3),0], [0,0,smp.E**(4*smp.pi*smp.I/3)]])\n",
    "\n",
    "# By convention we could let the cyclic group be (0, 1, 2), though (2, 1, 0) works.\n",
    "X = smp.Matrix([[0,0,1], [1,0,0], [0,1,0] ])\n",
    "# Hermitian"
   ]
  },
  {
   "cell_type": "markdown",
   "id": "5acfb53f-b5ba-4b40-9659-46e18c86ce22",
   "metadata": {},
   "source": [
    "phases are 1, e^2pi/3, e^4pi/3, so need to be able to extra the phase"
   ]
  },
  {
   "cell_type": "code",
   "execution_count": null,
   "id": "286958de-982a-4927-b36b-be145654aed1",
   "metadata": {},
   "outputs": [],
   "source": []
  },
  {
   "cell_type": "code",
   "execution_count": 21,
   "id": "55cddf0e-a8cb-4cbd-b61a-e5f995dbf6f9",
   "metadata": {},
   "outputs": [
    {
     "data": {
      "text/latex": [
       "$\\displaystyle \\left[\\begin{matrix}0 & 0 & 1\\\\e^{\\frac{2 i \\pi}{3}} & 0 & 0\\\\0 & e^{- \\frac{2 i \\pi}{3}} & 0\\end{matrix}\\right]$"
      ],
      "text/plain": [
       "Matrix([\n",
       "[            0,              0, 1],\n",
       "[exp(2*I*pi/3),              0, 0],\n",
       "[            0, exp(-2*I*pi/3), 0]])"
      ]
     },
     "execution_count": 21,
     "metadata": {},
     "output_type": "execute_result"
    }
   ],
   "source": [
    "Z*X"
   ]
  },
  {
   "cell_type": "code",
   "execution_count": 17,
   "id": "a2bb16af-6095-43f6-ac64-cd448125f95b",
   "metadata": {},
   "outputs": [
    {
     "data": {
      "text/latex": [
       "$\\displaystyle \\left[\\begin{matrix}0 & 0 & e^{- \\frac{2 i \\pi}{3}}\\\\1 & 0 & 0\\\\0 & e^{\\frac{2 i \\pi}{3}} & 0\\end{matrix}\\right]$"
      ],
      "text/plain": [
       "Matrix([\n",
       "[0,             0, exp(-2*I*pi/3)],\n",
       "[1,             0,              0],\n",
       "[0, exp(2*I*pi/3),              0]])"
      ]
     },
     "execution_count": 17,
     "metadata": {},
     "output_type": "execute_result"
    }
   ],
   "source": [
    "X*Z"
   ]
  },
  {
   "cell_type": "code",
   "execution_count": 15,
   "id": "7cfbc0e4-98f3-4dd2-b7e2-c2eca635c4b8",
   "metadata": {},
   "outputs": [
    {
     "data": {
      "text/latex": [
       "$\\displaystyle \\left[\\begin{matrix}e^{\\frac{2 i \\pi}{3}} & 0 & 0\\\\0 & e^{\\frac{2 i \\pi}{3}} & 0\\\\0 & 0 & e^{\\frac{2 i \\pi}{3}}\\end{matrix}\\right]$"
      ],
      "text/plain": [
       "Matrix([\n",
       "[exp(2*I*pi/3),             0,             0],\n",
       "[            0, exp(2*I*pi/3),             0],\n",
       "[            0,             0, exp(2*I*pi/3)]])"
      ]
     },
     "execution_count": 15,
     "metadata": {},
     "output_type": "execute_result"
    }
   ],
   "source": [
    "(Y*Z*Y*X) # Generates the global phase (take power)"
   ]
  },
  {
   "cell_type": "code",
   "execution_count": null,
   "id": "c5a26f6f-2f28-4297-ac4e-a690744671b9",
   "metadata": {},
   "outputs": [],
   "source": []
  },
  {
   "cell_type": "code",
   "execution_count": 138,
   "id": "387bccf1-e903-4531-8148-ac7f37796d6b",
   "metadata": {},
   "outputs": [],
   "source": [
    "Y = smp.E**(smp.I*smp.pi/3)*smp.Matrix([[0,0,1], [-1,0,0], [0,-1,0] ])\n",
    "# Does not work for the 1, some phase, some phase\n"
   ]
  },
  {
   "cell_type": "markdown",
   "id": "932d14b1-178b-4a50-b1cf-2757ac3c091b",
   "metadata": {},
   "source": [
    "Gell-man matrices span the 3^2 matrix for qutrits"
   ]
  },
  {
   "cell_type": "code",
   "execution_count": 40,
   "id": "1ca318ff-2dfb-44db-94cd-47dcb019927c",
   "metadata": {},
   "outputs": [],
   "source": [
    "import sympy as smp\n",
    "from sympy.vector import *\n",
    "I = smp.Matrix([[1,0,0,0,0,0], [0,1,0,0,0,0], [0,0,1,0,0,0], [0,0,0,1,0,0], [0,0,0,0,1,0], [0,0,0,0,0,1]])\n",
    "\n",
    "# Unique up to a phase\n",
    "Z = smp.Matrix([[1,0,0,0,0,0], [0,smp.E**(2*smp.pi*smp.I/6),0,0,0,0], [0,0,smp.E**(4*smp.pi*smp.I/6),0,0,0], [0,0,0,smp.E**(6*smp.pi*smp.I/6),0,0], [0,0,0,0,smp.E**(8*smp.pi*smp.I/6),0], [0,0,0,0,0,smp.E**(10*smp.pi*smp.I/6)]])\n",
    "\n",
    "# By convention we could let the cyclic group be (0, 1, 2), though (2, 1, 0) works.\n",
    "X = smp.Matrix([[0,0,0,0,0,1], [1,0,0,0,0,0], [0,1,0,0,0,0], [0,0,1,0,0,0], [0,0,0,1,0,0], [0,0,0,0,1,0]])\n",
    "# Hermitian"
   ]
  },
  {
   "cell_type": "code",
   "execution_count": 41,
   "id": "392e081a-4e88-4dc0-9f5d-bcb26f41c22a",
   "metadata": {},
   "outputs": [],
   "source": [
    "Y=smp.I*Z*X"
   ]
  },
  {
   "cell_type": "code",
   "execution_count": 42,
   "id": "894b6056-b9d6-496c-b1ec-aa08f425ce98",
   "metadata": {},
   "outputs": [
    {
     "data": {
      "text/latex": [
       "$\\displaystyle \\left[\\begin{matrix}1 & 0 & 0 & 0 & 0 & 0\\\\0 & 1 & 0 & 0 & 0 & 0\\\\0 & 0 & 1 & 0 & 0 & 0\\\\0 & 0 & 0 & 1 & 0 & 0\\\\0 & 0 & 0 & 0 & 1 & 0\\\\0 & 0 & 0 & 0 & 0 & 1\\end{matrix}\\right]$"
      ],
      "text/plain": [
       "Matrix([\n",
       "[1, 0, 0, 0, 0, 0],\n",
       "[0, 1, 0, 0, 0, 0],\n",
       "[0, 0, 1, 0, 0, 0],\n",
       "[0, 0, 0, 1, 0, 0],\n",
       "[0, 0, 0, 0, 1, 0],\n",
       "[0, 0, 0, 0, 0, 1]])"
      ]
     },
     "execution_count": 42,
     "metadata": {},
     "output_type": "execute_result"
    }
   ],
   "source": [
    "I"
   ]
  },
  {
   "cell_type": "code",
   "execution_count": 43,
   "id": "020cd541-8381-4e9a-a9b7-78c625f46196",
   "metadata": {},
   "outputs": [
    {
     "data": {
      "text/plain": [
       "True"
      ]
     },
     "execution_count": 43,
     "metadata": {},
     "output_type": "execute_result"
    }
   ],
   "source": [
    "(Y)**6==(Z)**6==(X)**6==I"
   ]
  },
  {
   "cell_type": "markdown",
   "id": "076eab56-f7db-4be1-ab8b-7404ebcc7130",
   "metadata": {},
   "source": [
    "## Paper"
   ]
  },
  {
   "cell_type": "code",
   "execution_count": 3,
   "id": "427350ac-8221-474a-8926-a85b879c850d",
   "metadata": {},
   "outputs": [],
   "source": [
    "import sympy as smp\n",
    "from sympy.physics.quantum.dagger import Dagger\n",
    "from sympy.physics.quantum import TensorProduct as TP\n",
    "from sympy.vector import *\n",
    "I = smp.Matrix([[1,0], [0,1]])\n",
    "X = smp.Matrix([[0,1],[1,0]])\n",
    "Z = smp.Matrix([[1, 0],[0, -1]])\n",
    "Y = smp.Matrix([[0,-smp.I],[smp.I,0]])\n",
    "H = smp.Matrix([[1, 1],[1, -1]])*(1/smp.sqrt(2))\n",
    "S = smp.Matrix([[1, 0],[0, smp.I]])\n",
    "\n",
    "CZ = TP(smp.Matrix([[1,0], [0,0]]), I) + TP(smp.Matrix([[0,0], [0,1]]), Z)\n",
    "\n",
    "T_2 = TP(H*S, H*S)*CZ\n",
    "T_3 = TP(H*S, H*S, H*S)*TP(CZ, I)*TP(I, CZ)\n",
    "T_4 = TP(H*S, H*S, H*S, H*S)*TP(CZ, CZ)*TP(I,CZ,I)"
   ]
  },
  {
   "cell_type": "code",
   "execution_count": 5,
   "id": "d9ecb627-8e7a-4120-bfde-5e2472838efb",
   "metadata": {},
   "outputs": [
    {
     "data": {
      "text/latex": [
       "$\\displaystyle \\left[\\begin{matrix}\\frac{1}{2} & \\frac{i}{2} & \\frac{i}{2} & \\frac{1}{2}\\\\\\frac{1}{2} & - \\frac{i}{2} & \\frac{i}{2} & - \\frac{1}{2}\\\\\\frac{1}{2} & \\frac{i}{2} & - \\frac{i}{2} & - \\frac{1}{2}\\\\\\frac{1}{2} & - \\frac{i}{2} & - \\frac{i}{2} & \\frac{1}{2}\\end{matrix}\\right]$"
      ],
      "text/plain": [
       "Matrix([\n",
       "[1/2,  I/2,  I/2,  1/2],\n",
       "[1/2, -I/2,  I/2, -1/2],\n",
       "[1/2,  I/2, -I/2, -1/2],\n",
       "[1/2, -I/2, -I/2,  1/2]])"
      ]
     },
     "execution_count": 5,
     "metadata": {},
     "output_type": "execute_result"
    }
   ],
   "source": [
    "T_2"
   ]
  },
  {
   "cell_type": "code",
   "execution_count": 12,
   "id": "69285062-9f7a-436a-8478-0091a067a7c0",
   "metadata": {},
   "outputs": [],
   "source": [
    "T_2 = TP(H*Z, H*Z)*CZ"
   ]
  },
  {
   "cell_type": "code",
   "execution_count": 13,
   "id": "fed13f02-9ed5-4c66-aa05-7b3a966d6f88",
   "metadata": {},
   "outputs": [
    {
     "data": {
      "text/latex": [
       "$\\displaystyle \\left[\\begin{matrix}0 & 0 & -1 & 0\\\\0 & 0 & 0 & 1\\\\-1 & 0 & 0 & 0\\\\0 & 1 & 0 & 0\\end{matrix}\\right]$"
      ],
      "text/plain": [
       "Matrix([\n",
       "[ 0, 0, -1, 0],\n",
       "[ 0, 0,  0, 1],\n",
       "[-1, 0,  0, 0],\n",
       "[ 0, 1,  0, 0]])"
      ]
     },
     "execution_count": 13,
     "metadata": {},
     "output_type": "execute_result"
    }
   ],
   "source": [
    "Dagger(T_2)*TP(Z, I)*T_2"
   ]
  },
  {
   "cell_type": "code",
   "execution_count": 11,
   "id": "5e945bf8-1ff8-408c-98db-78f0108cd792",
   "metadata": {},
   "outputs": [
    {
     "data": {
      "text/latex": [
       "$\\displaystyle \\left[\\begin{matrix}0 & 0 & 1 & 0\\\\0 & 0 & 0 & -1\\\\1 & 0 & 0 & 0\\\\0 & -1 & 0 & 0\\end{matrix}\\right]$"
      ],
      "text/plain": [
       "Matrix([\n",
       "[0,  0, 1,  0],\n",
       "[0,  0, 0, -1],\n",
       "[1,  0, 0,  0],\n",
       "[0, -1, 0,  0]])"
      ]
     },
     "execution_count": 11,
     "metadata": {},
     "output_type": "execute_result"
    }
   ],
   "source": [
    "TP(X, Z)"
   ]
  },
  {
   "cell_type": "code",
   "execution_count": 62,
   "id": "a6b9d8a2-c76f-4f3f-a439-85f858e105ce",
   "metadata": {},
   "outputs": [
    {
     "data": {
      "text/plain": [
       "True"
      ]
     },
     "execution_count": 62,
     "metadata": {},
     "output_type": "execute_result"
    }
   ],
   "source": [
    "# Identities\n",
    "\n",
    "Dagger(T_2)*TP(X, I)*T_2==TP(Z,I)\n",
    "\n",
    "Dagger(T_3)*TP(Z,I,I)*T_3==-TP(Y,Z,I)\n",
    "\n",
    "Dagger(T_3)*TP(I,Z,I)*T_3==-TP(Z, Y, Z)\n",
    "\n",
    "Dagger(T_3)*TP(I,I,Z)*T_3==-TP(I,Z,Y)\n",
    "\n",
    "\n",
    "# More Identities\n",
    "\n",
    "Dagger(T_3)*TP(Y,I, I)*T_3==-TP(X, Z, I) # T Y_1 T = X_1 Z_2\n",
    "\n",
    "Dagger(T_3)*TP(I,Y, I)*T_3 == -TP(Z,X, Z) # ex. T Y_3 T = Z_2 X_3 Z_4\n",
    "\n",
    "Dagger(T_3)*TP(I,X, I)*T_3 == TP(I, Z, I) # T X_i T = Z_i"
   ]
  },
  {
   "cell_type": "markdown",
   "id": "c5c878bd-d0aa-41bb-8262-454d5e2a961c",
   "metadata": {},
   "source": [
    "Reverse"
   ]
  },
  {
   "cell_type": "code",
   "execution_count": null,
   "id": "31249f43-1150-42b8-b1ce-32ef16ce74d3",
   "metadata": {},
   "outputs": [],
   "source": [
    "# Identities\n",
    "\n",
    "T_3*TP(I,X,I)*Dagger(T_3) == -TP(X,Y,X)\n",
    "\n",
    "T_3*TP(I,Z,I)*Dagger(T_3) == TP(I,X,I)\n",
    "\n",
    "T_3*TP(I,Y,I)*Dagger(T_3) == -TP(X, Z, X)\n",
    "\n",
    "\n"
   ]
  },
  {
   "cell_type": "code",
   "execution_count": 5,
   "id": "936f9df4-cb08-40a9-9799-d95db724c4e7",
   "metadata": {},
   "outputs": [
    {
     "data": {
      "text/latex": [
       "$\\displaystyle \\left[\\begin{matrix}0 & 0 & 0 & 0 & 0 & 0 & - i & 0\\\\0 & 0 & 0 & 0 & 0 & 0 & 0 & i\\\\0 & 0 & 0 & 0 & - i & 0 & 0 & 0\\\\0 & 0 & 0 & 0 & 0 & i & 0 & 0\\\\0 & 0 & i & 0 & 0 & 0 & 0 & 0\\\\0 & 0 & 0 & - i & 0 & 0 & 0 & 0\\\\i & 0 & 0 & 0 & 0 & 0 & 0 & 0\\\\0 & - i & 0 & 0 & 0 & 0 & 0 & 0\\end{matrix}\\right]$"
      ],
      "text/plain": [
       "Matrix([\n",
       "[0,  0, 0,  0,  0, 0, -I, 0],\n",
       "[0,  0, 0,  0,  0, 0,  0, I],\n",
       "[0,  0, 0,  0, -I, 0,  0, 0],\n",
       "[0,  0, 0,  0,  0, I,  0, 0],\n",
       "[0,  0, I,  0,  0, 0,  0, 0],\n",
       "[0,  0, 0, -I,  0, 0,  0, 0],\n",
       "[I,  0, 0,  0,  0, 0,  0, 0],\n",
       "[0, -I, 0,  0,  0, 0,  0, 0]])"
      ]
     },
     "execution_count": 5,
     "metadata": {},
     "output_type": "execute_result"
    }
   ],
   "source": [
    "smp.simplify(Dagger(T_3)**2*TP(Z,I,I)*T_3**2)"
   ]
  },
  {
   "cell_type": "code",
   "execution_count": null,
   "id": "b4b8f1fd-c045-4a73-bdb6-c18844498c18",
   "metadata": {},
   "outputs": [],
   "source": [
    "==-TP(Y,Z,I) XZI + X"
   ]
  },
  {
   "cell_type": "code",
   "execution_count": null,
   "id": "7c830f0e-cb29-40a0-aaf4-32c2d79506f6",
   "metadata": {},
   "outputs": [],
   "source": [
    "TP(Z, I, I) => TP(X, I, I) => TP(Y, X, I) \n",
    "=> TP(Y, Z, X) => TP(Z, X, Y) => TP(I, Z, Y)\n",
    "=> TP(I, I, Z) => TP(I, I, X) \n",
    "\n",
    "=> TP(I, X, Y) => TP(X, Z, Y) => TP(Y, X, Z)\n",
    "=> TP(Y, Z, I) => TP(Z, I, I)we c\n",
    "\n",
    "# 000, 100, 01 0, 001, 010, 000, 000, 001\n",
    "\n",
    "# Generates the different measurement statistics?"
   ]
  },
  {
   "cell_type": "code",
   "execution_count": null,
   "id": "c19938ed-fa31-48e7-bcd6-04f15ac60f3e",
   "metadata": {},
   "outputs": [],
   "source": []
  },
  {
   "cell_type": "code",
   "execution_count": null,
   "id": "f5a0cce2-b57b-4a72-9c4b-e5251846328c",
   "metadata": {},
   "outputs": [],
   "source": []
  },
  {
   "cell_type": "code",
   "execution_count": null,
   "id": "6c8a1a8c-52df-487f-a049-6367aff429da",
   "metadata": {},
   "outputs": [],
   "source": []
  },
  {
   "cell_type": "code",
   "execution_count": 2,
   "id": "eaabc0fa-5435-42b0-88bf-d663c9fb02df",
   "metadata": {},
   "outputs": [],
   "source": [
    "import sympy as smp\n",
    "from sympy.physics.quantum.dagger import Dagger\n",
    "from sympy.physics.quantum import TensorProduct as TP\n",
    "from sympy.vector import *\n",
    "I = smp.Matrix([[1,0,0], [0,1,0], [0,0,1]])\n",
    "X = smp.Matrix([[0,0,1],[1,0,0], [0,1,0]])\n",
    "Z = smp.Matrix([[1,0,0], [0,smp.E**(2*smp.pi/3),0], [0, 0, smp.E**(4*smp.pi/3)]])\n",
    "H = (1/smp.sqrt(3))*smp.Matrix([[1,1,1], [1,smp.E**(2*smp.pi/3),smp.E**(4*smp.pi/3)], [1, smp.E**(4*smp.pi/3), smp.E**(2*smp.pi/3)]])\n",
    "S = smp.sqrt(Z)\n",
    "Y=Z*X\n",
    "CZ = TP(smp.Matrix([[1,0, 0], [0,0, 0], [0, 0, 0]]), I)+TP(smp.Matrix([[0,0, 0], [0,1, 0], [0, 0, 0]]), I) + TP(smp.Matrix([[0,0, 0], [0,0, 0], [0, 0, 1]]), Z)\n",
    "\n",
    "\n",
    "T_2 = TP(H*S, H*S)*CZ\n",
    "T_3 = TP(H*S, H*S, H*S)*TP(CZ, I)*TP(I, CZ)\n",
    "T_4 = TP(H*S, H*S, H*S, H*S)*TP(CZ, CZ)*TP(I,CZ,I)"
   ]
  },
  {
   "cell_type": "code",
   "execution_count": 2,
   "id": "0f83552b-5511-4ba0-a5c8-bd2130916a8a",
   "metadata": {},
   "outputs": [
    {
     "data": {
      "text/latex": [
       "$\\displaystyle \\left[\\begin{matrix}1 & 0 & 0 & 0 & 0 & 0 & 0 & 0 & 0\\\\0 & 1 & 0 & 0 & 0 & 0 & 0 & 0 & 0\\\\0 & 0 & 1 & 0 & 0 & 0 & 0 & 0 & 0\\\\0 & 0 & 0 & 1 & 0 & 0 & 0 & 0 & 0\\\\0 & 0 & 0 & 0 & 1 & 0 & 0 & 0 & 0\\\\0 & 0 & 0 & 0 & 0 & 1 & 0 & 0 & 0\\\\0 & 0 & 0 & 0 & 0 & 0 & 1 & 0 & 0\\\\0 & 0 & 0 & 0 & 0 & 0 & 0 & e^{\\frac{2 \\pi}{3}} & 0\\\\0 & 0 & 0 & 0 & 0 & 0 & 0 & 0 & e^{\\frac{4 \\pi}{3}}\\end{matrix}\\right]$"
      ],
      "text/plain": [
       "Matrix([\n",
       "[1, 0, 0, 0, 0, 0, 0,           0,           0],\n",
       "[0, 1, 0, 0, 0, 0, 0,           0,           0],\n",
       "[0, 0, 1, 0, 0, 0, 0,           0,           0],\n",
       "[0, 0, 0, 1, 0, 0, 0,           0,           0],\n",
       "[0, 0, 0, 0, 1, 0, 0,           0,           0],\n",
       "[0, 0, 0, 0, 0, 1, 0,           0,           0],\n",
       "[0, 0, 0, 0, 0, 0, 1,           0,           0],\n",
       "[0, 0, 0, 0, 0, 0, 0, exp(2*pi/3),           0],\n",
       "[0, 0, 0, 0, 0, 0, 0,           0, exp(4*pi/3)]])"
      ]
     },
     "execution_count": 2,
     "metadata": {},
     "output_type": "execute_result"
    }
   ],
   "source": [
    "CZ"
   ]
  },
  {
   "cell_type": "code",
   "execution_count": 3,
   "id": "21f73ff5-246e-485b-8dc9-2f21e3694649",
   "metadata": {},
   "outputs": [
    {
     "data": {
      "text/latex": [
       "$\\displaystyle \\left[\\begin{matrix}\\frac{\\sqrt{3}}{3} & \\frac{\\sqrt{3}}{3} & \\frac{\\sqrt{3}}{3}\\\\\\frac{\\sqrt{3}}{3} & \\frac{\\sqrt{3} e^{\\frac{2 \\pi}{3}}}{3} & \\frac{\\sqrt{3} e^{\\frac{4 \\pi}{3}}}{3}\\\\\\frac{\\sqrt{3}}{3} & \\frac{\\sqrt{3} e^{\\frac{4 \\pi}{3}}}{3} & \\frac{\\sqrt{3} e^{\\frac{2 \\pi}{3}}}{3}\\end{matrix}\\right]$"
      ],
      "text/plain": [
       "Matrix([\n",
       "[sqrt(3)/3,             sqrt(3)/3,             sqrt(3)/3],\n",
       "[sqrt(3)/3, sqrt(3)*exp(2*pi/3)/3, sqrt(3)*exp(4*pi/3)/3],\n",
       "[sqrt(3)/3, sqrt(3)*exp(4*pi/3)/3, sqrt(3)*exp(2*pi/3)/3]])"
      ]
     },
     "execution_count": 3,
     "metadata": {},
     "output_type": "execute_result"
    }
   ],
   "source": [
    "H*3"
   ]
  },
  {
   "cell_type": "code",
   "execution_count": null,
   "id": "bd1cad47-3478-434a-844a-2f307e1293f7",
   "metadata": {},
   "outputs": [],
   "source": []
  }
 ],
 "metadata": {
  "kernelspec": {
   "display_name": "python3.9",
   "language": "python",
   "name": "python3.9.16"
  },
  "language_info": {
   "codemirror_mode": {
    "name": "ipython",
    "version": 3
   },
   "file_extension": ".py",
   "mimetype": "text/x-python",
   "name": "python",
   "nbconvert_exporter": "python",
   "pygments_lexer": "ipython3",
   "version": "3.9.16"
  }
 },
 "nbformat": 4,
 "nbformat_minor": 5
}
