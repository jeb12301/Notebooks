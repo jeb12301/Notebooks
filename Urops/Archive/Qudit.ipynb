{
 "cells": [
  {
   "cell_type": "code",
   "execution_count": null,
   "id": "82eed547-8990-4be9-bc64-3d30fd722fe6",
   "metadata": {},
   "outputs": [],
   "source": [
    "import sympy as smp"
   ]
  },
  {
   "cell_type": "markdown",
   "id": "643f2634-fd8f-498a-b033-6c850ed5c16b",
   "metadata": {
    "jp-MarkdownHeadingCollapsed": true,
    "tags": []
   },
   "source": [
    "## Code"
   ]
  },
  {
   "cell_type": "code",
   "execution_count": null,
   "id": "46a99ba6-04aa-4cd5-90ef-2218747ddd2c",
   "metadata": {},
   "outputs": [],
   "source": [
    "import sympy as smp\n",
    "from sympy.vector import *\n",
    "I = smp.Matrix([[1,0,0], [0,1,0], [0,0,1]])\n",
    "\n",
    "# Unique up to a phase\n",
    "Z = smp.Matrix([[1,0,0], [0,smp.E**(2*smp.pi*smp.I/3),0], [0,0,smp.E**(4*smp.pi*smp.I/3)]])\n",
    "\n",
    "# By convention we could let the cyclic group be (0, 1, 2), though (2, 1, 0) works.\n",
    "X = smp.Matrix([[0,0,1], [1,0,0], [0,1,0] ])\n",
    "# Hermitian"
   ]
  },
  {
   "cell_type": "code",
   "execution_count": null,
   "id": "516ddbdf-2542-4848-a34d-5f4a3ad3cf7b",
   "metadata": {},
   "outputs": [],
   "source": [
    "import sympy as smp\n",
    "from sympy.vector import *\n",
    "I = smp.Matrix([[1,0,0], [0,1,0], [0,0,1]])\n",
    "\n",
    "# Unique up to a phase\n",
    "Z = smp.Matrix([[1,0,0], [0,smp.E**(2*smp.pi*smp.I/3),0], [0,0,smp.E**(4*smp.pi*smp.I/3)]])\n",
    "\n",
    "# By convention we could let the cyclic group be (0, 1, 2), though (2, 1, 0) works.\n",
    "X = smp.Matrix([[0,0,1], [1,0,0], [0,1,0] ])\n",
    "# Hermitian"
   ]
  },
  {
   "cell_type": "markdown",
   "id": "d96c5f82-a0ec-46b0-908d-6df81118db1c",
   "metadata": {},
   "source": [
    "phases are 1, e^2pi/3, e^4pi/3, so need to be able to extra the phase"
   ]
  },
  {
   "cell_type": "code",
   "execution_count": null,
   "id": "a4cd97da-3bb3-4d27-8b3b-a492680a47d4",
   "metadata": {},
   "outputs": [],
   "source": []
  },
  {
   "cell_type": "code",
   "execution_count": null,
   "id": "374d321e-7414-4c3d-a470-7c1d29640719",
   "metadata": {},
   "outputs": [
    {
     "data": {
      "text/latex": [
       "$\\displaystyle \\left[\\begin{matrix}0 & 0 & 1\\\\e^{\\frac{2 i \\pi}{3}} & 0 & 0\\\\0 & e^{- \\frac{2 i \\pi}{3}} & 0\\end{matrix}\\right]$"
      ],
      "text/plain": [
       "Matrix([\n",
       "[            0,              0, 1],\n",
       "[exp(2*I*pi/3),              0, 0],\n",
       "[            0, exp(-2*I*pi/3), 0]])"
      ]
     },
     "execution_count": 21,
     "metadata": {},
     "output_type": "execute_result"
    }
   ],
   "source": [
    "Z*X"
   ]
  },
  {
   "cell_type": "code",
   "execution_count": null,
   "id": "7edc40d5-4506-4730-a355-69147f20efd3",
   "metadata": {},
   "outputs": [
    {
     "data": {
      "text/latex": [
       "$\\displaystyle \\left[\\begin{matrix}0 & 0 & e^{- \\frac{2 i \\pi}{3}}\\\\1 & 0 & 0\\\\0 & e^{\\frac{2 i \\pi}{3}} & 0\\end{matrix}\\right]$"
      ],
      "text/plain": [
       "Matrix([\n",
       "[0,             0, exp(-2*I*pi/3)],\n",
       "[1,             0,              0],\n",
       "[0, exp(2*I*pi/3),              0]])"
      ]
     },
     "execution_count": 17,
     "metadata": {},
     "output_type": "execute_result"
    }
   ],
   "source": [
    "X*Z"
   ]
  },
  {
   "cell_type": "code",
   "execution_count": null,
   "id": "ee98ad2a-e356-4858-b971-673a218e09cb",
   "metadata": {},
   "outputs": [
    {
     "data": {
      "text/latex": [
       "$\\displaystyle \\left[\\begin{matrix}e^{\\frac{2 i \\pi}{3}} & 0 & 0\\\\0 & e^{\\frac{2 i \\pi}{3}} & 0\\\\0 & 0 & e^{\\frac{2 i \\pi}{3}}\\end{matrix}\\right]$"
      ],
      "text/plain": [
       "Matrix([\n",
       "[exp(2*I*pi/3),             0,             0],\n",
       "[            0, exp(2*I*pi/3),             0],\n",
       "[            0,             0, exp(2*I*pi/3)]])"
      ]
     },
     "execution_count": 15,
     "metadata": {},
     "output_type": "execute_result"
    }
   ],
   "source": [
    "(Y*Z*Y*X) # Generates the global phase (take power)"
   ]
  },
  {
   "cell_type": "code",
   "execution_count": null,
   "id": "fccfad68-b751-4801-a49e-99e2835b4705",
   "metadata": {},
   "outputs": [],
   "source": []
  },
  {
   "cell_type": "code",
   "execution_count": null,
   "id": "0fd69b79-fe12-4240-8446-946356a031fd",
   "metadata": {},
   "outputs": [],
   "source": [
    "Y = smp.E**(smp.I*smp.pi/3)*smp.Matrix([[0,0,1], [-1,0,0], [0,-1,0] ])\n",
    "# Does not work for the 1, some phase, some phase\n"
   ]
  },
  {
   "cell_type": "markdown",
   "id": "fdc2fa2d-8c43-4587-bff2-0b50d149a615",
   "metadata": {},
   "source": [
    "Gell-man matrices span the 3^2 matrix for qutrits"
   ]
  },
  {
   "cell_type": "code",
   "execution_count": null,
   "id": "c129f156-7bc0-4209-b8a7-c5f67867aed7",
   "metadata": {},
   "outputs": [],
   "source": [
    "import sympy as smp\n",
    "from sympy.vector import *\n",
    "I = smp.Matrix([[1,0,0,0,0,0], [0,1,0,0,0,0], [0,0,1,0,0,0], [0,0,0,1,0,0], [0,0,0,0,1,0], [0,0,0,0,0,1]])\n",
    "\n",
    "# Unique up to a phase\n",
    "Z = smp.Matrix([[1,0,0,0,0,0], [0,smp.E**(2*smp.pi*smp.I/6),0,0,0,0], [0,0,smp.E**(4*smp.pi*smp.I/6),0,0,0], [0,0,0,smp.E**(6*smp.pi*smp.I/6),0,0], [0,0,0,0,smp.E**(8*smp.pi*smp.I/6),0], [0,0,0,0,0,smp.E**(10*smp.pi*smp.I/6)]])\n",
    "\n",
    "# By convention we could let the cyclic group be (0, 1, 2), though (2, 1, 0) works.\n",
    "X = smp.Matrix([[0,0,0,0,0,1], [1,0,0,0,0,0], [0,1,0,0,0,0], [0,0,1,0,0,0], [0,0,0,1,0,0], [0,0,0,0,1,0]])\n",
    "# Hermitian"
   ]
  },
  {
   "cell_type": "code",
   "execution_count": null,
   "id": "dc80383a-b6a9-4b20-8e36-628f8faec3dc",
   "metadata": {},
   "outputs": [],
   "source": [
    "Y=smp.I*Z*X"
   ]
  },
  {
   "cell_type": "code",
   "execution_count": null,
   "id": "6ea49624-1279-4dae-8104-bf09a397bebb",
   "metadata": {},
   "outputs": [
    {
     "data": {
      "text/latex": [
       "$\\displaystyle \\left[\\begin{matrix}1 & 0 & 0 & 0 & 0 & 0\\\\0 & 1 & 0 & 0 & 0 & 0\\\\0 & 0 & 1 & 0 & 0 & 0\\\\0 & 0 & 0 & 1 & 0 & 0\\\\0 & 0 & 0 & 0 & 1 & 0\\\\0 & 0 & 0 & 0 & 0 & 1\\end{matrix}\\right]$"
      ],
      "text/plain": [
       "Matrix([\n",
       "[1, 0, 0, 0, 0, 0],\n",
       "[0, 1, 0, 0, 0, 0],\n",
       "[0, 0, 1, 0, 0, 0],\n",
       "[0, 0, 0, 1, 0, 0],\n",
       "[0, 0, 0, 0, 1, 0],\n",
       "[0, 0, 0, 0, 0, 1]])"
      ]
     },
     "execution_count": 42,
     "metadata": {},
     "output_type": "execute_result"
    }
   ],
   "source": [
    "I"
   ]
  },
  {
   "cell_type": "code",
   "execution_count": null,
   "id": "6fac7fff-d7df-4a8d-8500-a7dc8b0f2267",
   "metadata": {},
   "outputs": [
    {
     "data": {
      "text/plain": [
       "True"
      ]
     },
     "execution_count": 43,
     "metadata": {},
     "output_type": "execute_result"
    }
   ],
   "source": [
    "(Y)**6==(Z)**6==(X)**6==I"
   ]
  },
  {
   "cell_type": "code",
   "execution_count": null,
   "id": "3acaea96-605c-4365-a8f8-265024de2410",
   "metadata": {},
   "outputs": [],
   "source": []
  },
  {
   "cell_type": "markdown",
   "id": "f54560c2-236c-4578-a838-35770701999d",
   "metadata": {
    "jp-MarkdownHeadingCollapsed": true,
    "tags": []
   },
   "source": [
    "## Pfaffian"
   ]
  },
  {
   "cell_type": "code",
   "execution_count": null,
   "id": "3c0f921d-b558-416e-960b-b9f5a14930af",
   "metadata": {},
   "outputs": [],
   "source": [
    "a, b, c, d, e, f, g, h, i, j, k, l, m, n, o, p, q, r, s, t, u, v, w, x, y, z= smp.symbols(\"\"\"\n",
    "a b c d e f g h i j k l m n o p q r s t u v w x y z\"\"\")"
   ]
  },
  {
   "cell_type": "code",
   "execution_count": null,
   "id": "04f7b590-604a-4489-ab6d-5b302d6a3392",
   "metadata": {},
   "outputs": [],
   "source": [
    "A = smp.Matrix([[0, a,b,c,d,e], [0,0,h,i,j,k], [0, 0, 0,l,m,n], [0,0,0,0,o,p], [0,0,0,0,0,q], [0,0,0,0,0,0]])\n",
    "\n",
    "\n",
    "\n"
   ]
  },
  {
   "cell_type": "code",
   "execution_count": null,
   "id": "6488ff01-fcb4-4aee-a3e8-06203978452d",
   "metadata": {},
   "outputs": [
    {
     "data": {
      "text/latex": [
       "$\\displaystyle \\left(- a l q + a m p - a n o + b i q - b j p + b k o - c h q + c j n - c k m + d h p - d i n + d k l - e h o + e i m - e j l\\right)^{2}$"
      ],
      "text/plain": [
       "(-a*l*q + a*m*p - a*n*o + b*i*q - b*j*p + b*k*o - c*h*q + c*j*n - c*k*m + d*h*p - d*i*n + d*k*l - e*h*o + e*i*m - e*j*l)**2"
      ]
     },
     "execution_count": 27,
     "metadata": {},
     "output_type": "execute_result"
    }
   ],
   "source": [
    "smp.factor(smp.det(A-A.T))"
   ]
  },
  {
   "cell_type": "markdown",
   "id": "e34bdc36-5f47-47a6-a7d0-bd30b3de88d8",
   "metadata": {
    "jp-MarkdownHeadingCollapsed": true,
    "tags": []
   },
   "source": [
    "## qutrit"
   ]
  },
  {
   "cell_type": "code",
   "execution_count": null,
   "id": "bf0964fe-8bd6-47b4-9da0-e1380b733afb",
   "metadata": {},
   "outputs": [],
   "source": [
    "w0, w1, w2 = smp.symbols('w_0 w_1 w_2')"
   ]
  },
  {
   "cell_type": "code",
   "execution_count": null,
   "id": "0024eb2a-52c9-43fd-b29d-605b9eac78f2",
   "metadata": {},
   "outputs": [],
   "source": [
    "A = smp.Matrix([[w0, w1, w2], [w0**2, w1**2, w2**2],[1, 1, 1]])"
   ]
  },
  {
   "cell_type": "code",
   "execution_count": null,
   "id": "ed644083-015a-46a1-8f3a-395756b83e94",
   "metadata": {},
   "outputs": [
    {
     "data": {
      "text/latex": [
       "$\\displaystyle \\left[\\begin{matrix}1 & 0 & 0\\\\0 & 1 & 0\\\\0 & 0 & 1\\end{matrix}\\right]$"
      ],
      "text/plain": [
       "Matrix([\n",
       "[1, 0, 0],\n",
       "[0, 1, 0],\n",
       "[0, 0, 1]])"
      ]
     },
     "execution_count": 48,
     "metadata": {},
     "output_type": "execute_result"
    }
   ],
   "source": [
    "A.rref()[0]"
   ]
  },
  {
   "cell_type": "code",
   "execution_count": null,
   "id": "05fa5962-992d-404f-a21b-8fd4422531cd",
   "metadata": {},
   "outputs": [],
   "source": [
    "A = smp.Matrix([[w0, w1, w2], [w0, w2, w1], [1, 1, 1]])"
   ]
  },
  {
   "cell_type": "code",
   "execution_count": null,
   "id": "161aaba1-3fc5-485d-b5ce-367566cdc7a2",
   "metadata": {},
   "outputs": [
    {
     "data": {
      "text/latex": [
       "$\\displaystyle \\left[\\begin{matrix}1 & 0 & 0\\\\0 & 1 & 0\\\\0 & 0 & 1\\end{matrix}\\right]$"
      ],
      "text/plain": [
       "Matrix([\n",
       "[1, 0, 0],\n",
       "[0, 1, 0],\n",
       "[0, 0, 1]])"
      ]
     },
     "execution_count": 45,
     "metadata": {},
     "output_type": "execute_result"
    }
   ],
   "source": [
    "A.rref()[0]"
   ]
  },
  {
   "cell_type": "code",
   "execution_count": null,
   "id": "45d0cf93-0080-4aab-9879-408d48feeb29",
   "metadata": {},
   "outputs": [
    {
     "data": {
      "text/latex": [
       "$\\displaystyle - 2 w_{0} w_{1} + 2 w_{0} w_{2} + w_{1}^{2} - w_{2}^{2}$"
      ],
      "text/plain": [
       "-2*w_0*w_1 + 2*w_0*w_2 + w_1**2 - w_2**2"
      ]
     },
     "execution_count": 34,
     "metadata": {},
     "output_type": "execute_result"
    }
   ],
   "source": [
    "smp.det(A)"
   ]
  },
  {
   "cell_type": "markdown",
   "id": "15f14d53-6c84-4842-a5c1-3ba53a3520a4",
   "metadata": {},
   "source": [
    "contradiction if w1 neq w2 and the det equals 0"
   ]
  },
  {
   "cell_type": "markdown",
   "id": "2e7d5afb-3a43-456a-b580-8377a3ec08c5",
   "metadata": {},
   "source": [
    "If non-trivial, then for all a0 we have a0+a1x+a2x^2+ ... = 0\n",
    "\n",
    "this means that the polynomial must have solution"
   ]
  },
  {
   "cell_type": "markdown",
   "id": "52495fa9-4425-4842-a0c0-0d6f0cf76758",
   "metadata": {},
   "source": [
    "$$\n",
    "\\displaystyle \\left[\\begin{matrix}x & y & z\\\\x^2 & y^2 & z^2\\\\1 & 1 & 1\\end{matrix}\\right]\n",
    "$$"
   ]
  },
  {
   "cell_type": "code",
   "execution_count": null,
   "id": "dc990f02-8204-4564-bf75-737484f563f0",
   "metadata": {},
   "outputs": [],
   "source": [
    "Then, its the function is of the general form f(a) = (a-x)(a-y)(a-z)...."
   ]
  },
  {
   "cell_type": "code",
   "execution_count": null,
   "id": "f14f9798-bffc-4759-ae10-c550c784bbd6",
   "metadata": {},
   "outputs": [],
   "source": [
    "ax+ay+az = 0, ax^2 + ay^2 + az^2 = 0, a + a + a = 0"
   ]
  },
  {
   "cell_type": "code",
   "execution_count": null,
   "id": "93d2eede-c18c-46ef-bc51-77e2fe07880a",
   "metadata": {},
   "outputs": [],
   "source": [
    "f(x) + f(y) + f(z) = 0"
   ]
  },
  {
   "cell_type": "code",
   "execution_count": null,
   "id": "40007cd2-7244-4b54-bce8-bc05f34e3780",
   "metadata": {},
   "outputs": [
    {
     "name": "stdout",
     "output_type": "stream",
     "text": [
      " 2D_graph_state.ipynb   gram_schmidt.py   Tensor_network.ipynb\n",
      "'Gram Schmidt.ipynb'    Qudit.ipynb\n"
     ]
    }
   ],
   "source": [
    "!ls"
   ]
  },
  {
   "cell_type": "markdown",
   "id": "0c8e313a-f0f4-4301-b6dd-5d3ba83aa26e",
   "metadata": {
    "tags": []
   },
   "source": [
    "## Paper"
   ]
  },
  {
   "cell_type": "code",
   "execution_count": 244,
   "id": "35209fb6-239f-4aee-aabc-04e0b408dc68",
   "metadata": {},
   "outputs": [],
   "source": [
    "import sympy as smp\n",
    "from sympy.physics.quantum.dagger import Dagger\n",
    "from sympy.physics.quantum import TensorProduct as TP\n",
    "from sympy.vector import *\n",
    "I = smp.Matrix([[1,0,0], [0,1,0], [0,0,1]])\n",
    "X = smp.Matrix([[0,0,1],[1,0,0], [0,1,0]])\n",
    "Z = smp.Matrix([[1,0,0], [0,smp.E**(1j*2*smp.pi/3),0], [0, 0, smp.E**(1j*4*smp.pi/3)]])\n",
    "H = (1/smp.sqrt(3))*smp.Matrix([[1,1,1],[1,smp.E**(1j*2*smp.pi/3),smp.E**(1j*4*smp.pi/3)], [1, smp.E**(1j*4*smp.pi/3), smp.E**(1j*2*smp.pi/3)]])\n",
    "#S = smp.Matrix([[1,0,0], [0,smp.E**(1j*2*smp.pi/3),0], [0, 0, 1]])#smp.sqrt(Z).doit().factor(deep=True)\n",
    "S = smp.Matrix([[smp.E**(1j*2*smp.pi/3),0,0], [0,1,0], [0, 0, 1]])\n",
    "#Y=Z*X\n",
    "CZ = TP(smp.Matrix([[1,0, 0], [0,0, 0], [0, 0, 0]]), I)+TP(smp.Matrix([[0,0, 0], [0,1, 0], [0, 0, 0]]), Z) + TP(smp.Matrix([[0,0, 0], [0,0, 0], [0, 0, 1]]), Z**2)\n",
    "\n",
    "HS = smp.Matrix(H*Z**2) #S, Z, I\n",
    "\n",
    "T_2 = TP(HS, HS)*CZ\n",
    "T_3 = TP(HS, HS, HS)*TP(CZ, I)*TP(I, CZ)\n",
    "T_4 = TP(HS, HS, HS, HS)*TP(CZ, CZ)*TP(I,CZ,I)\n",
    "\n",
    "# https://arxiv.org/pdf/2003.04879.pdf"
   ]
  },
  {
   "cell_type": "markdown",
   "id": "46266a87-9d61-49e5-8612-918194dc1e81",
   "metadata": {},
   "source": [
    "### Checking T_k"
   ]
  },
  {
   "cell_type": "code",
   "execution_count": 107,
   "id": "a61c5577-fe98-4d1f-8063-c1c4bbddbac2",
   "metadata": {},
   "outputs": [],
   "source": [
    "B = smp.Matrix(smp.N(Dagger(T_3)*TP(I,Z,I)*T_3))"
   ]
  },
  {
   "cell_type": "code",
   "execution_count": 245,
   "id": "6c703db4-8ed9-457a-b0fb-6e51a8f22a83",
   "metadata": {},
   "outputs": [],
   "source": [
    "A = smp.Matrix(smp.N(Dagger(T_2)*TP(Z,I)*T_2))"
   ]
  },
  {
   "cell_type": "code",
   "execution_count": 260,
   "id": "113488a9-cdb9-44eb-a966-24a22451d9ed",
   "metadata": {},
   "outputs": [],
   "source": [
    "def round2zero(m, e):\n",
    "    for i in range(m.shape[0]):\n",
    "        for j in range(m.shape[1]):\n",
    "            if smp.Abs(m[i,j]) < e:\n",
    "                m[i,j] = 0\n",
    "e = .0000001\n",
    "round2zero(B, e)"
   ]
  },
  {
   "cell_type": "code",
   "execution_count": 250,
   "id": "b4fd2372-82fa-459a-9cf2-48db607f3319",
   "metadata": {},
   "outputs": [
    {
     "data": {
      "text/latex": [
       "$\\displaystyle \\left[\\begin{matrix}0 & 0 & 0 & 0 & 0 & 0 & -0.5 + 0.866025403784439 i & 0 & 0\\\\0 & 0 & 0 & 0 & 0 & 0 & 0 & 1.0 - 1.70518015414 \\cdot 10^{-15} i & 0\\\\0 & 0 & 0 & 0 & 0 & 0 & 0 & 0 & -0.500000000000001 - 0.866025403784438 i\\\\-0.5 + 0.866025403784439 i & 0 & 0 & 0 & 0 & 0 & 0 & 0 & 0\\\\0 & 1.0 - 1.5501637761749 \\cdot 10^{-16} i & 0 & 0 & 0 & 0 & 0 & 0 & 0\\\\0 & 0 & -0.499999999999999 - 0.866025403784439 i & 0 & 0 & 0 & 0 & 0 & 0\\\\0 & 0 & 0 & -0.5 + 0.866025403784439 i & 0 & 0 & 0 & 0 & 0\\\\0 & 0 & 0 & 0 & 1.0 + 1.5501637768886 \\cdot 10^{-15} i & 0 & 0 & 0 & 0\\\\0 & 0 & 0 & 0 & 0 & -0.500000000000001 - 0.866025403784438 i & 0 & 0 & 0\\end{matrix}\\right]$"
      ],
      "text/plain": [
       "Matrix([\n",
       "[                         0,                           0,                                        0,                          0,                           0,                                        0, -0.5 + 0.866025403784439*I,                         0,                                        0],\n",
       "[                         0,                           0,                                        0,                          0,                           0,                                        0,                          0, 1.0 - 1.70518015414e-15*I,                                        0],\n",
       "[                         0,                           0,                                        0,                          0,                           0,                                        0,                          0,                         0, -0.500000000000001 - 0.866025403784438*I],\n",
       "[-0.5 + 0.866025403784439*I,                           0,                                        0,                          0,                           0,                                        0,                          0,                         0,                                        0],\n",
       "[                         0, 1.0 - 1.5501637761749e-16*I,                                        0,                          0,                           0,                                        0,                          0,                         0,                                        0],\n",
       "[                         0,                           0, -0.499999999999999 - 0.866025403784439*I,                          0,                           0,                                        0,                          0,                         0,                                        0],\n",
       "[                         0,                           0,                                        0, -0.5 + 0.866025403784439*I,                           0,                                        0,                          0,                         0,                                        0],\n",
       "[                         0,                           0,                                        0,                          0, 1.0 + 1.5501637768886e-15*I,                                        0,                          0,                         0,                                        0],\n",
       "[                         0,                           0,                                        0,                          0,                           0, -0.500000000000001 - 0.866025403784438*I,                          0,                         0,                                        0]])"
      ]
     },
     "execution_count": 250,
     "metadata": {},
     "output_type": "execute_result"
    }
   ],
   "source": [
    "A"
   ]
  },
  {
   "cell_type": "code",
   "execution_count": 255,
   "id": "26b9a5e6-3a50-4b41-9a35-056b3ff69917",
   "metadata": {},
   "outputs": [],
   "source": [
    "# Identities\n",
    "\n",
    "# (1, w1, 1) and permutations\n",
    "\n",
    "# Dagger(T_2)*TP(Z,I)*T_2 == TP(Z*Z*X, Z*Z)\n",
    "\n",
    "# Dagger(T_2)*TP(Z*Z,I)*T_2) == TP(smp.E**(1j*2*smp.pi/3)*Z*X*X, Z)\n",
    "\n",
    "# Dagger(T_2)*TP(X,I)*T_2 == TP(Z*Z, I)\n",
    "\n",
    "\n",
    "# Dagger(T_3)*TP(I,Z,I)*T_3 == TP(Z*Z, Z*Z*X, Z*Z)\n",
    "\n",
    "# Dagger(T_3)*TP(I,Z*X,I)*T_3 == smp.E**(1j*2*smp.pi/3)*TP(Z*Z, Z*X, Z*Z))\n",
    "\n",
    "# Dagger(T_3)*TP(I,X,I)*T_3 == TP(I, Z*Z, I))\n",
    "\n",
    "# Dagger(T_3)*TP(I,Z*Z,I)*T_3 == smp.E**(1j*2*smp.pi/3)*TP(Z, Z*X*X, Z)"
   ]
  },
  {
   "cell_type": "code",
   "execution_count": null,
   "id": "0a0b5a27-9d2c-4820-b422-f43280c32314",
   "metadata": {},
   "outputs": [],
   "source": [
    "# (1, w2, 1) and permutations\n",
    "\n",
    "# 1, w2, 1 will generate Z -> TP(ZZ, ZZX, ZZ)\n",
    "# X -> Z*Z"
   ]
  },
  {
   "cell_type": "code",
   "execution_count": null,
   "id": "21390731-fa41-414e-9d43-a6c6a272b5f1",
   "metadata": {},
   "outputs": [],
   "source": [
    "# Set S = Z\n",
    "\n",
    "## Dagger(T_2)*TP(Z,I)*T_2 == TP(smp.E**(1j*4*smp.pi/3)*X, Z*Z)\n",
    "\n",
    "## Dagger(T_2)*TP(X,I)*T_2 == TP(Z*Z, I)\n",
    "\n",
    "# Set S = I\n",
    "\n",
    "## Dagger(T_2)*kpjTP(Z,I)*T_2 == smp.E**(1j*4*smp.pi/3)*TP(Z*X, Z*Z)\n",
    "\n",
    "## Dagger(T_2)*TP(X,I)*T_2 == TP(Z*Z, I)"
   ]
  },
  {
   "cell_type": "markdown",
   "id": "c67e29aa-84d2-4b4e-bfef-8f9fff6294f7",
   "metadata": {
    "tags": []
   },
   "source": [
    "### Other"
   ]
  },
  {
   "cell_type": "markdown",
   "id": "e472e201-1403-46d4-a716-31dd8f3e7983",
   "metadata": {},
   "source": [
    "Give S as sqrt, we have:\n",
    "\n",
    "smp.N(TP(smp.Matrix(smp.E**(1j*4*smp.pi/3)*S*X*Z*Z*S), Z)) #==A\n"
   ]
  },
  {
   "cell_type": "code",
   "execution_count": null,
   "id": "264dbe34-ceff-4b15-b844-fb410c5d7b97",
   "metadata": {},
   "outputs": [],
   "source": [
    "w0, w1, w2 = smp.symbols('\\omega_0 \\omega_1 \\omega_2')\n",
    "H = smp.Matrix([[1,1,1], [1,w1,w2], [1, w2, w1]])\n",
    "H3 = H*H\n",
    "smp.N(smp.nsimplify(H3.subs(w1,-1-w2).subs(w2, smp.E**(1j*4*smp.pi/3)),tolerance=1e-5,rational=True))\n",
    "\n",
    "zero_h = H*smp.Matrix([[1], [0], [0]])\n",
    "one_h = H*smp.Matrix([[0], [1], [0]])\n",
    "two_h = H*smp.Matrix([[0], [0], [1]])\n",
    "\n",
    "#|0_h><0| + |1_h><1| + |2_h><2|\n",
    "#|0><0_h| + |2><1_h| + |1><|2_h|\n",
    "\n"
   ]
  },
  {
   "cell_type": "markdown",
   "id": "d531cfda-73bd-4ed6-aa65-7481b55265cb",
   "metadata": {},
   "source": [
    "Another way (prob wrong?)"
   ]
  },
  {
   "cell_type": "code",
   "execution_count": null,
   "id": "a84797d1-8948-44ba-a743-9b5329d0426e",
   "metadata": {},
   "outputs": [],
   "source": [
    "import sympy as smp\n",
    "import numpy as np\n",
    "\n",
    "H_n = np.matrix(H)\n",
    "\n",
    "to_input = np.reshape(np.fromiter(smp.Matrix(H_n), dtype=complex), (3, 3))\n",
    "\n",
    "smp.Matrix(np.linalg.eig(to_input)[1])\n",
    "\n",
    "smp.Matrix(np.linalg.eig(to_input)[0])\n",
    "\n",
    "|0_h> = 1/np.sqrt(5)|0> + 2/np.sqrt(5)|1>\n",
    "\n",
    "2/np.sqrt(8), 1/np.sqrt(8), /np.sqrt(8)\n",
    "???"
   ]
  },
  {
   "cell_type": "code",
   "execution_count": 636,
   "id": "c468f484-47a1-4e51-8165-02c38bd3e82c",
   "metadata": {},
   "outputs": [],
   "source": [
    "S = smp.Matrix([[smp.E**(1j*2*smp.pi/3),0,0], [0,smp.E**(1j*2*smp.pi/3),0], [0, 0, 1]])#smp.sqrt(Z).doit().factor(deep=True)\n"
   ]
  },
  {
   "cell_type": "code",
   "execution_count": 646,
   "id": "cecd725f-c970-4943-81d0-6bf8327f00c6",
   "metadata": {},
   "outputs": [
    {
     "data": {
      "text/latex": [
       "$\\displaystyle \\left[\\begin{matrix}0 & 0 & -0.5 - 0.866025403784438 i\\\\1.0 & 0 & 0\\\\0 & -0.5 + 0.866025403784438 i & 0\\end{matrix}\\right]$"
      ],
      "text/plain": [
       "Matrix([\n",
       "[  0,                          0, -0.5 - 0.866025403784438*I],\n",
       "[1.0,                          0,                          0],\n",
       "[  0, -0.5 + 0.866025403784438*I,                          0]])"
      ]
     },
     "execution_count": 646,
     "metadata": {},
     "output_type": "execute_result"
    }
   ],
   "source": [
    "smp.N(S*X*Dagger(S))"
   ]
  },
  {
   "cell_type": "code",
   "execution_count": 273,
   "id": "12d487a7-6312-4c22-ad9c-c1b1344fdd3e",
   "metadata": {},
   "outputs": [],
   "source": [
    "import sympy as smp"
   ]
  },
  {
   "cell_type": "code",
   "execution_count": 275,
   "id": "c73b95a8-f1de-4207-ab55-4536c69f1684",
   "metadata": {},
   "outputs": [],
   "source": [
    "a, b, c = smp.symbols('a b c')"
   ]
  },
  {
   "cell_type": "code",
   "execution_count": 286,
   "id": "6c9c9f4a-11c8-4b17-8812-9b92de6151c1",
   "metadata": {},
   "outputs": [],
   "source": [
    "S = smp.Matrix([[a, 0, 0], [0, 1, 0], [0, 0, 1]])"
   ]
  },
  {
   "cell_type": "code",
   "execution_count": 287,
   "id": "131fa82a-9663-45d1-904e-57f2eebfa059",
   "metadata": {},
   "outputs": [],
   "source": [
    "X = smp.Matrix([[0,0,1],[1,0,0], [0,1,0]])\n"
   ]
  },
  {
   "cell_type": "code",
   "execution_count": 288,
   "id": "424ceaf2-506f-4630-ae3d-157295bbc7c8",
   "metadata": {},
   "outputs": [
    {
     "data": {
      "text/latex": [
       "$\\displaystyle \\left[\\begin{matrix}0 & 0 & a\\\\\\overline{a} & 0 & 0\\\\0 & 1 & 0\\end{matrix}\\right]$"
      ],
      "text/plain": [
       "Matrix([\n",
       "[           0, 0, a],\n",
       "[conjugate(a), 0, 0],\n",
       "[           0, 1, 0]])"
      ]
     },
     "execution_count": 288,
     "metadata": {},
     "output_type": "execute_result"
    }
   ],
   "source": [
    "S*X*Dagger(S)"
   ]
  },
  {
   "cell_type": "markdown",
   "id": "a801e4ea-593c-459b-a646-ed7300904bb1",
   "metadata": {},
   "source": [
    "# Gell Mann matrices"
   ]
  },
  {
   "cell_type": "code",
   "execution_count": 76,
   "id": "55d7650e-37fa-471c-9f5c-e8ba62f357c1",
   "metadata": {},
   "outputs": [],
   "source": [
    "import sympy as smp\n",
    "from sympy.physics.quantum.dagger import Dagger\n",
    "from sympy.physics.quantum import TensorProduct as TP\n",
    "from sympy.vector import *\n",
    "I = smp.Matrix([[1,0,0], [0,1,0], [0,0,1]])\n",
    "X = smp.Matrix([[0,0,1],[1,0,0], [0,1,0]])\n",
    "Z = smp.Matrix([[1,0,0], [0,smp.E**(1j*2*smp.pi/3),0], [0, 0, smp.E**(1j*4*smp.pi/3)]])\n",
    "H = (1/smp.sqrt(3))*smp.Matrix([[1,1,1],[1,smp.E**(1j*2*smp.pi/3),smp.E**(1j*4*smp.pi/3)], [1, smp.E**(1j*4*smp.pi/3), smp.E**(1j*2*smp.pi/3)]])\n",
    "#S = smp.Matrix([[1,0,0], [0,smp.E**(1j*2*smp.pi/3),0], [0, 0, 1]])#smp.sqrt(Z).doit().factor(deep=True)\n",
    "S = smp.Matrix([[smp.E**(1j*2*smp.pi/3),0,0], [0,1,0], [0, 0, 1]])\n",
    "#Y=Z*X\n",
    "CZ = TP(smp.Matrix([[1,0, 0], [0,0, 0], [0, 0, 0]]), I)+TP(smp.Matrix([[0,0, 0], [0,1, 0], [0, 0, 0]]), Z) + TP(smp.Matrix([[0,0, 0], [0,0, 0], [0, 0, 1]]), Z**2)\n",
    "\n",
    "CX = TP(smp.Matrix([[1,0, 0], [0,0, 0], [0, 0, 0]]), I)+TP(smp.Matrix([[0,0, 0], [0,1, 0], [0, 0, 0]]), X) + TP(smp.Matrix([[0,0, 0], [0,0, 0], [0, 0, 1]]), X**2)\n",
    "\n",
    "HS = smp.Matrix(H) #S, Z, I\n",
    "\n",
    "T_2 = TP(HS, HS)*CZ\n",
    "T_3 = TP(HS, HS, HS)*TP(CZ, I)*TP(I, CZ)\n",
    "T_4 = TP(HS, HS, HS, HS)*TP(CZ, CZ)*TP(I,CZ,I)\n",
    "\n",
    "# https://arxiv.org/pdf/2003.04879.pdf"
   ]
  },
  {
   "cell_type": "code",
   "execution_count": 2,
   "id": "d51692b0-e8fc-4d59-b945-9d159ce2b416",
   "metadata": {},
   "outputs": [],
   "source": [
    "t, p = smp.symbols(\"t \\phi\")"
   ]
  },
  {
   "cell_type": "code",
   "execution_count": 3,
   "id": "6009f642-f0e8-41a4-858b-d45a964e4e8e",
   "metadata": {},
   "outputs": [],
   "source": [
    "t = 0; p = smp.pi/2"
   ]
  },
  {
   "cell_type": "code",
   "execution_count": 4,
   "id": "7c916d28-3afd-4c86-8b9f-27feac8b0f43",
   "metadata": {},
   "outputs": [],
   "source": [
    "A = smp.Matrix([[smp.E**(smp.I*(t+p/smp.sqrt(3))),1,1],[1,smp.E**(smp.I*(p/smp.sqrt(3)-t)),1], [1,1,smp.E**(-2*smp.I*(p/smp.sqrt(3)))]])\n"
   ]
  },
  {
   "cell_type": "code",
   "execution_count": 6,
   "id": "136d9c9b-2f59-416b-a6a9-0b7a047d3799",
   "metadata": {},
   "outputs": [
    {
     "data": {
      "text/latex": [
       "$\\displaystyle \\left[\\begin{matrix}e^{\\frac{\\sqrt{3} i \\pi}{6}} & 1 & 1\\\\1 & e^{\\frac{\\sqrt{3} i \\pi}{6}} & 1\\\\1 & 1 & e^{- \\frac{\\sqrt{3} i \\pi}{3}}\\end{matrix}\\right]$"
      ],
      "text/plain": [
       "Matrix([\n",
       "[exp(sqrt(3)*I*pi/6),                   1,                    1],\n",
       "[                  1, exp(sqrt(3)*I*pi/6),                    1],\n",
       "[                  1,                   1, exp(-sqrt(3)*I*pi/3)]])"
      ]
     },
     "execution_count": 6,
     "metadata": {},
     "output_type": "execute_result"
    }
   ],
   "source": [
    "A # Remember that the spectral reprensetation works well."
   ]
  },
  {
   "cell_type": "code",
   "execution_count": null,
   "id": "a0545986-4200-4bd8-b131-9e33ddc8b5a3",
   "metadata": {},
   "outputs": [],
   "source": [
    "A = smp.Matrix(smp.N(smp.simplify(smp.expand(Dagger(T_2)*TP(A, I)*T_2))))"
   ]
  },
  {
   "cell_type": "code",
   "execution_count": 59,
   "id": "e8eb3bbe-8c6b-44f8-bcee-59661cda50fe",
   "metadata": {},
   "outputs": [],
   "source": [
    "def round2zero(m, e):\n",
    "    for i in range(m.shape[0]):\n",
    "        for j in range(m.shape[1]):\n",
    "            if smp.Abs(m[i,j]) < e:\n",
    "                m[i,j] = 0\n",
    "e = .0000001\n",
    "round2zero(A, e)"
   ]
  },
  {
   "cell_type": "code",
   "execution_count": 131,
   "id": "075dd441-a526-4247-98ba-0275f6b2d30f",
   "metadata": {},
   "outputs": [
    {
     "data": {
      "text/latex": [
       "$\\displaystyle \\left[\\begin{matrix}2.33058750081324 + 0.201524838928334 i & 0 & 0 & 0.650355006293075 + 0.0456966912370921 i & 0 & 0 & -0.285603007666322 - 0.586072302546738 i & 0 & 0\\\\0 & 2.33058750081324 + 0.201524838928334 i & 0 & 0 & -0.364751998626753 + 0.540375611309646 i & 0 & 0 & -0.364751998626753 + 0.540375611309646 i & 0\\\\0 & 0 & 2.33058750081324 + 0.201524838928334 i & 0 & 0 & -0.285603007666322 - 0.586072302546738 i & 0 & 0 & 0.650355006293075 + 0.0456966912370921 i\\\\-0.364751998626753 + 0.540375611309645 i & 0 & 0 & -0.669412499186764 + 0.201524838928334 i & 0 & 0 & -0.364751998626753 + 0.540375611309645 i & 0 & 0\\\\0 & 0.650355006293077 + 0.0456966912370911 i & 0 & 0 & -0.669412499186762 + 0.201524838928332 i & 0 & 0 & -0.285603007666322 - 0.586072302546738 i & 0\\\\0 & 0 & -0.285603007666324 - 0.586072302546743 i & 0 & 0 & -0.669412499186762 + 0.201524838928332 i & 0 & 0 & 0.650355006293075 + 0.0456966912370918 i\\\\-0.285603007666322 - 0.586072302546738 i & 0 & 0 & 0.650355006293076 + 0.0456966912370923 i & 0 & 0 & -0.669412499186764 + 0.201524838928334 i & 0 & 0\\\\0 & 0.65035500629307 + 0.0456966912370916 i & 0 & 0 & -0.285603007666317 - 0.586072302546737 i & 0 & 0 & -0.669412499186762 + 0.201524838928332 i & 0\\\\0 & 0 & -0.364751998626757 + 0.540375611309655 i & 0 & 0 & -0.364751998626745 + 0.540375611309651 i & 0 & 0 & -0.669412499186765 + 0.201524838928335 i\\end{matrix}\\right]$"
      ],
      "text/plain": [
       "Matrix([\n",
       "[  2.33058750081324 + 0.201524838928334*I,                                        0,                                        0, 0.650355006293075 + 0.0456966912370921*I,                                        0,                                        0, -0.285603007666322 - 0.586072302546738*I,                                        0,                                        0],\n",
       "[                                       0,   2.33058750081324 + 0.201524838928334*I,                                        0,                                        0, -0.364751998626753 + 0.540375611309646*I,                                        0,                                        0, -0.364751998626753 + 0.540375611309646*I,                                        0],\n",
       "[                                       0,                                        0,   2.33058750081324 + 0.201524838928334*I,                                        0,                                        0, -0.285603007666322 - 0.586072302546738*I,                                        0,                                        0, 0.650355006293075 + 0.0456966912370921*I],\n",
       "[-0.364751998626753 + 0.540375611309645*I,                                        0,                                        0, -0.669412499186764 + 0.201524838928334*I,                                        0,                                        0, -0.364751998626753 + 0.540375611309645*I,                                        0,                                        0],\n",
       "[                                       0, 0.650355006293077 + 0.0456966912370911*I,                                        0,                                        0, -0.669412499186762 + 0.201524838928332*I,                                        0,                                        0, -0.285603007666322 - 0.586072302546738*I,                                        0],\n",
       "[                                       0,                                        0, -0.285603007666324 - 0.586072302546743*I,                                        0,                                        0, -0.669412499186762 + 0.201524838928332*I,                                        0,                                        0, 0.650355006293075 + 0.0456966912370918*I],\n",
       "[-0.285603007666322 - 0.586072302546738*I,                                        0,                                        0, 0.650355006293076 + 0.0456966912370923*I,                                        0,                                        0, -0.669412499186764 + 0.201524838928334*I,                                        0,                                        0],\n",
       "[                                       0,  0.65035500629307 + 0.0456966912370916*I,                                        0,                                        0, -0.285603007666317 - 0.586072302546737*I,                                        0,                                        0, -0.669412499186762 + 0.201524838928332*I,                                        0],\n",
       "[                                       0,                                        0, -0.364751998626757 + 0.540375611309655*I,                                        0,                                        0, -0.364751998626745 + 0.540375611309651*I,                                        0,                                        0, -0.669412499186765 + 0.201524838928335*I]])"
      ]
     },
     "execution_count": 131,
     "metadata": {},
     "output_type": "execute_result"
    }
   ],
   "source": [
    "A"
   ]
  },
  {
   "cell_type": "code",
   "execution_count": 58,
   "id": "1b48e69f-8a23-448d-b2b2-4d96119b03de",
   "metadata": {},
   "outputs": [],
   "source": [
    "A = smp.Matrix(smp.N(smp.simplify(smp.expand(Dagger(T_2)*TP(l3, I)*T_2))))"
   ]
  },
  {
   "cell_type": "code",
   "execution_count": 60,
   "id": "3d848c90-077a-46ea-9bc0-98fa11886997",
   "metadata": {},
   "outputs": [
    {
     "data": {
      "text/latex": [
       "$\\displaystyle \\left[\\begin{matrix}0 & 0 & 0 & 0.5 - 0.288675134594813 i & 0 & 0 & 0.5 + 0.288675134594813 i & 0 & 0\\\\0 & 0 & 0 & 0 & 3.0 \\cdot 10^{-24} + 0.577350269189626 i & 0 & 0 & -3.0 \\cdot 10^{-24} - 0.577350269189626 i & 0\\\\0 & 0 & 0 & 0 & 0 & -0.5 - 0.288675134594813 i & 0 & 0 & -0.5 + 0.288675134594813 i\\\\0.5 + 0.288675134594813 i & 0 & 0 & 0 & 0 & 0 & 0.5 - 0.288675134594813 i & 0 & 0\\\\0 & 6.7124 \\cdot 10^{-16} - 0.577350269189626 i & 0 & 0 & 0 & 0 & 0 & 1.007 \\cdot 10^{-16} + 0.577350269189626 i & 0\\\\0 & 0 & -0.500000000000001 + 0.288675134594812 i & 0 & 0 & 0 & 0 & 0 & -0.5 - 0.288675134594813 i\\\\0.5 - 0.288675134594813 i & 0 & 0 & 0.5 + 0.288675134594813 i & 0 & 0 & 0 & 0 & 0\\\\0 & -1.3425 \\cdot 10^{-15} + 0.577350269189626 i & 0 & 0 & 8.0 \\cdot 10^{-22} - 0.577350269189626 i & 0 & 0 & 0 & 0\\\\0 & 0 & -0.499999999999998 - 0.288675134594814 i & 0 & 0 & -0.5 + 0.288675134594813 i & 0 & 0 & 0\\end{matrix}\\right]$"
      ],
      "text/plain": [
       "Matrix([\n",
       "[                        0,                                 0,                                        0, 0.5 - 0.288675134594813*I,                            0,                          0, 0.5 + 0.288675134594813*I,                               0,                          0],\n",
       "[                        0,                                 0,                                        0,                         0, 0.e-24 + 0.577350269189626*I,                          0,                         0,   -0.e-24 - 0.577350269189626*I,                          0],\n",
       "[                        0,                                 0,                                        0,                         0,                            0, -0.5 - 0.288675134594813*I,                         0,                               0, -0.5 + 0.288675134594813*I],\n",
       "[0.5 + 0.288675134594813*I,                                 0,                                        0,                         0,                            0,                          0, 0.5 - 0.288675134594813*I,                               0,                          0],\n",
       "[                        0,  6.7124e-16 - 0.577350269189626*I,                                        0,                         0,                            0,                          0,                         0, 1.007e-16 + 0.577350269189626*I,                          0],\n",
       "[                        0,                                 0, -0.500000000000001 + 0.288675134594812*I,                         0,                            0,                          0,                         0,                               0, -0.5 - 0.288675134594813*I],\n",
       "[0.5 - 0.288675134594813*I,                                 0,                                        0, 0.5 + 0.288675134594813*I,                            0,                          0,                         0,                               0,                          0],\n",
       "[                        0, -1.3425e-15 + 0.577350269189626*I,                                        0,                         0, 0.e-21 - 0.577350269189626*I,                          0,                         0,                               0,                          0],\n",
       "[                        0,                                 0, -0.499999999999998 - 0.288675134594814*I,                         0,                            0, -0.5 + 0.288675134594813*I,                         0,                               0,                          0]])"
      ]
     },
     "execution_count": 60,
     "metadata": {},
     "output_type": "execute_result"
    }
   ],
   "source": [
    "A"
   ]
  },
  {
   "cell_type": "code",
   "execution_count": 13,
   "id": "56e2fbf6-757c-483a-bce5-887e0463586a",
   "metadata": {},
   "outputs": [],
   "source": [
    "A = smp.Matrix(smp.N(smp.simplify(smp.expand(Dagger(T_2)*TP(l3**2, I)*T_2))))"
   ]
  },
  {
   "cell_type": "code",
   "execution_count": 130,
   "id": "39cd2c55-2259-4197-8ec3-5b36428aac3a",
   "metadata": {},
   "outputs": [],
   "source": [
    "l1 = smp.Matrix([[0, 1, 0], [1, 0, 0], [0, 0, 0]])\n",
    "l2 = smp.Matrix([[0, -1j, 0], [1j, 0, 0], [0, 0, 0]])\n",
    "l3 = smp.Matrix([[1, 0, 0], [0, -1, 0], [0, 0, 0]])\n",
    "l4 = smp.Matrix([[0, 0, 1], [0, 0, 0], [1, 0, 0]])\n",
    "l5 = smp.Matrix([[0, 0, -1j], [0, 0, 0], [1j, 0, 0]])\n",
    "l6 = smp.Matrix([[0, 0, 0], [0, 0, 1], [0, 1, 0]])\n",
    "l7 = smp.Matrix([[0, 0, 0], [0, 0, -1j], [0, 1j, 0]])\n",
    "l8 = smp.Matrix([[1, 0, 0], [0, 1, 0], [0, 0, -2]])*1/smp.sqrt(3)\n",
    "\n",
    "l8 = smp.Matrix([[0, 0, 0], [0, 1, 0], [0, 0, -1]])"
   ]
  },
  {
   "cell_type": "markdown",
   "id": "7ec3fd2d-a481-4f6e-a7c7-6752f9c01f50",
   "metadata": {},
   "source": [
    "Normalization under X\n",
    "\n",
    "Real: \n",
    "\n",
    "l1 -> l6\n",
    "\n",
    "l6 -> l4\n",
    "\n",
    "l4 -> l1\n",
    "\n",
    "\n",
    "\n",
    "Imaginary:\n",
    "\n",
    "l5 -> l2\n",
    "\n",
    "l2 -> l7\n",
    "\n",
    "l7 -> l5\n",
    "\n",
    "\n",
    "\n",
    "l3 -> l3 + l8\n"
   ]
  },
  {
   "cell_type": "code",
   "execution_count": 182,
   "id": "655f6d24-4cee-4734-8b89-6d6e4ba65283",
   "metadata": {},
   "outputs": [],
   "source": [
    "T_2 = TP(X*X, X*X)\n"
   ]
  },
  {
   "cell_type": "code",
   "execution_count": 183,
   "id": "fa88a3fd-3646-4613-b87e-e6371ad3d436",
   "metadata": {},
   "outputs": [
    {
     "data": {
      "text/latex": [
       "$\\displaystyle \\left[\\begin{matrix}-1 & 0 & 0 & 0 & 0 & 0 & 0 & 0 & 0\\\\0 & -1 & 0 & 0 & 0 & 0 & 0 & 0 & 0\\\\0 & 0 & -1 & 0 & 0 & 0 & 0 & 0 & 0\\\\0 & 0 & 0 & 0 & 0 & 0 & 0 & 0 & 0\\\\0 & 0 & 0 & 0 & 0 & 0 & 0 & 0 & 0\\\\0 & 0 & 0 & 0 & 0 & 0 & 0 & 0 & 0\\\\0 & 0 & 0 & 0 & 0 & 0 & 1 & 0 & 0\\\\0 & 0 & 0 & 0 & 0 & 0 & 0 & 1 & 0\\\\0 & 0 & 0 & 0 & 0 & 0 & 0 & 0 & 1\\end{matrix}\\right]$"
      ],
      "text/plain": [
       "Matrix([\n",
       "[-1,  0,  0, 0, 0, 0, 0, 0, 0],\n",
       "[ 0, -1,  0, 0, 0, 0, 0, 0, 0],\n",
       "[ 0,  0, -1, 0, 0, 0, 0, 0, 0],\n",
       "[ 0,  0,  0, 0, 0, 0, 0, 0, 0],\n",
       "[ 0,  0,  0, 0, 0, 0, 0, 0, 0],\n",
       "[ 0,  0,  0, 0, 0, 0, 0, 0, 0],\n",
       "[ 0,  0,  0, 0, 0, 0, 1, 0, 0],\n",
       "[ 0,  0,  0, 0, 0, 0, 0, 1, 0],\n",
       "[ 0,  0,  0, 0, 0, 0, 0, 0, 1]])"
      ]
     },
     "execution_count": 183,
     "metadata": {},
     "output_type": "execute_result"
    }
   ],
   "source": [
    "Dagger(T_2)*TP(l3, I)*T_2"
   ]
  },
  {
   "cell_type": "code",
   "execution_count": 185,
   "id": "c9f44e2b-aa3e-4b49-976c-adaf37c0b192",
   "metadata": {},
   "outputs": [
    {
     "data": {
      "text/latex": [
       "$\\displaystyle \\left[\\begin{matrix}0.666666666666667 & 0.166666666666667 - 0.288675134594813 i & 0.166666666666667 + 0.288675134594813 i\\\\0.166666666666667 + 0.288675134594813 i & -0.333333333333333 + 3.0 \\cdot 10^{-21} i & -0.333333333333333 + 0.577350269189626 i\\\\0.166666666666667 - 0.288675134594813 i & -0.333333333333333 - 0.577350269189626 i & -0.333333333333333 + 3.0 \\cdot 10^{-21} i\\end{matrix}\\right]$"
      ],
      "text/plain": [
       "Matrix([\n",
       "[                      0.666666666666667,  0.166666666666667 - 0.288675134594813*I,  0.166666666666667 + 0.288675134594813*I],\n",
       "[0.166666666666667 + 0.288675134594813*I,            -0.333333333333333 + 0.e-21*I, -0.333333333333333 + 0.577350269189626*I],\n",
       "[0.166666666666667 - 0.288675134594813*I, -0.333333333333333 - 0.577350269189626*I,            -0.333333333333333 + 0.e-21*I]])"
      ]
     },
     "execution_count": 185,
     "metadata": {},
     "output_type": "execute_result"
    }
   ],
   "source": [
    "smp.N(H*l1*Dagger(H))"
   ]
  },
  {
   "cell_type": "code",
   "execution_count": 214,
   "id": "14a9e727-b469-4814-b23f-3a130fd2340a",
   "metadata": {},
   "outputs": [
    {
     "data": {
      "text/latex": [
       "$\\displaystyle \\left[\\begin{matrix}\\frac{2}{3} & \\frac{1}{3} + \\frac{e^{- 0.666666666666667 i \\pi}}{3} & \\frac{1}{3} + \\frac{e^{- 1.33333333333333 i \\pi}}{3}\\\\\\frac{1}{3} + \\frac{e^{0.666666666666667 i \\pi}}{3} & \\frac{e^{- 0.666666666666667 i \\pi}}{3} + \\frac{e^{0.666666666666667 i \\pi}}{3} & \\frac{e^{- 1.33333333333333 i \\pi}}{3} + \\frac{e^{0.666666666666667 i \\pi}}{3}\\\\\\frac{1}{3} + \\frac{e^{1.33333333333333 i \\pi}}{3} & \\frac{e^{- 0.666666666666667 i \\pi}}{3} + \\frac{e^{1.33333333333333 i \\pi}}{3} & \\frac{e^{1.33333333333333 i \\pi}}{3} + \\frac{e^{- 1.33333333333333 i \\pi}}{3}\\end{matrix}\\right]$"
      ],
      "text/plain": [
       "Matrix([\n",
       "[                                2/3,                           1/3 + exp(-0.666666666666667*I*pi)/3,                           1/3 + exp(-1.33333333333333*I*pi)/3],\n",
       "[1/3 + exp(0.666666666666667*I*pi)/3, exp(-0.666666666666667*I*pi)/3 + exp(0.666666666666667*I*pi)/3, exp(-1.33333333333333*I*pi)/3 + exp(0.666666666666667*I*pi)/3],\n",
       "[ 1/3 + exp(1.33333333333333*I*pi)/3,  exp(-0.666666666666667*I*pi)/3 + exp(1.33333333333333*I*pi)/3,  exp(1.33333333333333*I*pi)/3 + exp(-1.33333333333333*I*pi)/3]])"
      ]
     },
     "execution_count": 214,
     "metadata": {},
     "output_type": "execute_result"
    }
   ],
   "source": [
    "H*l1*Dagger(H)"
   ]
  },
  {
   "cell_type": "code",
   "execution_count": null,
   "id": "f06f2d88-e9a8-4fa9-b7ee-1d6826210687",
   "metadata": {},
   "outputs": [],
   "source": []
  }
 ],
 "metadata": {
  "kernelspec": {
   "display_name": "python3.9",
   "language": "python",
   "name": "python3.9.16"
  },
  "language_info": {
   "codemirror_mode": {
    "name": "ipython",
    "version": 3
   },
   "file_extension": ".py",
   "mimetype": "text/x-python",
   "name": "python",
   "nbconvert_exporter": "python",
   "pygments_lexer": "ipython3",
   "version": "3.9.16"
  }
 },
 "nbformat": 4,
 "nbformat_minor": 5
}
