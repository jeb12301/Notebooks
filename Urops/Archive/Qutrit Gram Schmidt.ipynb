{
 "cells": [
  {
   "cell_type": "code",
   "execution_count": 1,
   "id": "585501ee-1b1f-4611-b5a5-7f764794d34f",
   "metadata": {},
   "outputs": [],
   "source": [
    "import numpy as np\n",
    "from itertools import combinations, product\n"
   ]
  },
  {
   "cell_type": "code",
   "execution_count": 46,
   "id": "d38dc2be-cac9-4bac-9123-ad04588b88d6",
   "metadata": {},
   "outputs": [],
   "source": [
    "def hs(mat1, mat2):\n",
    "    return np.trace(mat1.getH()*mat2)\n",
    "\n",
    "def norm(mat1):\n",
    "    return mat1/np.sqrt(np.abs(hs(mat1, mat1)))"
   ]
  },
  {
   "cell_type": "code",
   "execution_count": 6,
   "id": "2438ddc2-a4e1-407e-b9e0-6b779159364c",
   "metadata": {},
   "outputs": [],
   "source": [
    "third = smp.N(second - hs(first, second)*first)"
   ]
  },
  {
   "cell_type": "code",
   "execution_count": 176,
   "id": "526e8fa3-39ce-4371-ac3d-53fdb6499200",
   "metadata": {},
   "outputs": [
    {
     "name": "stdout",
     "output_type": "stream",
     "text": [
      "30\n"
     ]
    }
   ],
   "source": [
    "dim = 3 # Dimension\n",
    "\n",
    "def modadd(state, Z_or_X, index):\n",
    "    if state[Z_or_X][index] == dim-1:\n",
    "        state[Z_or_X][index]=0\n",
    "    else:\n",
    "        state[Z_or_X][index]+=1\n",
    "    return state\n",
    "\n",
    "def evolution(state, size):\n",
    "    Z_part, X_part = state\n",
    "    new_state = [[0 for _ in range(size)],[0 for _ in range(size)]]\n",
    "    # X to Z evolution\n",
    "    for i in range(size):\n",
    "        for k in range(X_part[i]):\n",
    "            # Z\n",
    "            new_state = modadd(new_state, 0, i)\n",
    "            new_state = modadd(new_state, 0, i)\n",
    "    # Z evolution\n",
    "    for i in range(size):\n",
    "        for k in range(Z_part[i]):\n",
    "            if i == 0: # Boundary\n",
    "                # Z\n",
    "                new_state = modadd(new_state, 0, i)\n",
    "                new_state = modadd(new_state, 0, i)\n",
    "                new_state = modadd(new_state, 0, i+1)\n",
    "                new_state = modadd(new_state, 0, i+1)\n",
    "                # X\n",
    "                new_state = modadd(new_state, 1, i)\n",
    "            elif i < size-1:\n",
    "                # Z\n",
    "                new_state = modadd(new_state, 0, i-1)\n",
    "                new_state = modadd(new_state, 0, i-1)\n",
    "                new_state = modadd(new_state, 0, i)\n",
    "                new_state = modadd(new_state, 0, i)\n",
    "                new_state = modadd(new_state, 0, i+1)\n",
    "                new_state = modadd(new_state, 0, i+1)\n",
    "                # X\n",
    "                new_state = modadd(new_state, 1, i)\n",
    "            else:\n",
    "                # Z\n",
    "                new_state = modadd(new_state, 0, i-1)\n",
    "                new_state = modadd(new_state, 0, i-1)\n",
    "                new_state = modadd(new_state, 0, i)\n",
    "                new_state = modadd(new_state, 0, i)\n",
    "                # X\n",
    "                new_state = modadd(new_state, 1, i) \n",
    "    return new_state\n",
    "\n",
    "state_0=[[1, 0, 0],[0, 0, 0]] # (Z, X)\n",
    "\n",
    "size = len(state_0[0])\n",
    "\n",
    "state = evolution(state_0, size)\n",
    "\n",
    "all_states = [state_0]\n",
    "\n",
    "while state != state_0:\n",
    "    all_states.append(state)\n",
    "    state = evolution(state, size)\n",
    "print(len(all_states))\n"
   ]
  },
  {
   "cell_type": "code",
   "execution_count": 177,
   "id": "7557f421-a66a-43ba-9ca2-cab446cf21e3",
   "metadata": {},
   "outputs": [],
   "source": [
    "I = np.matrix([[1,0,0], [0,1,0], [0,0,1]])\n",
    "X = np.matrix([[0,0,1],[1,0,0], [0,1,0]])\n",
    "Z = np.matrix([[1,0,0], [0,np.e**(1j*2*np.pi/3),0], [0, 0, np.e**(1j*4*np.pi/3)]])\n",
    "\n",
    "\n",
    "H = (1/np.sqrt(3))*np.matrix([[1,1,1],[1,np.e**(1j*2*np.pi/3),np.e**(1j*4*np.pi/3)], [1, np.e**(1j*4*np.pi/3), np.e**(1j*2*np.pi/3)]])\n",
    "S = np.matrix([[np.e**(1j*2*np.pi/3),0,0], [0,1,0], [0, 0, 1]])\n",
    "CZ = np.kron(np.matrix([[1,0, 0], [0,0, 0], [0, 0, 0]]), I)+np.kron(np.matrix([[0,0, 0], [0,1, 0], [0, 0, 0]]), Z) + np.kron(np.matrix([[0,0, 0], [0,0, 0], [0, 0, 1]]), Z**2)\n",
    "\n",
    "\n",
    "\n",
    "T_3 = np.kron(H*S, np.kron(H*S, H*S))*np.kron(CZ, I)*np.kron(I, CZ)\n",
    "T_2 = np.kron(H*S, H*S)*CZ\n",
    "\n"
   ]
  },
  {
   "cell_type": "code",
   "execution_count": 178,
   "id": "00127354-ea55-4081-8636-0951661448f3",
   "metadata": {},
   "outputs": [],
   "source": [
    "def round2zero(m, e):\n",
    "    for i in range(m.shape[0]):\n",
    "        for j in range(m.shape[1]):\n",
    "            if np.abs(np.imag(m[i,j])) < e:\n",
    "                m[i,j] = m[i,j]-np.imag(m[i,j])*1j\n",
    "            if np.abs(np.real(m[i,j])) < e:\n",
    "                m[i,j] = m[i,j]-np.real(m[i,j])\n",
    "e = .0000001\n",
    "#round2zero(A, e)"
   ]
  },
  {
   "cell_type": "code",
   "execution_count": 179,
   "id": "871fec37-107e-4971-9de1-2623fcc21f20",
   "metadata": {},
   "outputs": [],
   "source": [
    "l3 = np.matrix([[1, 0, 0], [0, -1, 0], [0, 0, 0]])\n",
    "\n",
    "l8 = np.matrix([[1, 0, 0], [0, 1, 0], [0, 0, -2]])*1/np.sqrt(3)\n"
   ]
  },
  {
   "cell_type": "code",
   "execution_count": 189,
   "id": "901f7fe4-d858-4560-b5dc-2c381e7ba0b9",
   "metadata": {},
   "outputs": [],
   "source": [
    "start = np.kron(l3, np.kron(I, I))\n",
    "#start = np.kron(l8, np.kron(I, I))\n",
    "ortho = []\n",
    "ortho.append(start)"
   ]
  },
  {
   "cell_type": "code",
   "execution_count": 190,
   "id": "b17ba080-8a30-459a-9c7e-ed39c3b06770",
   "metadata": {},
   "outputs": [],
   "source": [
    "for i in range(1, len(all_states)):\n",
    "    A = T_3.getH()**i*start*T_3**i\n",
    "    A = norm(A)\n",
    "    round2zero(A, e)\n",
    "    ortho.append(A)"
   ]
  },
  {
   "cell_type": "code",
   "execution_count": 191,
   "id": "3dd32e0d-bff4-4d26-8874-ae2597583deb",
   "metadata": {},
   "outputs": [],
   "source": [
    "loop = True\n",
    "\n",
    "new_length = len(ortho)"
   ]
  },
  {
   "cell_type": "code",
   "execution_count": 192,
   "id": "f471c6a9-44b3-4862-a993-be4e6f2e9500",
   "metadata": {},
   "outputs": [],
   "source": [
    "while loop == True:\n",
    "    commutations = []\n",
    "    comb1 = list(combinations([i for i in range(new_length)], 2))\n",
    "    list1 = [i for i in range(new_length)]\n",
    "    list2 = [i for i in range(new_length, len(ortho))]\n",
    "    comb2 = list(product(list1,list2))\n",
    "    total_comb = comb1 + comb2\n",
    "    print(\"Length: \", len(total_comb), \" list1: \", len(list1)\\\n",
    "         , \" list2: \", len(list2))\n",
    "    for i1, i2 in total_comb:\n",
    "        conj = ortho[i1]*ortho[i2]-ortho[i2]*ortho[i1]\n",
    "        round2zero(conj, e)\n",
    "        if conj.any():\n",
    "            commutations.append(norm(conj))\n",
    "    total_count = 0\n",
    "    for mat_c in commutations:\n",
    "        count  = 0\n",
    "        for i in range(len(ortho)):\n",
    "            if np.abs(hs(ortho[i], mat_c)) > 0.85:\n",
    "                count = 1\n",
    "                break\n",
    "            mat_c += -np.abs(hs(ortho[i], mat_c))*ortho[i]\n",
    "            mat_c = norm(mat_c)\n",
    "            round2zero(mat_c, e)\n",
    "            if mat_c.any() == False:\n",
    "                count = 1\n",
    "                break\n",
    "        mat_c = norm(mat_c)\n",
    "        round2zero(mat_c, e)\n",
    "        if count == 0:\n",
    "            ortho.insert(0, mat_c)\n",
    "            total_count+=1\n",
    "            print(len(ortho))\n",
    "    print(len(ortho))\n",
    "    if total_count == 0:\n",
    "        loop = False\n",
    "    print('ortho: ', len(ortho), 'new: ', total_count)\n",
    "    new_length = 20 # change to make faster, will be extremely large if len(new_ortho)"
   ]
  },
  {
   "cell_type": "code",
   "execution_count": 200,
   "id": "41bc732f-0486-4155-b282-ac4d55011b9d",
   "metadata": {},
   "outputs": [],
   "source": [
    "total_count = 0\n",
    "for i in range(20, len(ortho)):\n",
    "    for j in range(i+1, len(ortho)):\n",
    "        if np.abs(hs(ortho[i], ortho[j]))>0.3:\n",
    "            total_count += 1\n",
    "            break"
   ]
  },
  {
   "cell_type": "code",
   "execution_count": 202,
   "id": "8d381e52-d561-4720-afe6-0d35f35e9031",
   "metadata": {},
   "outputs": [
    {
     "data": {
      "text/plain": [
       "537"
      ]
     },
     "execution_count": 202,
     "metadata": {},
     "output_type": "execute_result"
    }
   ],
   "source": [
    "total_count"
   ]
  },
  {
   "cell_type": "code",
   "execution_count": 146,
   "id": "8826fc41-5d08-4dae-9674-2c17f1753584",
   "metadata": {},
   "outputs": [
    {
     "data": {
      "text/plain": [
       "(0.9999999966281986-7.415332370048636e-06j)"
      ]
     },
     "execution_count": 146,
     "metadata": {},
     "output_type": "execute_result"
    }
   ],
   "source": [
    "hs(ortho[-83], ortho[-82])"
   ]
  },
  {
   "cell_type": "code",
   "execution_count": 66,
   "id": "5567ca49-841e-4901-8cdc-b4c07618e050",
   "metadata": {},
   "outputs": [
    {
     "data": {
      "text/plain": [
       "'\\nfor i in range(1, len(ortho)):\\n    norm_check = norm(ortho[i])\\n    check += -np.abs((hs(norm_check, check)))*norm_check\\n'"
      ]
     },
     "execution_count": 66,
     "metadata": {},
     "output_type": "execute_result"
    }
   ],
   "source": [
    "check = ortho[0].copy()\n",
    "round2zero(check, e)\n",
    "check = norm(check)\n",
    "\n",
    "\"\"\"\n",
    "for i in range(1, len(ortho)):\n",
    "    norm_check = norm(ortho[i])\n",
    "    check += -np.abs((hs(norm_check, check)))*norm_check\n",
    "\"\"\""
   ]
  },
  {
   "cell_type": "code",
   "execution_count": 68,
   "id": "767eaff1-8e9a-431c-b274-c70950412b8c",
   "metadata": {},
   "outputs": [
    {
     "data": {
      "text/plain": [
       "(0.9996806433952741-6.227405873720734e-06j)"
      ]
     },
     "execution_count": 68,
     "metadata": {},
     "output_type": "execute_result"
    }
   ],
   "source": [
    "hs(check, norm_check)"
   ]
  },
  {
   "cell_type": "code",
   "execution_count": null,
   "id": "c8bd41fc-f9c2-4a5a-9292-8634933c00f2",
   "metadata": {},
   "outputs": [],
   "source": [
    "norm_check = norm(ortho[1])\n",
    "check-np.abs((hs(norm_check, check)))*norm_check"
   ]
  },
  {
   "cell_type": "code",
   "execution_count": null,
   "id": "3694968f-8ff3-4d3b-8912-ffd4d10becca",
   "metadata": {},
   "outputs": [],
   "source": [
    "hs(ortho[i], mat_c)*ortho[i]"
   ]
  },
  {
   "cell_type": "code",
   "execution_count": 23,
   "id": "bb0b8023-9c2b-4f22-8c9b-9a72597fdff1",
   "metadata": {},
   "outputs": [
    {
     "name": "stdout",
     "output_type": "stream",
     "text": [
      "0\n",
      "1\n",
      "2\n",
      "3\n",
      "4\n",
      "5\n",
      "6\n",
      "7\n",
      "8\n",
      "9\n",
      "10\n",
      "11\n",
      "12\n",
      "13\n",
      "14\n",
      "15\n",
      "16\n",
      "17\n",
      "18\n",
      "19\n",
      "20\n",
      "21\n",
      "22\n",
      "23\n",
      "24\n",
      "25\n",
      "26\n",
      "27\n",
      "28\n",
      "29\n",
      "30\n",
      "31\n",
      "32\n",
      "33\n",
      "34\n",
      "35\n",
      "36\n",
      "37\n",
      "38\n",
      "39\n",
      "40\n",
      "41\n",
      "42\n",
      "43\n",
      "44\n",
      "45\n",
      "46\n",
      "47\n",
      "48\n",
      "49\n",
      "50\n",
      "51\n",
      "52\n",
      "53\n",
      "54\n",
      "55\n",
      "56\n",
      "57\n",
      "58\n",
      "59\n",
      "60\n",
      "61\n",
      "62\n",
      "63\n",
      "64\n",
      "65\n",
      "66\n",
      "67\n",
      "71\n",
      "74\n",
      "77\n"
     ]
    }
   ],
   "source": [
    "check = ortho[0]\n",
    "for i1 in range(len(ortho)):\n",
    "    if np.abs(hs(ortho[i1],check))>e:\n",
    "        print(i1)"
   ]
  },
  {
   "cell_type": "code",
   "execution_count": null,
   "id": "9292b1a0-5356-4855-ae33-e5aef566e478",
   "metadata": {},
   "outputs": [],
   "source": []
  },
  {
   "cell_type": "code",
   "execution_count": null,
   "id": "bc800244-be9a-47c3-afee-ced281069745",
   "metadata": {},
   "outputs": [],
   "source": [
    "for i1 in range(len(ortho)):\n",
    "    for i2 in range(len(ortho)):\n",
    "        if i1 != i2:\n",
    "            if np.abs(hs(ortho[i1],ortho[i2]))>e:\n",
    "                print(i1, i2)"
   ]
  },
  {
   "cell_type": "code",
   "execution_count": 351,
   "id": "2c974ee2-bad7-4a12-b0a0-0c6eec57059b",
   "metadata": {},
   "outputs": [],
   "source": [
    "comm = []\n",
    "for i1 in range(len(ortho)):\n",
    "    for i2 in range(len(ortho)):\n",
    "        if i1 != i2:\n",
    "            conj = ortho[i1]*ortho[i2]-ortho[i2]*ortho[i1]\n",
    "            round2zero(conj, e)\n",
    "            if conj.any():\n",
    "                comm.append(conj)"
   ]
  },
  {
   "cell_type": "code",
   "execution_count": 365,
   "id": "5129e67a-8d18-40e3-bf35-24bcf064c3dd",
   "metadata": {},
   "outputs": [],
   "source": [
    "gram_comm = []\n",
    "for j in comm:\n",
    "    mat_c = j.copy()\n",
    "    for i in range(len(ortho)):\n",
    "        mat_c += -hs(mat_c, ortho[i])*ortho[i]\n",
    "        if mat_c.any() == False:\n",
    "            break\n",
    "    for i in range(len(gram_comm)):\n",
    "        mat_c += -hs(mat_c, gram_comm[i])*gram_comm[i]\n",
    "        if mat_c.any() == False:\n",
    "            break\n",
    "    mat_c = norm(mat_c)\n",
    "    round2zero(mat_c, e)\n",
    "    if mat_c.any():\n",
    "        gram_comm.append(mat_c)\n",
    "        "
   ]
  },
  {
   "cell_type": "code",
   "execution_count": null,
   "id": "4246c079-6c5e-4925-b8a2-6db03443fc97",
   "metadata": {},
   "outputs": [],
   "source": [
    "for i1 in range(len(gram_comm)):\n",
    "    for i2 in range(len(gram_comm)):\n",
    "        if i1 != i2:\n",
    "            if np.abs(hs(gram_comm[i1], gram_comm[i2])) >e:\n",
    "                print(i1, i2)"
   ]
  },
  {
   "cell_type": "code",
   "execution_count": null,
   "id": "f8c8da86-0ac2-4413-b11b-886c153cd7a1",
   "metadata": {},
   "outputs": [],
   "source": []
  }
 ],
 "metadata": {
  "kernelspec": {
   "display_name": "python3.9",
   "language": "python",
   "name": "python3.9.16"
  },
  "language_info": {
   "codemirror_mode": {
    "name": "ipython",
    "version": 3
   },
   "file_extension": ".py",
   "mimetype": "text/x-python",
   "name": "python",
   "nbconvert_exporter": "python",
   "pygments_lexer": "ipython3",
   "version": "3.9.16"
  }
 },
 "nbformat": 4,
 "nbformat_minor": 5
}
