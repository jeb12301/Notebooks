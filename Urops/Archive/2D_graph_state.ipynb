{
 "cells": [
  {
   "cell_type": "code",
   "execution_count": 3,
   "id": "6e229985-ce91-4a78-9775-ba33bce82702",
   "metadata": {},
   "outputs": [],
   "source": [
    "import sympy as smp\n",
    "import numpy as np\n",
    "from sympy.physics.quantum import TensorProduct\n",
    "from sympy.physics.quantum.dagger import Dagger"
   ]
  },
  {
   "cell_type": "code",
   "execution_count": 41,
   "id": "036c2f89-1321-409a-a012-2cb3c0874245",
   "metadata": {},
   "outputs": [],
   "source": [
    "# Sympy arrays\n",
    "I = smp.Matrix([[1,0], [0,1]])\n",
    "X = smp.Matrix([[0,1],[1,0]])\n",
    "Z = smp.Matrix([[1, 0],[0, -1]])\n",
    "Y = smp.Matrix([[0,-smp.I],[smp.I,0]])\n",
    "CZ = TensorProduct(smp.Matrix([[1,0], [0,0]]), I)\\\n",
    "+ TensorProduct(smp.Matrix([[0,0], [0,1]]), Z)\n",
    "CX = TensorProduct(smp.Matrix([[1,0], [0,0]]), I)\\\n",
    "+ TensorProduct(smp.Matrix([[0,0], [0,1]]), X)\n",
    "# Qubit states\n",
    "zero = smp.Matrix([[1,0]])\n",
    "one = smp.Matrix([[0,1]])\n",
    "plus_y = smp.Matrix([[1/smp.sqrt(2),smp.I/smp.sqrt(2)]])\n",
    "minus_y = smp.Matrix([[1/smp.sqrt(2),-smp.I/smp.sqrt(2)]])\n",
    "plus_x = smp.Matrix([[1/smp.sqrt(2),1/smp.sqrt(2)]])\n",
    "minus_x = smp.Matrix([[1/smp.sqrt(2),-1/smp.sqrt(2)]])\n",
    "\n",
    "T_invs = smp.Matrix()\n",
    "\n",
    "a, b, g, e = smp.symbols('alpha beta gamma eta')\n",
    "\n",
    "for A in [zero, one]:\n",
    "    for B in [plus_y, minus_y]:\n",
    "        for C in [zero, one]:\n",
    "            T_invs = T_invs.col_insert\\\n",
    "            (T_invs.shape[1],TensorProduct(TensorProduct(A,B),C).T)\n",
    "T = T_invs.inv()"
   ]
  },
  {
   "cell_type": "code",
   "execution_count": 42,
   "id": "52deb1b3-ccb5-41de-bd55-153221401a59",
   "metadata": {},
   "outputs": [],
   "source": [
    "q_1 = smp.Matrix([[a,b]]).T\n",
    "q_2 = smp.Matrix([[1/smp.sqrt(2),1/smp.sqrt(2)]]).T\n",
    "q_3 = smp.Matrix([[g,e]]).T"
   ]
  },
  {
   "cell_type": "code",
   "execution_count": 43,
   "id": "0fd085c4-df3b-418c-bd4a-837a9743fb4d",
   "metadata": {},
   "outputs": [],
   "source": [
    "initial_state = TensorProduct(I, CZ)*TensorProduct(CZ, I)*TensorProduct(TensorProduct(q_1,q_2),q_3)"
   ]
  },
  {
   "cell_type": "code",
   "execution_count": 45,
   "id": "0ed69598-0ae9-4e7b-8592-d9b60742b483",
   "metadata": {},
   "outputs": [],
   "source": [
    "end_state = smp.simplify(T*initial_state)"
   ]
  },
  {
   "cell_type": "code",
   "execution_count": 49,
   "id": "29e3cc34-3c27-49e3-b864-b4873671745b",
   "metadata": {},
   "outputs": [
    {
     "data": {
      "text/latex": [
       "$\\displaystyle \\left[\\begin{matrix}\\alpha \\gamma\\\\\\alpha \\eta\\\\\\beta \\eta\\\\\\beta \\gamma\\end{matrix}\\right]$"
      ],
      "text/plain": [
       "Matrix([\n",
       "[alpha*gamma],\n",
       "[  alpha*eta],\n",
       "[   beta*eta],\n",
       "[ beta*gamma]])"
      ]
     },
     "execution_count": 49,
     "metadata": {},
     "output_type": "execute_result"
    }
   ],
   "source": [
    "CX*TensorProduct(q_1,q_3)"
   ]
  },
  {
   "cell_type": "code",
   "execution_count": 47,
   "id": "65266681-cbee-46d8-8d82-9f03b608eac5",
   "metadata": {},
   "outputs": [
    {
     "data": {
      "text/latex": [
       "$\\displaystyle \\left[\\begin{matrix}\\frac{\\alpha \\gamma \\left(1 - i\\right)}{2}\\end{matrix}\\right]$"
      ],
      "text/plain": [
       "Matrix([[alpha*gamma*(1 - I)/2]])"
      ]
     },
     "metadata": {},
     "output_type": "display_data"
    },
    {
     "data": {
      "text/latex": [
       "$\\displaystyle \\left[\\begin{matrix}\\frac{\\alpha \\eta \\left(1 + i\\right)}{2}\\end{matrix}\\right]$"
      ],
      "text/plain": [
       "Matrix([[alpha*eta*(1 + I)/2]])"
      ]
     },
     "metadata": {},
     "output_type": "display_data"
    },
    {
     "data": {
      "text/latex": [
       "$\\displaystyle \\left[\\begin{matrix}\\frac{\\beta \\gamma \\left(1 + i\\right)}{2}\\end{matrix}\\right]$"
      ],
      "text/plain": [
       "Matrix([[beta*gamma*(1 + I)/2]])"
      ]
     },
     "metadata": {},
     "output_type": "display_data"
    },
    {
     "data": {
      "text/latex": [
       "$\\displaystyle \\left[\\begin{matrix}\\frac{\\beta \\eta \\left(1 - i\\right)}{2}\\end{matrix}\\right]$"
      ],
      "text/plain": [
       "Matrix([[beta*eta*(1 - I)/2]])"
      ]
     },
     "metadata": {},
     "output_type": "display_data"
    }
   ],
   "source": [
    "# For s = 0\n",
    "display(end_state.row(0))\n",
    "display(end_state.row(1))\n",
    "display(end_state.row(4))\n",
    "display(end_state.row(5))\n"
   ]
  },
  {
   "cell_type": "code",
   "execution_count": 50,
   "id": "0f1c3316-745c-4d24-a138-b8462019a1c6",
   "metadata": {},
   "outputs": [
    {
     "data": {
      "text/latex": [
       "$\\displaystyle \\left[\\begin{matrix}\\frac{\\alpha \\gamma \\left(1 + i\\right)}{2}\\end{matrix}\\right]$"
      ],
      "text/plain": [
       "Matrix([[alpha*gamma*(1 + I)/2]])"
      ]
     },
     "metadata": {},
     "output_type": "display_data"
    },
    {
     "data": {
      "text/latex": [
       "$\\displaystyle \\left[\\begin{matrix}\\frac{\\alpha \\eta \\left(1 - i\\right)}{2}\\end{matrix}\\right]$"
      ],
      "text/plain": [
       "Matrix([[alpha*eta*(1 - I)/2]])"
      ]
     },
     "metadata": {},
     "output_type": "display_data"
    },
    {
     "data": {
      "text/latex": [
       "$\\displaystyle \\left[\\begin{matrix}\\frac{\\beta \\gamma \\left(1 - i\\right)}{2}\\end{matrix}\\right]$"
      ],
      "text/plain": [
       "Matrix([[beta*gamma*(1 - I)/2]])"
      ]
     },
     "metadata": {},
     "output_type": "display_data"
    },
    {
     "data": {
      "text/latex": [
       "$\\displaystyle \\left[\\begin{matrix}\\frac{\\beta \\eta \\left(1 + i\\right)}{2}\\end{matrix}\\right]$"
      ],
      "text/plain": [
       "Matrix([[beta*eta*(1 + I)/2]])"
      ]
     },
     "metadata": {},
     "output_type": "display_data"
    }
   ],
   "source": [
    "# For s = 1\n",
    "display(end_state.row(2))\n",
    "display(end_state.row(3))\n",
    "display(end_state.row(6))\n",
    "display(end_state.row(7))"
   ]
  },
  {
   "cell_type": "code",
   "execution_count": 18,
   "id": "1832a036-0806-4826-95b2-7cf033fe8f34",
   "metadata": {},
   "outputs": [
    {
     "data": {
      "text/latex": [
       "$\\displaystyle \\left[\\begin{matrix}\\frac{1}{2}\\\\\\frac{1}{2}\\\\\\frac{1}{2}\\\\\\frac{1}{2}\\end{matrix}\\right]$"
      ],
      "text/plain": [
       "Matrix([\n",
       "[1/2],\n",
       "[1/2],\n",
       "[1/2],\n",
       "[1/2]])"
      ]
     },
     "execution_count": 18,
     "metadata": {},
     "output_type": "execute_result"
    }
   ],
   "source": [
    "TensorProduct(A,B).T"
   ]
  },
  {
   "cell_type": "code",
   "execution_count": 51,
   "id": "d0c79fa9-3763-47fb-8394-e4efe6582704",
   "metadata": {},
   "outputs": [
    {
     "data": {
      "text/latex": [
       "$\\displaystyle \\left[\\begin{matrix}\\frac{\\sqrt{2}}{2}\\\\0\\\\0\\\\- \\frac{\\sqrt{2}}{2}\\end{matrix}\\right]$"
      ],
      "text/plain": [
       "Matrix([\n",
       "[ sqrt(2)/2],\n",
       "[         0],\n",
       "[         0],\n",
       "[-sqrt(2)/2]])"
      ]
     },
     "metadata": {},
     "output_type": "display_data"
    }
   ],
   "source": [
    "T_2_invs = smp.Matrix()\n",
    "\n",
    "for A in [plus_x, minus_x]:\n",
    "    for B in [plus_x, minus_x]:\n",
    "        T_2_invs = T_2_invs.col_insert(T_2_invs.shape[1],TensorProduct(A,B).T)\n",
    "T_2 = T_2_invs.inv()\n",
    "display(T_2*smp.Matrix([[0, 1/smp.sqrt(2), 1/smp.sqrt(2), 0]]).T)"
   ]
  },
  {
   "cell_type": "code",
   "execution_count": null,
   "id": "458513e5-47ca-453a-adc1-233764bcb9ba",
   "metadata": {},
   "outputs": [],
   "source": []
  }
 ],
 "metadata": {
  "kernelspec": {
   "display_name": "python3.9",
   "language": "python",
   "name": "python3.9.16"
  },
  "language_info": {
   "codemirror_mode": {
    "name": "ipython",
    "version": 3
   },
   "file_extension": ".py",
   "mimetype": "text/x-python",
   "name": "python",
   "nbconvert_exporter": "python",
   "pygments_lexer": "ipython3",
   "version": "3.9.16"
  }
 },
 "nbformat": 4,
 "nbformat_minor": 5
}
