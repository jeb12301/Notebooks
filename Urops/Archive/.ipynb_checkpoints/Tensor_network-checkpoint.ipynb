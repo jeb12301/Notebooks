{
 "cells": [
  {
   "cell_type": "code",
   "execution_count": 1,
   "id": "28ae422e-fc14-45e8-b668-4a8d4224cea6",
   "metadata": {},
   "outputs": [],
   "source": [
    "import sympy as smp"
   ]
  },
  {
   "cell_type": "markdown",
   "id": "90494a0b-6cbf-42bf-ac8f-5a6161497ff1",
   "metadata": {},
   "source": [
    "page 6"
   ]
  },
  {
   "cell_type": "code",
   "execution_count": 16,
   "id": "62405ee4-fa9d-4941-84be-b9019269d80c",
   "metadata": {},
   "outputs": [
    {
     "data": {
      "text/latex": [
       "$\\displaystyle \\left[\\begin{matrix}0 & a d - b c\\\\- a d + b c & 0\\end{matrix}\\right]$"
      ],
      "text/plain": [
       "Matrix([\n",
       "[         0, a*d - b*c],\n",
       "[-a*d + b*c,         0]])"
      ]
     },
     "execution_count": 16,
     "metadata": {},
     "output_type": "execute_result"
    }
   ],
   "source": [
    "a, b, c, d = smp.symbols('a b c d')\n",
    "S = smp.Matrix([[a, b], [c, d]])\n",
    "e = smp.Matrix([[0, 1], [-1, 0]])\n",
    "S*e*S.T"
   ]
  },
  {
   "cell_type": "markdown",
   "id": "2d9d47b6-57bd-4bb2-b857-e7adb8bb20b9",
   "metadata": {},
   "source": [
    "$(S\\epsilon)_{ik}=\\sum_j S_{ij} \\epsilon_{jk}$\n",
    "\n",
    "and\n",
    "\n",
    "$(S\\epsilon S)_{il}=\\sum_k (S\\epsilon)_{ik} S_{lk} = \\sum_k (S\\epsilon)_{ik} S^T_{kl}$"
   ]
  },
  {
   "cell_type": "markdown",
   "id": "d912aa75-4874-4282-8aff-c38be8a84379",
   "metadata": {},
   "source": [
    "page 7 write the algebraic form + draw tensor network"
   ]
  },
  {
   "cell_type": "code",
   "execution_count": 2,
   "id": "863b32d8-9473-490b-8ecb-fa0e28406d25",
   "metadata": {},
   "outputs": [
    {
     "data": {
      "text/latex": [
       "$\\displaystyle \\left[\\begin{matrix}0 & 1\\\\1 & 0\\end{matrix}\\right]$"
      ],
      "text/plain": [
       "Matrix([\n",
       "[0, 1],\n",
       "[1, 0]])"
      ]
     },
     "execution_count": 2,
     "metadata": {},
     "output_type": "execute_result"
    }
   ],
   "source": [
    "import sympy as smp\n",
    "from sympy.vector import *\n",
    "I = smp.Matrix([[1,0], [0,1]])\n",
    "X = smp.Matrix([[0,1],[1,0]])\n",
    "Z = smp.Matrix([[1, 0],[0, -1]])\n",
    "H = smp.Matrix([[1, 1],[1, -1]])*(1/smp.sqrt(2))\n",
    "H*Z*H"
   ]
  },
  {
   "cell_type": "code",
   "execution_count": 10,
   "id": "cc70026b-3b58-4e38-b85d-d7981b413fe4",
   "metadata": {},
   "outputs": [
    {
     "data": {
      "text/latex": [
       "$\\displaystyle \\left[\\begin{matrix}1 & 0\\\\0 & -1\\end{matrix}\\right]$"
      ],
      "text/plain": [
       "Matrix([\n",
       "[1,  0],\n",
       "[0, -1]])"
      ]
     },
     "execution_count": 10,
     "metadata": {},
     "output_type": "execute_result"
    }
   ],
   "source": [
    "X**2*Z"
   ]
  },
  {
   "cell_type": "code",
   "execution_count": 11,
   "id": "178f1f44-0f79-4d72-bb13-9e67c31cf8e8",
   "metadata": {},
   "outputs": [
    {
     "data": {
      "text/latex": [
       "$\\displaystyle \\left[\\begin{matrix}1 & 0\\\\0 & -1\\end{matrix}\\right]$"
      ],
      "text/plain": [
       "Matrix([\n",
       "[1,  0],\n",
       "[0, -1]])"
      ]
     },
     "execution_count": 11,
     "metadata": {},
     "output_type": "execute_result"
    }
   ],
   "source": [
    "Z*X**2"
   ]
  },
  {
   "cell_type": "markdown",
   "id": "8ea6b4d7-bede-4809-8526-c5905735047a",
   "metadata": {},
   "source": [
    "## Suzuki Trotter"
   ]
  },
  {
   "cell_type": "code",
   "execution_count": 1,
   "id": "bb33d314-b60a-4f6b-9f4f-738900c59c71",
   "metadata": {},
   "outputs": [
    {
     "data": {
      "text/latex": [
       "$\\displaystyle \\frac{H^{12}}{518400} + \\frac{H^{11}}{43200} + \\frac{H^{10}}{5400} + \\frac{H^{9}}{864} + \\frac{17 H^{8}}{2880} + \\frac{H^{7}}{40} + \\frac{4 H^{6}}{45} + \\frac{4 H^{5}}{15} + \\frac{2 H^{4}}{3} + \\frac{4 H^{3}}{3} + 2 H^{2} + 2 H + 1$"
      ],
      "text/plain": [
       "H**12/518400 + H**11/43200 + H**10/5400 + H**9/864 + 17*H**8/2880 + H**7/40 + 4*H**6/45 + 4*H**5/15 + 2*H**4/3 + 4*H**3/3 + 2*H**2 + 2*H + 1"
      ]
     },
     "metadata": {},
     "output_type": "display_data"
    },
    {
     "data": {
      "text/latex": [
       "$\\displaystyle \\frac{4 H^{6}}{45} + \\frac{4 H^{5}}{15} + \\frac{2 H^{4}}{3} + \\frac{4 H^{3}}{3} + 2 H^{2} + 2 H + 1$"
      ],
      "text/plain": [
       "4*H**6/45 + 4*H**5/15 + 2*H**4/3 + 4*H**3/3 + 2*H**2 + 2*H + 1"
      ]
     },
     "metadata": {},
     "output_type": "display_data"
    }
   ],
   "source": [
    "import sympy as smp\n",
    "\n",
    "H = smp.symbols('H')\n",
    "\n",
    "seperated = (1+H+H**2/smp.factorial(2)+H**3/smp.factorial(3)\\\n",
    "             +H**4/smp.factorial(4)+H**5/smp.factorial(5)+H**6/smp.factorial(6))\n",
    "\n",
    "\n",
    "total = (1+(2*H)+(2*H)**2/smp.factorial(2)+(2*H)**3/smp.factorial(3)\\\n",
    "         +(2*H)**4/smp.factorial(4)+(2*H)**5/smp.factorial(5)+(2*H)**6/smp.factorial(6))\n",
    "\n",
    "\n",
    "display(smp.expand(seperated*seperated))\n",
    "\n",
    "display(total)"
   ]
  },
  {
   "cell_type": "code",
   "execution_count": 6,
   "id": "5f774892-3e2c-453d-ac4a-95c5554dc96b",
   "metadata": {},
   "outputs": [
    {
     "data": {
      "text/latex": [
       "$\\displaystyle \\frac{H^{12}}{518400} + \\frac{i H^{11}}{43200} - \\frac{H^{10}}{5400} - \\frac{i H^{9}}{864} + \\frac{17 H^{8}}{2880} + \\frac{i H^{7}}{40} - \\frac{4 H^{6}}{45} - \\frac{4 i H^{5}}{15} + \\frac{2 H^{4}}{3} + \\frac{4 i H^{3}}{3} - 2 H^{2} - 2 i H + 1$"
      ],
      "text/plain": [
       "H**12/518400 + I*H**11/43200 - H**10/5400 - I*H**9/864 + 17*H**8/2880 + I*H**7/40 - 4*H**6/45 - 4*I*H**5/15 + 2*H**4/3 + 4*I*H**3/3 - 2*H**2 - 2*I*H + 1"
      ]
     },
     "metadata": {},
     "output_type": "display_data"
    },
    {
     "data": {
      "text/latex": [
       "$\\displaystyle - \\frac{4 H^{6}}{45} - \\frac{4 i H^{5}}{15} + \\frac{2 H^{4}}{3} + \\frac{4 i H^{3}}{3} - 2 H^{2} - 2 i H + 1$"
      ],
      "text/plain": [
       "-4*H**6/45 - 4*I*H**5/15 + 2*H**4/3 + 4*I*H**3/3 - 2*H**2 - 2*I*H + 1"
      ]
     },
     "metadata": {},
     "output_type": "display_data"
    }
   ],
   "source": [
    "seperated = (1+(-smp.I)*H+(-smp.I*H)**2/smp.factorial(2)+(-smp.I*H)**3/smp.factorial(3)\\\n",
    "             +(-smp.I*H)**4/smp.factorial(4)+(-smp.I*H)**5/smp.factorial(5)+(-smp.I*H)**6/smp.factorial(6))\n",
    "\n",
    "\n",
    "total = (1+(-smp.I*2*H)+(-smp.I*2*H)**2/smp.factorial(2)+(-smp.I*2*H)**3/smp.factorial(3)\\\n",
    "             +(-smp.I*2*H)**4/smp.factorial(4)+(-smp.I*2*H)**5/smp.factorial(5)+(-smp.I*2*H)**6/smp.factorial(6))\n",
    "\n",
    "display(smp.expand(seperated*seperated))\n",
    "\n",
    "display(smp.expand(total))"
   ]
  },
  {
   "cell_type": "code",
   "execution_count": null,
   "id": "88e19673-1128-461a-93a6-786bda199ec1",
   "metadata": {},
   "outputs": [],
   "source": []
  }
 ],
 "metadata": {
  "kernelspec": {
   "display_name": "python3.9",
   "language": "python",
   "name": "python3.9.16"
  },
  "language_info": {
   "codemirror_mode": {
    "name": "ipython",
    "version": 3
   },
   "file_extension": ".py",
   "mimetype": "text/x-python",
   "name": "python",
   "nbconvert_exporter": "python",
   "pygments_lexer": "ipython3",
   "version": "3.9.16"
  }
 },
 "nbformat": 4,
 "nbformat_minor": 5
}
