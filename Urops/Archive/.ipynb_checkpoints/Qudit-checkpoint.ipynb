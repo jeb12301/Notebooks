{
 "cells": [
  {
   "cell_type": "code",
   "execution_count": 1,
   "id": "82eed547-8990-4be9-bc64-3d30fd722fe6",
   "metadata": {},
   "outputs": [],
   "source": [
    "import sympy as smp"
   ]
  },
  {
   "cell_type": "markdown",
   "id": "643f2634-fd8f-498a-b033-6c850ed5c16b",
   "metadata": {
    "jp-MarkdownHeadingCollapsed": true,
    "tags": []
   },
   "source": [
    "## Code"
   ]
  },
  {
   "cell_type": "code",
   "execution_count": null,
   "id": "46a99ba6-04aa-4cd5-90ef-2218747ddd2c",
   "metadata": {},
   "outputs": [],
   "source": [
    "import sympy as smp\n",
    "from sympy.vector import *\n",
    "I = smp.Matrix([[1,0,0], [0,1,0], [0,0,1]])\n",
    "\n",
    "# Unique up to a phase\n",
    "Z = smp.Matrix([[1,0,0], [0,smp.E**(2*smp.pi*smp.I/3),0], [0,0,smp.E**(4*smp.pi*smp.I/3)]])\n",
    "\n",
    "# By convention we could let the cyclic group be (0, 1, 2), though (2, 1, 0) works.\n",
    "X = smp.Matrix([[0,0,1], [1,0,0], [0,1,0] ])\n",
    "# Hermitian"
   ]
  },
  {
   "cell_type": "code",
   "execution_count": 1,
   "id": "516ddbdf-2542-4848-a34d-5f4a3ad3cf7b",
   "metadata": {},
   "outputs": [],
   "source": [
    "import sympy as smp\n",
    "from sympy.vector import *\n",
    "I = smp.Matrix([[1,0,0], [0,1,0], [0,0,1]])\n",
    "\n",
    "# Unique up to a phase\n",
    "Z = smp.Matrix([[1,0,0], [0,smp.E**(2*smp.pi*smp.I/3),0], [0,0,smp.E**(4*smp.pi*smp.I/3)]])\n",
    "\n",
    "# By convention we could let the cyclic group be (0, 1, 2), though (2, 1, 0) works.\n",
    "X = smp.Matrix([[0,0,1], [1,0,0], [0,1,0] ])\n",
    "# Hermitian"
   ]
  },
  {
   "cell_type": "markdown",
   "id": "d96c5f82-a0ec-46b0-908d-6df81118db1c",
   "metadata": {},
   "source": [
    "phases are 1, e^2pi/3, e^4pi/3, so need to be able to extra the phase"
   ]
  },
  {
   "cell_type": "code",
   "execution_count": null,
   "id": "a4cd97da-3bb3-4d27-8b3b-a492680a47d4",
   "metadata": {},
   "outputs": [],
   "source": []
  },
  {
   "cell_type": "code",
   "execution_count": 21,
   "id": "374d321e-7414-4c3d-a470-7c1d29640719",
   "metadata": {},
   "outputs": [
    {
     "data": {
      "text/latex": [
       "$\\displaystyle \\left[\\begin{matrix}0 & 0 & 1\\\\e^{\\frac{2 i \\pi}{3}} & 0 & 0\\\\0 & e^{- \\frac{2 i \\pi}{3}} & 0\\end{matrix}\\right]$"
      ],
      "text/plain": [
       "Matrix([\n",
       "[            0,              0, 1],\n",
       "[exp(2*I*pi/3),              0, 0],\n",
       "[            0, exp(-2*I*pi/3), 0]])"
      ]
     },
     "execution_count": 21,
     "metadata": {},
     "output_type": "execute_result"
    }
   ],
   "source": [
    "Z*X"
   ]
  },
  {
   "cell_type": "code",
   "execution_count": 17,
   "id": "7edc40d5-4506-4730-a355-69147f20efd3",
   "metadata": {},
   "outputs": [
    {
     "data": {
      "text/latex": [
       "$\\displaystyle \\left[\\begin{matrix}0 & 0 & e^{- \\frac{2 i \\pi}{3}}\\\\1 & 0 & 0\\\\0 & e^{\\frac{2 i \\pi}{3}} & 0\\end{matrix}\\right]$"
      ],
      "text/plain": [
       "Matrix([\n",
       "[0,             0, exp(-2*I*pi/3)],\n",
       "[1,             0,              0],\n",
       "[0, exp(2*I*pi/3),              0]])"
      ]
     },
     "execution_count": 17,
     "metadata": {},
     "output_type": "execute_result"
    }
   ],
   "source": [
    "X*Z"
   ]
  },
  {
   "cell_type": "code",
   "execution_count": 15,
   "id": "ee98ad2a-e356-4858-b971-673a218e09cb",
   "metadata": {},
   "outputs": [
    {
     "data": {
      "text/latex": [
       "$\\displaystyle \\left[\\begin{matrix}e^{\\frac{2 i \\pi}{3}} & 0 & 0\\\\0 & e^{\\frac{2 i \\pi}{3}} & 0\\\\0 & 0 & e^{\\frac{2 i \\pi}{3}}\\end{matrix}\\right]$"
      ],
      "text/plain": [
       "Matrix([\n",
       "[exp(2*I*pi/3),             0,             0],\n",
       "[            0, exp(2*I*pi/3),             0],\n",
       "[            0,             0, exp(2*I*pi/3)]])"
      ]
     },
     "execution_count": 15,
     "metadata": {},
     "output_type": "execute_result"
    }
   ],
   "source": [
    "(Y*Z*Y*X) # Generates the global phase (take power)"
   ]
  },
  {
   "cell_type": "code",
   "execution_count": null,
   "id": "fccfad68-b751-4801-a49e-99e2835b4705",
   "metadata": {},
   "outputs": [],
   "source": []
  },
  {
   "cell_type": "code",
   "execution_count": 138,
   "id": "0fd69b79-fe12-4240-8446-946356a031fd",
   "metadata": {},
   "outputs": [],
   "source": [
    "Y = smp.E**(smp.I*smp.pi/3)*smp.Matrix([[0,0,1], [-1,0,0], [0,-1,0] ])\n",
    "# Does not work for the 1, some phase, some phase\n"
   ]
  },
  {
   "cell_type": "markdown",
   "id": "fdc2fa2d-8c43-4587-bff2-0b50d149a615",
   "metadata": {},
   "source": [
    "Gell-man matrices span the 3^2 matrix for qutrits"
   ]
  },
  {
   "cell_type": "code",
   "execution_count": 40,
   "id": "c129f156-7bc0-4209-b8a7-c5f67867aed7",
   "metadata": {},
   "outputs": [],
   "source": [
    "import sympy as smp\n",
    "from sympy.vector import *\n",
    "I = smp.Matrix([[1,0,0,0,0,0], [0,1,0,0,0,0], [0,0,1,0,0,0], [0,0,0,1,0,0], [0,0,0,0,1,0], [0,0,0,0,0,1]])\n",
    "\n",
    "# Unique up to a phase\n",
    "Z = smp.Matrix([[1,0,0,0,0,0], [0,smp.E**(2*smp.pi*smp.I/6),0,0,0,0], [0,0,smp.E**(4*smp.pi*smp.I/6),0,0,0], [0,0,0,smp.E**(6*smp.pi*smp.I/6),0,0], [0,0,0,0,smp.E**(8*smp.pi*smp.I/6),0], [0,0,0,0,0,smp.E**(10*smp.pi*smp.I/6)]])\n",
    "\n",
    "# By convention we could let the cyclic group be (0, 1, 2), though (2, 1, 0) works.\n",
    "X = smp.Matrix([[0,0,0,0,0,1], [1,0,0,0,0,0], [0,1,0,0,0,0], [0,0,1,0,0,0], [0,0,0,1,0,0], [0,0,0,0,1,0]])\n",
    "# Hermitian"
   ]
  },
  {
   "cell_type": "code",
   "execution_count": 41,
   "id": "dc80383a-b6a9-4b20-8e36-628f8faec3dc",
   "metadata": {},
   "outputs": [],
   "source": [
    "Y=smp.I*Z*X"
   ]
  },
  {
   "cell_type": "code",
   "execution_count": 42,
   "id": "6ea49624-1279-4dae-8104-bf09a397bebb",
   "metadata": {},
   "outputs": [
    {
     "data": {
      "text/latex": [
       "$\\displaystyle \\left[\\begin{matrix}1 & 0 & 0 & 0 & 0 & 0\\\\0 & 1 & 0 & 0 & 0 & 0\\\\0 & 0 & 1 & 0 & 0 & 0\\\\0 & 0 & 0 & 1 & 0 & 0\\\\0 & 0 & 0 & 0 & 1 & 0\\\\0 & 0 & 0 & 0 & 0 & 1\\end{matrix}\\right]$"
      ],
      "text/plain": [
       "Matrix([\n",
       "[1, 0, 0, 0, 0, 0],\n",
       "[0, 1, 0, 0, 0, 0],\n",
       "[0, 0, 1, 0, 0, 0],\n",
       "[0, 0, 0, 1, 0, 0],\n",
       "[0, 0, 0, 0, 1, 0],\n",
       "[0, 0, 0, 0, 0, 1]])"
      ]
     },
     "execution_count": 42,
     "metadata": {},
     "output_type": "execute_result"
    }
   ],
   "source": [
    "I"
   ]
  },
  {
   "cell_type": "code",
   "execution_count": 43,
   "id": "6fac7fff-d7df-4a8d-8500-a7dc8b0f2267",
   "metadata": {},
   "outputs": [
    {
     "data": {
      "text/plain": [
       "True"
      ]
     },
     "execution_count": 43,
     "metadata": {},
     "output_type": "execute_result"
    }
   ],
   "source": [
    "(Y)**6==(Z)**6==(X)**6==I"
   ]
  },
  {
   "cell_type": "code",
   "execution_count": null,
   "id": "3acaea96-605c-4365-a8f8-265024de2410",
   "metadata": {},
   "outputs": [],
   "source": []
  },
  {
   "cell_type": "markdown",
   "id": "f54560c2-236c-4578-a838-35770701999d",
   "metadata": {
    "jp-MarkdownHeadingCollapsed": true,
    "tags": []
   },
   "source": [
    "## Pfaffian"
   ]
  },
  {
   "cell_type": "code",
   "execution_count": 25,
   "id": "3c0f921d-b558-416e-960b-b9f5a14930af",
   "metadata": {},
   "outputs": [],
   "source": [
    "a, b, c, d, e, f, g, h, i, j, k, l, m, n, o, p, q, r, s, t, u, v, w, x, y, z= smp.symbols(\"\"\"\n",
    "a b c d e f g h i j k l m n o p q r s t u v w x y z\"\"\")"
   ]
  },
  {
   "cell_type": "code",
   "execution_count": 26,
   "id": "04f7b590-604a-4489-ab6d-5b302d6a3392",
   "metadata": {},
   "outputs": [],
   "source": [
    "A = smp.Matrix([[0, a,b,c,d,e], [0,0,h,i,j,k], [0, 0, 0,l,m,n], [0,0,0,0,o,p], [0,0,0,0,0,q], [0,0,0,0,0,0]])\n",
    "\n",
    "\n",
    "\n"
   ]
  },
  {
   "cell_type": "code",
   "execution_count": 27,
   "id": "6488ff01-fcb4-4aee-a3e8-06203978452d",
   "metadata": {},
   "outputs": [
    {
     "data": {
      "text/latex": [
       "$\\displaystyle \\left(- a l q + a m p - a n o + b i q - b j p + b k o - c h q + c j n - c k m + d h p - d i n + d k l - e h o + e i m - e j l\\right)^{2}$"
      ],
      "text/plain": [
       "(-a*l*q + a*m*p - a*n*o + b*i*q - b*j*p + b*k*o - c*h*q + c*j*n - c*k*m + d*h*p - d*i*n + d*k*l - e*h*o + e*i*m - e*j*l)**2"
      ]
     },
     "execution_count": 27,
     "metadata": {},
     "output_type": "execute_result"
    }
   ],
   "source": [
    "smp.factor(smp.det(A-A.T))"
   ]
  },
  {
   "cell_type": "markdown",
   "id": "e34bdc36-5f47-47a6-a7d0-bd30b3de88d8",
   "metadata": {
    "jp-MarkdownHeadingCollapsed": true,
    "tags": []
   },
   "source": [
    "## qutrit"
   ]
  },
  {
   "cell_type": "code",
   "execution_count": 2,
   "id": "bf0964fe-8bd6-47b4-9da0-e1380b733afb",
   "metadata": {},
   "outputs": [],
   "source": [
    "w0, w1, w2 = smp.symbols('w_0 w_1 w_2')"
   ]
  },
  {
   "cell_type": "code",
   "execution_count": 47,
   "id": "0024eb2a-52c9-43fd-b29d-605b9eac78f2",
   "metadata": {},
   "outputs": [],
   "source": [
    "A = smp.Matrix([[w0, w1, w2], [w0**2, w1**2, w2**2],[1, 1, 1]])"
   ]
  },
  {
   "cell_type": "code",
   "execution_count": 48,
   "id": "ed644083-015a-46a1-8f3a-395756b83e94",
   "metadata": {},
   "outputs": [
    {
     "data": {
      "text/latex": [
       "$\\displaystyle \\left[\\begin{matrix}1 & 0 & 0\\\\0 & 1 & 0\\\\0 & 0 & 1\\end{matrix}\\right]$"
      ],
      "text/plain": [
       "Matrix([\n",
       "[1, 0, 0],\n",
       "[0, 1, 0],\n",
       "[0, 0, 1]])"
      ]
     },
     "execution_count": 48,
     "metadata": {},
     "output_type": "execute_result"
    }
   ],
   "source": [
    "A.rref()[0]"
   ]
  },
  {
   "cell_type": "code",
   "execution_count": 44,
   "id": "05fa5962-992d-404f-a21b-8fd4422531cd",
   "metadata": {},
   "outputs": [],
   "source": [
    "A = smp.Matrix([[w0, w1, w2], [w0, w2, w1], [1, 1, 1]])"
   ]
  },
  {
   "cell_type": "code",
   "execution_count": 45,
   "id": "161aaba1-3fc5-485d-b5ce-367566cdc7a2",
   "metadata": {},
   "outputs": [
    {
     "data": {
      "text/latex": [
       "$\\displaystyle \\left[\\begin{matrix}1 & 0 & 0\\\\0 & 1 & 0\\\\0 & 0 & 1\\end{matrix}\\right]$"
      ],
      "text/plain": [
       "Matrix([\n",
       "[1, 0, 0],\n",
       "[0, 1, 0],\n",
       "[0, 0, 1]])"
      ]
     },
     "execution_count": 45,
     "metadata": {},
     "output_type": "execute_result"
    }
   ],
   "source": [
    "A.rref()[0]"
   ]
  },
  {
   "cell_type": "code",
   "execution_count": 34,
   "id": "45d0cf93-0080-4aab-9879-408d48feeb29",
   "metadata": {},
   "outputs": [
    {
     "data": {
      "text/latex": [
       "$\\displaystyle - 2 w_{0} w_{1} + 2 w_{0} w_{2} + w_{1}^{2} - w_{2}^{2}$"
      ],
      "text/plain": [
       "-2*w_0*w_1 + 2*w_0*w_2 + w_1**2 - w_2**2"
      ]
     },
     "execution_count": 34,
     "metadata": {},
     "output_type": "execute_result"
    }
   ],
   "source": [
    "smp.det(A)"
   ]
  },
  {
   "cell_type": "markdown",
   "id": "15f14d53-6c84-4842-a5c1-3ba53a3520a4",
   "metadata": {},
   "source": [
    "contradiction if w1 neq w2 and the det equals 0"
   ]
  },
  {
   "cell_type": "markdown",
   "id": "2e7d5afb-3a43-456a-b580-8377a3ec08c5",
   "metadata": {},
   "source": [
    "If non-trivial, then for all a0 we have a0+a1x+a2x^2+ ... = 0\n",
    "\n",
    "this means that the polynomial must have solution"
   ]
  },
  {
   "cell_type": "markdown",
   "id": "52495fa9-4425-4842-a0c0-0d6f0cf76758",
   "metadata": {},
   "source": [
    "$$\n",
    "\\displaystyle \\left[\\begin{matrix}x & y & z\\\\x^2 & y^2 & z^2\\\\1 & 1 & 1\\end{matrix}\\right]\n",
    "$$"
   ]
  },
  {
   "cell_type": "code",
   "execution_count": null,
   "id": "dc990f02-8204-4564-bf75-737484f563f0",
   "metadata": {},
   "outputs": [],
   "source": [
    "Then, its the function is of the general form f(a) = (a-x)(a-y)(a-z)...."
   ]
  },
  {
   "cell_type": "code",
   "execution_count": null,
   "id": "f14f9798-bffc-4759-ae10-c550c784bbd6",
   "metadata": {},
   "outputs": [],
   "source": [
    "ax+ay+az = 0, ax^2 + ay^2 + az^2 = 0, a + a + a = 0"
   ]
  },
  {
   "cell_type": "code",
   "execution_count": null,
   "id": "93d2eede-c18c-46ef-bc51-77e2fe07880a",
   "metadata": {},
   "outputs": [],
   "source": [
    "f(x) + f(y) + f(z) = 0"
   ]
  },
  {
   "cell_type": "code",
   "execution_count": null,
   "id": "40007cd2-7244-4b54-bce8-bc05f34e3780",
   "metadata": {},
   "outputs": [
    {
     "name": "stdout",
     "output_type": "stream",
     "text": [
      " 2D_graph_state.ipynb   gram_schmidt.py   Tensor_network.ipynb\n",
      "'Gram Schmidt.ipynb'    Qudit.ipynb\n"
     ]
    }
   ],
   "source": [
    "!ls"
   ]
  },
  {
   "cell_type": "markdown",
   "id": "0c8e313a-f0f4-4301-b6dd-5d3ba83aa26e",
   "metadata": {},
   "source": [
    "## Paper"
   ]
  },
  {
   "cell_type": "code",
   "execution_count": 8,
   "id": "35209fb6-239f-4aee-aabc-04e0b408dc68",
   "metadata": {},
   "outputs": [],
   "source": [
    "import sympy as smp\n",
    "from sympy.physics.quantum.dagger import Dagger\n",
    "from sympy.physics.quantum import TensorProduct as TP\n",
    "from sympy.vector import *\n",
    "I = smp.Matrix([[1,0,0], [0,1,0], [0,0,1]])\n",
    "X = smp.Matrix([[0,0,1],[1,0,0], [0,1,0]])\n",
    "Z = smp.Matrix([[1,0,0], [0,smp.E**(1j*2*smp.pi/3),0], [0, 0, smp.E**(1j*4*smp.pi/3)]])\n",
    "H = (1/smp.sqrt(3))*smp.Matrix([[1,1,1], [1,smp.E**(1j*2*smp.pi/3),smp.E**(1j*4*smp.pi/3)], [1, smp.E**(1j*4*smp.pi/3), smp.E**(1j*2*smp.pi/3)]])\n",
    "S = smp.sqrt(Z).doit().factor(deep=True)\n",
    "Y=Z*X\n",
    "CZ = TP(smp.Matrix([[1,0, 0], [0,0, 0], [0, 0, 0]]), I)+TP(smp.Matrix([[0,0, 0], [0,1, 0], [0, 0, 0]]), Z) + TP(smp.Matrix([[0,0, 0], [0,0, 0], [0, 0, 1]]), Z*Z)\n",
    "\n",
    "HS = smp.Matrix(H*S)\n",
    "\n",
    "T_2 = TP(HS, HS)\n",
    "T_3 = TP(HS, HS, HS)*TP(CZ, I)*TP(I, CZ)\n",
    "T_4 = TP(HS, HS, HS, HS)*TP(CZ, CZ)*TP(I,CZ,I)\n",
    "\n",
    "# https://arxiv.org/pdf/2003.04879.pdf"
   ]
  },
  {
   "cell_type": "code",
   "execution_count": 129,
   "id": "c2376a35-ead1-4239-973b-87d1cad2208b",
   "metadata": {},
   "outputs": [
    {
     "data": {
      "text/latex": [
       "$\\displaystyle \\left[\\begin{matrix}3.0 & 0 & 0\\\\0 & 1.0 \\cdot 10^{-128} + 2.0 \\cdot 10^{-128} i & 3.0\\\\0 & 3.0 & 1.0 \\cdot 10^{-128} + 2.0 \\cdot 10^{-128} i\\end{matrix}\\right]$"
      ],
      "text/plain": [
       "Matrix([\n",
       "[3.0,                   0,                   0],\n",
       "[  0, 0.e-128 + 0.e-128*I,                 3.0],\n",
       "[  0,                 3.0, 0.e-128 + 0.e-128*I]])"
      ]
     },
     "execution_count": 129,
     "metadata": {},
     "output_type": "execute_result"
    }
   ],
   "source": [
    "w0, w1, w2 = smp.symbols('\\omega_0 \\omega_1 \\omega_2')\n",
    "H = smp.Matrix([[1,1,1], [1,w1,w2], [1, w2, w1]])\n",
    "H3 = H*H\n",
    "smp.N(smp.nsimplify(H3.subs(w1,-1-w2).subs(w2, smp.E**(1j*4*smp.pi/3)),tolerance=1e-5,rational=True))\n"
   ]
  },
  {
   "cell_type": "code",
   "execution_count": 131,
   "id": "56067c97-74f9-49a4-a5f1-123bf0ed8808",
   "metadata": {},
   "outputs": [],
   "source": [
    "zero_h = H*smp.Matrix([[1], [0], [0]])\n",
    "one_h = H*smp.Matrix([[0], [1], [0]])\n",
    "two_h = H*smp.Matrix([[0], [0], [1]])\n",
    "\n",
    "#|0_h><0| + |1_h><1| + |2_h><2|\n",
    "#|0><0_h| + |2><1_h| + |1><|2_h|"
   ]
  },
  {
   "cell_type": "markdown",
   "id": "d531cfda-73bd-4ed6-aa65-7481b55265cb",
   "metadata": {},
   "source": [
    "Another way (prob wrong?)"
   ]
  },
  {
   "cell_type": "code",
   "execution_count": 4,
   "id": "a84797d1-8948-44ba-a743-9b5329d0426e",
   "metadata": {},
   "outputs": [],
   "source": [
    "import sympy as smp\n",
    "import numpy as np\n",
    "\n",
    "H_n = np.matrix(H)\n",
    "\n",
    "to_input = np.reshape(np.fromiter(smp.Matrix(H_n), dtype=complex), (3, 3))\n",
    "\n",
    "smp.Matrix(np.linalg.eig(to_input)[1])\n",
    "\n",
    "smp.Matrix(np.linalg.eig(to_input)[0])\n",
    "\n",
    "|0_h> = 1/np.sqrt(5)|0> + 2/np.sqrt(5)|1>\n",
    "\n",
    "2/np.sqrt(8), 1/np.sqrt(8), /np.sqrt(8)\n",
    "???"
   ]
  },
  {
   "cell_type": "markdown",
   "id": "46266a87-9d61-49e5-8612-918194dc1e81",
   "metadata": {},
   "source": [
    "### Checking T_k"
   ]
  },
  {
   "cell_type": "code",
   "execution_count": 150,
   "id": "a61c5577-fe98-4d1f-8063-c1c4bbddbac2",
   "metadata": {},
   "outputs": [],
   "source": [
    "B = smp.Matrix(smp.N(Dagger(T_3)*TP(I,Z,I)*T_3))"
   ]
  },
  {
   "cell_type": "code",
   "execution_count": 151,
   "id": "113488a9-cdb9-44eb-a966-24a22451d9ed",
   "metadata": {},
   "outputs": [],
   "source": [
    "def round2zero(m, e):\n",
    "    for i in range(m.shape[0]):\n",
    "        for j in range(m.shape[1]):\n",
    "            if smp.Abs(m[i,j]) < e:\n",
    "                m[i,j] = 0\n",
    "e = .0000001\n",
    "round2zero(B, e)"
   ]
  },
  {
   "cell_type": "code",
   "execution_count": 152,
   "id": "9d279da3-47dd-41d8-aa06-2b046700f32d",
   "metadata": {},
   "outputs": [
    {
     "data": {
      "text/latex": [
       "$\\displaystyle \\left[\\begin{array}{ccccccccccccccccccccccccccc}0 & 0 & 0 & 0 & 0 & 0 & 0.5 - 0.866025403784439 i & 0 & 0 & 0 & 0 & 0 & 0 & 0 & 0 & 0 & 0 & 0 & 0 & 0 & 0 & 0 & 0 & 0 & 0 & 0 & 0\\\\0 & 0 & 0 & 0 & 0 & 0 & 0 & -1.0 + 6.9757369968438 \\cdot 10^{-16} i & 0 & 0 & 0 & 0 & 0 & 0 & 0 & 0 & 0 & 0 & 0 & 0 & 0 & 0 & 0 & 0 & 0 & 0 & 0\\\\0 & 0 & 0 & 0 & 0 & 0 & 0 & 0 & 0.500000000000001 + 0.866025403784438 i & 0 & 0 & 0 & 0 & 0 & 0 & 0 & 0 & 0 & 0 & 0 & 0 & 0 & 0 & 0 & 0 & 0 & 0\\\\0.5 - 0.866025403784439 i & 0 & 0 & 0 & 0 & 0 & 0 & 0 & 0 & 0 & 0 & 0 & 0 & 0 & 0 & 0 & 0 & 0 & 0 & 0 & 0 & 0 & 0 & 0 & 0 & 0 & 0\\\\0 & -1.0 - 1.55016377716168 \\cdot 10^{-16} i & 0 & 0 & 0 & 0 & 0 & 0 & 0 & 0 & 0 & 0 & 0 & 0 & 0 & 0 & 0 & 0 & 0 & 0 & 0 & 0 & 0 & 0 & 0 & 0 & 0\\\\0 & 0 & 0.5 + 0.866025403784439 i & 0 & 0 & 0 & 0 & 0 & 0 & 0 & 0 & 0 & 0 & 0 & 0 & 0 & 0 & 0 & 0 & 0 & 0 & 0 & 0 & 0 & 0 & 0 & 0\\\\0 & 0 & 0 & -0.5 + 0.866025403784439 i & 0 & 0 & 0 & 0 & 0 & 0 & 0 & 0 & 0 & 0 & 0 & 0 & 0 & 0 & 0 & 0 & 0 & 0 & 0 & 0 & 0 & 0 & 0\\\\0 & 0 & 0 & 0 & 1.0 - 1.55016377672311 \\cdot 10^{-16} i & 0 & 0 & 0 & 0 & 0 & 0 & 0 & 0 & 0 & 0 & 0 & 0 & 0 & 0 & 0 & 0 & 0 & 0 & 0 & 0 & 0 & 0\\\\0 & 0 & 0 & 0 & 0 & -0.5 - 0.866025403784439 i & 0 & 0 & 0 & 0 & 0 & 0 & 0 & 0 & 0 & 0 & 0 & 0 & 0 & 0 & 0 & 0 & 0 & 0 & 0 & 0 & 0\\\\0 & 0 & 0 & 0 & 0 & 0 & 0 & 0 & 0 & 0 & 0 & 0 & 0 & 0 & 0 & -1.0 + 6.9757369968438 \\cdot 10^{-16} i & 0 & 0 & 0 & 0 & 0 & 0 & 0 & 0 & 0 & 0 & 0\\\\0 & 0 & 0 & 0 & 0 & 0 & 0 & 0 & 0 & 0 & 0 & 0 & 0 & 0 & 0 & 0 & 0.500000000000001 + 0.866025403784438 i & 0 & 0 & 0 & 0 & 0 & 0 & 0 & 0 & 0 & 0\\\\0 & 0 & 0 & 0 & 0 & 0 & 0 & 0 & 0 & 0 & 0 & 0 & 0 & 0 & 0 & 0 & 0 & 0.499999999999999 - 0.866025403784439 i & 0 & 0 & 0 & 0 & 0 & 0 & 0 & 0 & 0\\\\0 & 0 & 0 & 0 & 0 & 0 & 0 & 0 & 0 & -1.0 - 1.55016377716168 \\cdot 10^{-16} i & 0 & 0 & 0 & 0 & 0 & 0 & 0 & 0 & 0 & 0 & 0 & 0 & 0 & 0 & 0 & 0 & 0\\\\0 & 0 & 0 & 0 & 0 & 0 & 0 & 0 & 0 & 0 & 0.5 + 0.866025403784439 i & 0 & 0 & 0 & 0 & 0 & 0 & 0 & 0 & 0 & 0 & 0 & 0 & 0 & 0 & 0 & 0\\\\0 & 0 & 0 & 0 & 0 & 0 & 0 & 0 & 0 & 0 & 0 & 0.5 - 0.866025403784438 i & 0 & 0 & 0 & 0 & 0 & 0 & 0 & 0 & 0 & 0 & 0 & 0 & 0 & 0 & 0\\\\0 & 0 & 0 & 0 & 0 & 0 & 0 & 0 & 0 & 0 & 0 & 0 & 1.0 - 1.55016377672311 \\cdot 10^{-16} i & 0 & 0 & 0 & 0 & 0 & 0 & 0 & 0 & 0 & 0 & 0 & 0 & 0 & 0\\\\0 & 0 & 0 & 0 & 0 & 0 & 0 & 0 & 0 & 0 & 0 & 0 & 0 & -0.499999999999999 - 0.866025403784439 i & 0 & 0 & 0 & 0 & 0 & 0 & 0 & 0 & 0 & 0 & 0 & 0 & 0\\\\0 & 0 & 0 & 0 & 0 & 0 & 0 & 0 & 0 & 0 & 0 & 0 & 0 & 0 & -0.5 + 0.866025403784439 i & 0 & 0 & 0 & 0 & 0 & 0 & 0 & 0 & 0 & 0 & 0 & 0\\\\0 & 0 & 0 & 0 & 0 & 0 & 0 & 0 & 0 & 0 & 0 & 0 & 0 & 0 & 0 & 0 & 0 & 0 & 0 & 0 & 0 & 0 & 0 & 0 & 0.500000000000001 + 0.866025403784438 i & 0 & 0\\\\0 & 0 & 0 & 0 & 0 & 0 & 0 & 0 & 0 & 0 & 0 & 0 & 0 & 0 & 0 & 0 & 0 & 0 & 0 & 0 & 0 & 0 & 0 & 0 & 0 & 0.499999999999999 - 0.866025403784439 i & 0\\\\0 & 0 & 0 & 0 & 0 & 0 & 0 & 0 & 0 & 0 & 0 & 0 & 0 & 0 & 0 & 0 & 0 & 0 & 0 & 0 & 0 & 0 & 0 & 0 & 0 & 0 & -1.0 + 2.68695054653686 \\cdot 10^{-15} i\\\\0 & 0 & 0 & 0 & 0 & 0 & 0 & 0 & 0 & 0 & 0 & 0 & 0 & 0 & 0 & 0 & 0 & 0 & 0.5 + 0.866025403784439 i & 0 & 0 & 0 & 0 & 0 & 0 & 0 & 0\\\\0 & 0 & 0 & 0 & 0 & 0 & 0 & 0 & 0 & 0 & 0 & 0 & 0 & 0 & 0 & 0 & 0 & 0 & 0 & 0.5 - 0.866025403784439 i & 0 & 0 & 0 & 0 & 0 & 0 & 0\\\\0 & 0 & 0 & 0 & 0 & 0 & 0 & 0 & 0 & 0 & 0 & 0 & 0 & 0 & 0 & 0 & 0 & 0 & 0 & 0 & -1.0 - 1.60183590274926 \\cdot 10^{-15} i & 0 & 0 & 0 & 0 & 0 & 0\\\\0 & 0 & 0 & 0 & 0 & 0 & 0 & 0 & 0 & 0 & 0 & 0 & 0 & 0 & 0 & 0 & 0 & 0 & 0 & 0 & 0 & -0.5 - 0.866025403784439 i & 0 & 0 & 0 & 0 & 0\\\\0 & 0 & 0 & 0 & 0 & 0 & 0 & 0 & 0 & 0 & 0 & 0 & 0 & 0 & 0 & 0 & 0 & 0 & 0 & 0 & 0 & 0 & -0.5 + 0.866025403784438 i & 0 & 0 & 0 & 0\\\\0 & 0 & 0 & 0 & 0 & 0 & 0 & 0 & 0 & 0 & 0 & 0 & 0 & 0 & 0 & 0 & 0 & 0 & 0 & 0 & 0 & 0 & 0 & 1.0 + 3.10032755320754 \\cdot 10^{-16} i & 0 & 0 & 0\\end{array}\\right]$"
      ],
      "text/plain": [
       "Matrix([\n",
       "[                        0,                             0,                         0,                          0,                            0,                          0, 0.5 - 0.866025403784439*I,                            0,                                       0,                             0,                         0,                         0,                            0,                                        0,                          0,                            0,                                       0,                                       0,                         0,                         0,                             0,                          0,                          0,                            0,                                       0,                                       0,                             0],\n",
       "[                        0,                             0,                         0,                          0,                            0,                          0,                         0, -1.0 + 6.9757369968438e-16*I,                                       0,                             0,                         0,                         0,                            0,                                        0,                          0,                            0,                                       0,                                       0,                         0,                         0,                             0,                          0,                          0,                            0,                                       0,                                       0,                             0],\n",
       "[                        0,                             0,                         0,                          0,                            0,                          0,                         0,                            0, 0.500000000000001 + 0.866025403784438*I,                             0,                         0,                         0,                            0,                                        0,                          0,                            0,                                       0,                                       0,                         0,                         0,                             0,                          0,                          0,                            0,                                       0,                                       0,                             0],\n",
       "[0.5 - 0.866025403784439*I,                             0,                         0,                          0,                            0,                          0,                         0,                            0,                                       0,                             0,                         0,                         0,                            0,                                        0,                          0,                            0,                                       0,                                       0,                         0,                         0,                             0,                          0,                          0,                            0,                                       0,                                       0,                             0],\n",
       "[                        0, -1.0 - 1.55016377716168e-16*I,                         0,                          0,                            0,                          0,                         0,                            0,                                       0,                             0,                         0,                         0,                            0,                                        0,                          0,                            0,                                       0,                                       0,                         0,                         0,                             0,                          0,                          0,                            0,                                       0,                                       0,                             0],\n",
       "[                        0,                             0, 0.5 + 0.866025403784439*I,                          0,                            0,                          0,                         0,                            0,                                       0,                             0,                         0,                         0,                            0,                                        0,                          0,                            0,                                       0,                                       0,                         0,                         0,                             0,                          0,                          0,                            0,                                       0,                                       0,                             0],\n",
       "[                        0,                             0,                         0, -0.5 + 0.866025403784439*I,                            0,                          0,                         0,                            0,                                       0,                             0,                         0,                         0,                            0,                                        0,                          0,                            0,                                       0,                                       0,                         0,                         0,                             0,                          0,                          0,                            0,                                       0,                                       0,                             0],\n",
       "[                        0,                             0,                         0,                          0, 1.0 - 1.55016377672311e-16*I,                          0,                         0,                            0,                                       0,                             0,                         0,                         0,                            0,                                        0,                          0,                            0,                                       0,                                       0,                         0,                         0,                             0,                          0,                          0,                            0,                                       0,                                       0,                             0],\n",
       "[                        0,                             0,                         0,                          0,                            0, -0.5 - 0.866025403784439*I,                         0,                            0,                                       0,                             0,                         0,                         0,                            0,                                        0,                          0,                            0,                                       0,                                       0,                         0,                         0,                             0,                          0,                          0,                            0,                                       0,                                       0,                             0],\n",
       "[                        0,                             0,                         0,                          0,                            0,                          0,                         0,                            0,                                       0,                             0,                         0,                         0,                            0,                                        0,                          0, -1.0 + 6.9757369968438e-16*I,                                       0,                                       0,                         0,                         0,                             0,                          0,                          0,                            0,                                       0,                                       0,                             0],\n",
       "[                        0,                             0,                         0,                          0,                            0,                          0,                         0,                            0,                                       0,                             0,                         0,                         0,                            0,                                        0,                          0,                            0, 0.500000000000001 + 0.866025403784438*I,                                       0,                         0,                         0,                             0,                          0,                          0,                            0,                                       0,                                       0,                             0],\n",
       "[                        0,                             0,                         0,                          0,                            0,                          0,                         0,                            0,                                       0,                             0,                         0,                         0,                            0,                                        0,                          0,                            0,                                       0, 0.499999999999999 - 0.866025403784439*I,                         0,                         0,                             0,                          0,                          0,                            0,                                       0,                                       0,                             0],\n",
       "[                        0,                             0,                         0,                          0,                            0,                          0,                         0,                            0,                                       0, -1.0 - 1.55016377716168e-16*I,                         0,                         0,                            0,                                        0,                          0,                            0,                                       0,                                       0,                         0,                         0,                             0,                          0,                          0,                            0,                                       0,                                       0,                             0],\n",
       "[                        0,                             0,                         0,                          0,                            0,                          0,                         0,                            0,                                       0,                             0, 0.5 + 0.866025403784439*I,                         0,                            0,                                        0,                          0,                            0,                                       0,                                       0,                         0,                         0,                             0,                          0,                          0,                            0,                                       0,                                       0,                             0],\n",
       "[                        0,                             0,                         0,                          0,                            0,                          0,                         0,                            0,                                       0,                             0,                         0, 0.5 - 0.866025403784438*I,                            0,                                        0,                          0,                            0,                                       0,                                       0,                         0,                         0,                             0,                          0,                          0,                            0,                                       0,                                       0,                             0],\n",
       "[                        0,                             0,                         0,                          0,                            0,                          0,                         0,                            0,                                       0,                             0,                         0,                         0, 1.0 - 1.55016377672311e-16*I,                                        0,                          0,                            0,                                       0,                                       0,                         0,                         0,                             0,                          0,                          0,                            0,                                       0,                                       0,                             0],\n",
       "[                        0,                             0,                         0,                          0,                            0,                          0,                         0,                            0,                                       0,                             0,                         0,                         0,                            0, -0.499999999999999 - 0.866025403784439*I,                          0,                            0,                                       0,                                       0,                         0,                         0,                             0,                          0,                          0,                            0,                                       0,                                       0,                             0],\n",
       "[                        0,                             0,                         0,                          0,                            0,                          0,                         0,                            0,                                       0,                             0,                         0,                         0,                            0,                                        0, -0.5 + 0.866025403784439*I,                            0,                                       0,                                       0,                         0,                         0,                             0,                          0,                          0,                            0,                                       0,                                       0,                             0],\n",
       "[                        0,                             0,                         0,                          0,                            0,                          0,                         0,                            0,                                       0,                             0,                         0,                         0,                            0,                                        0,                          0,                            0,                                       0,                                       0,                         0,                         0,                             0,                          0,                          0,                            0, 0.500000000000001 + 0.866025403784438*I,                                       0,                             0],\n",
       "[                        0,                             0,                         0,                          0,                            0,                          0,                         0,                            0,                                       0,                             0,                         0,                         0,                            0,                                        0,                          0,                            0,                                       0,                                       0,                         0,                         0,                             0,                          0,                          0,                            0,                                       0, 0.499999999999999 - 0.866025403784439*I,                             0],\n",
       "[                        0,                             0,                         0,                          0,                            0,                          0,                         0,                            0,                                       0,                             0,                         0,                         0,                            0,                                        0,                          0,                            0,                                       0,                                       0,                         0,                         0,                             0,                          0,                          0,                            0,                                       0,                                       0, -1.0 + 2.68695054653686e-15*I],\n",
       "[                        0,                             0,                         0,                          0,                            0,                          0,                         0,                            0,                                       0,                             0,                         0,                         0,                            0,                                        0,                          0,                            0,                                       0,                                       0, 0.5 + 0.866025403784439*I,                         0,                             0,                          0,                          0,                            0,                                       0,                                       0,                             0],\n",
       "[                        0,                             0,                         0,                          0,                            0,                          0,                         0,                            0,                                       0,                             0,                         0,                         0,                            0,                                        0,                          0,                            0,                                       0,                                       0,                         0, 0.5 - 0.866025403784439*I,                             0,                          0,                          0,                            0,                                       0,                                       0,                             0],\n",
       "[                        0,                             0,                         0,                          0,                            0,                          0,                         0,                            0,                                       0,                             0,                         0,                         0,                            0,                                        0,                          0,                            0,                                       0,                                       0,                         0,                         0, -1.0 - 1.60183590274926e-15*I,                          0,                          0,                            0,                                       0,                                       0,                             0],\n",
       "[                        0,                             0,                         0,                          0,                            0,                          0,                         0,                            0,                                       0,                             0,                         0,                         0,                            0,                                        0,                          0,                            0,                                       0,                                       0,                         0,                         0,                             0, -0.5 - 0.866025403784439*I,                          0,                            0,                                       0,                                       0,                             0],\n",
       "[                        0,                             0,                         0,                          0,                            0,                          0,                         0,                            0,                                       0,                             0,                         0,                         0,                            0,                                        0,                          0,                            0,                                       0,                                       0,                         0,                         0,                             0,                          0, -0.5 + 0.866025403784438*I,                            0,                                       0,                                       0,                             0],\n",
       "[                        0,                             0,                         0,                          0,                            0,                          0,                         0,                            0,                                       0,                             0,                         0,                         0,                            0,                                        0,                          0,                            0,                                       0,                                       0,                         0,                         0,                             0,                          0,                          0, 1.0 + 3.10032755320754e-16*I,                                       0,                                       0,                             0]])"
      ]
     },
     "execution_count": 152,
     "metadata": {},
     "output_type": "execute_result"
    }
   ],
   "source": [
    "B"
   ]
  },
  {
   "cell_type": "code",
   "execution_count": 176,
   "id": "e33adf67-6272-45f1-a2e4-646ff950ccca",
   "metadata": {},
   "outputs": [
    {
     "data": {
      "text/latex": [
       "$\\displaystyle 0.5 + 0.866025403784438 i$"
      ],
      "text/plain": [
       "0.5 + 0.866025403784438*I"
      ]
     },
     "execution_count": 176,
     "metadata": {},
     "output_type": "execute_result"
    }
   ],
   "source": [
    "smp.N(smp.E**(1j*4*smp.pi/3)*smp.E**(-1j*3*smp.pi/3))"
   ]
  },
  {
   "cell_type": "code",
   "execution_count": 185,
   "id": "07f9fa8e-497a-4a23-a60e-a50f561efb91",
   "metadata": {},
   "outputs": [
    {
     "data": {
      "text/latex": [
       "$\\displaystyle -1.0 - 5.0 \\cdot 10^{-20} i$"
      ],
      "text/plain": [
       "-1.0 - 0.e-19*I"
      ]
     },
     "execution_count": 185,
     "metadata": {},
     "output_type": "execute_result"
    }
   ],
   "source": [
    "smp.N(smp.E**(1j*5*smp.pi/3)*smp.E**(1j*4*smp.pi/3))"
   ]
  },
  {
   "cell_type": "code",
   "execution_count": 179,
   "id": "d02b0c06-b0f8-45d5-be05-50f5bb2e3a7a",
   "metadata": {},
   "outputs": [
    {
     "data": {
      "text/latex": [
       "$\\displaystyle \\left[\\begin{array}{ccccccccccccccccccccccccccc}0 & 0 & 0 & 0 & 0 & 0 & 1 & 0 & 0 & 0 & 0 & 0 & 0 & 0 & 0 & 0 & 0 & 0 & 0 & 0 & 0 & 0 & 0 & 0 & 0 & 0 & 0\\\\0 & 0 & 0 & 0 & 0 & 0 & 0 & e^{0.666666666666667 i \\pi} & 0 & 0 & 0 & 0 & 0 & 0 & 0 & 0 & 0 & 0 & 0 & 0 & 0 & 0 & 0 & 0 & 0 & 0 & 0\\\\0 & 0 & 0 & 0 & 0 & 0 & 0 & 0 & e^{1.33333333333333 i \\pi} & 0 & 0 & 0 & 0 & 0 & 0 & 0 & 0 & 0 & 0 & 0 & 0 & 0 & 0 & 0 & 0 & 0 & 0\\\\1 & 0 & 0 & 0 & 0 & 0 & 0 & 0 & 0 & 0 & 0 & 0 & 0 & 0 & 0 & 0 & 0 & 0 & 0 & 0 & 0 & 0 & 0 & 0 & 0 & 0 & 0\\\\0 & e^{0.666666666666667 i \\pi} & 0 & 0 & 0 & 0 & 0 & 0 & 0 & 0 & 0 & 0 & 0 & 0 & 0 & 0 & 0 & 0 & 0 & 0 & 0 & 0 & 0 & 0 & 0 & 0 & 0\\\\0 & 0 & e^{1.33333333333333 i \\pi} & 0 & 0 & 0 & 0 & 0 & 0 & 0 & 0 & 0 & 0 & 0 & 0 & 0 & 0 & 0 & 0 & 0 & 0 & 0 & 0 & 0 & 0 & 0 & 0\\\\0 & 0 & 0 & 1 & 0 & 0 & 0 & 0 & 0 & 0 & 0 & 0 & 0 & 0 & 0 & 0 & 0 & 0 & 0 & 0 & 0 & 0 & 0 & 0 & 0 & 0 & 0\\\\0 & 0 & 0 & 0 & e^{0.666666666666667 i \\pi} & 0 & 0 & 0 & 0 & 0 & 0 & 0 & 0 & 0 & 0 & 0 & 0 & 0 & 0 & 0 & 0 & 0 & 0 & 0 & 0 & 0 & 0\\\\0 & 0 & 0 & 0 & 0 & e^{1.33333333333333 i \\pi} & 0 & 0 & 0 & 0 & 0 & 0 & 0 & 0 & 0 & 0 & 0 & 0 & 0 & 0 & 0 & 0 & 0 & 0 & 0 & 0 & 0\\\\0 & 0 & 0 & 0 & 0 & 0 & 0 & 0 & 0 & 0 & 0 & 0 & 0 & 0 & 0 & e^{0.666666666666667 i \\pi} & 0 & 0 & 0 & 0 & 0 & 0 & 0 & 0 & 0 & 0 & 0\\\\0 & 0 & 0 & 0 & 0 & 0 & 0 & 0 & 0 & 0 & 0 & 0 & 0 & 0 & 0 & 0 & e^{1.33333333333333 i \\pi} & 0 & 0 & 0 & 0 & 0 & 0 & 0 & 0 & 0 & 0\\\\0 & 0 & 0 & 0 & 0 & 0 & 0 & 0 & 0 & 0 & 0 & 0 & 0 & 0 & 0 & 0 & 0 & e^{2.0 i \\pi} & 0 & 0 & 0 & 0 & 0 & 0 & 0 & 0 & 0\\\\0 & 0 & 0 & 0 & 0 & 0 & 0 & 0 & 0 & e^{0.666666666666667 i \\pi} & 0 & 0 & 0 & 0 & 0 & 0 & 0 & 0 & 0 & 0 & 0 & 0 & 0 & 0 & 0 & 0 & 0\\\\0 & 0 & 0 & 0 & 0 & 0 & 0 & 0 & 0 & 0 & e^{1.33333333333333 i \\pi} & 0 & 0 & 0 & 0 & 0 & 0 & 0 & 0 & 0 & 0 & 0 & 0 & 0 & 0 & 0 & 0\\\\0 & 0 & 0 & 0 & 0 & 0 & 0 & 0 & 0 & 0 & 0 & e^{2.0 i \\pi} & 0 & 0 & 0 & 0 & 0 & 0 & 0 & 0 & 0 & 0 & 0 & 0 & 0 & 0 & 0\\\\0 & 0 & 0 & 0 & 0 & 0 & 0 & 0 & 0 & 0 & 0 & 0 & e^{0.666666666666667 i \\pi} & 0 & 0 & 0 & 0 & 0 & 0 & 0 & 0 & 0 & 0 & 0 & 0 & 0 & 0\\\\0 & 0 & 0 & 0 & 0 & 0 & 0 & 0 & 0 & 0 & 0 & 0 & 0 & e^{1.33333333333333 i \\pi} & 0 & 0 & 0 & 0 & 0 & 0 & 0 & 0 & 0 & 0 & 0 & 0 & 0\\\\0 & 0 & 0 & 0 & 0 & 0 & 0 & 0 & 0 & 0 & 0 & 0 & 0 & 0 & e^{2.0 i \\pi} & 0 & 0 & 0 & 0 & 0 & 0 & 0 & 0 & 0 & 0 & 0 & 0\\\\0 & 0 & 0 & 0 & 0 & 0 & 0 & 0 & 0 & 0 & 0 & 0 & 0 & 0 & 0 & 0 & 0 & 0 & 0 & 0 & 0 & 0 & 0 & 0 & e^{1.33333333333333 i \\pi} & 0 & 0\\\\0 & 0 & 0 & 0 & 0 & 0 & 0 & 0 & 0 & 0 & 0 & 0 & 0 & 0 & 0 & 0 & 0 & 0 & 0 & 0 & 0 & 0 & 0 & 0 & 0 & e^{2.0 i \\pi} & 0\\\\0 & 0 & 0 & 0 & 0 & 0 & 0 & 0 & 0 & 0 & 0 & 0 & 0 & 0 & 0 & 0 & 0 & 0 & 0 & 0 & 0 & 0 & 0 & 0 & 0 & 0 & e^{2.66666666666667 i \\pi}\\\\0 & 0 & 0 & 0 & 0 & 0 & 0 & 0 & 0 & 0 & 0 & 0 & 0 & 0 & 0 & 0 & 0 & 0 & e^{1.33333333333333 i \\pi} & 0 & 0 & 0 & 0 & 0 & 0 & 0 & 0\\\\0 & 0 & 0 & 0 & 0 & 0 & 0 & 0 & 0 & 0 & 0 & 0 & 0 & 0 & 0 & 0 & 0 & 0 & 0 & e^{2.0 i \\pi} & 0 & 0 & 0 & 0 & 0 & 0 & 0\\\\0 & 0 & 0 & 0 & 0 & 0 & 0 & 0 & 0 & 0 & 0 & 0 & 0 & 0 & 0 & 0 & 0 & 0 & 0 & 0 & e^{2.66666666666667 i \\pi} & 0 & 0 & 0 & 0 & 0 & 0\\\\0 & 0 & 0 & 0 & 0 & 0 & 0 & 0 & 0 & 0 & 0 & 0 & 0 & 0 & 0 & 0 & 0 & 0 & 0 & 0 & 0 & e^{1.33333333333333 i \\pi} & 0 & 0 & 0 & 0 & 0\\\\0 & 0 & 0 & 0 & 0 & 0 & 0 & 0 & 0 & 0 & 0 & 0 & 0 & 0 & 0 & 0 & 0 & 0 & 0 & 0 & 0 & 0 & e^{2.0 i \\pi} & 0 & 0 & 0 & 0\\\\0 & 0 & 0 & 0 & 0 & 0 & 0 & 0 & 0 & 0 & 0 & 0 & 0 & 0 & 0 & 0 & 0 & 0 & 0 & 0 & 0 & 0 & 0 & e^{2.66666666666667 i \\pi} & 0 & 0 & 0\\end{array}\\right]$"
      ],
      "text/plain": [
       "Matrix([\n",
       "[0,                           0,                          0, 0,                           0,                          0, 1,                           0,                          0,                           0,                          0,             0,                           0,                          0,             0,                           0,                          0,             0,                          0,             0,                          0,                          0,             0,                          0,                          0,             0,                          0],\n",
       "[0,                           0,                          0, 0,                           0,                          0, 0, exp(0.666666666666667*I*pi),                          0,                           0,                          0,             0,                           0,                          0,             0,                           0,                          0,             0,                          0,             0,                          0,                          0,             0,                          0,                          0,             0,                          0],\n",
       "[0,                           0,                          0, 0,                           0,                          0, 0,                           0, exp(1.33333333333333*I*pi),                           0,                          0,             0,                           0,                          0,             0,                           0,                          0,             0,                          0,             0,                          0,                          0,             0,                          0,                          0,             0,                          0],\n",
       "[1,                           0,                          0, 0,                           0,                          0, 0,                           0,                          0,                           0,                          0,             0,                           0,                          0,             0,                           0,                          0,             0,                          0,             0,                          0,                          0,             0,                          0,                          0,             0,                          0],\n",
       "[0, exp(0.666666666666667*I*pi),                          0, 0,                           0,                          0, 0,                           0,                          0,                           0,                          0,             0,                           0,                          0,             0,                           0,                          0,             0,                          0,             0,                          0,                          0,             0,                          0,                          0,             0,                          0],\n",
       "[0,                           0, exp(1.33333333333333*I*pi), 0,                           0,                          0, 0,                           0,                          0,                           0,                          0,             0,                           0,                          0,             0,                           0,                          0,             0,                          0,             0,                          0,                          0,             0,                          0,                          0,             0,                          0],\n",
       "[0,                           0,                          0, 1,                           0,                          0, 0,                           0,                          0,                           0,                          0,             0,                           0,                          0,             0,                           0,                          0,             0,                          0,             0,                          0,                          0,             0,                          0,                          0,             0,                          0],\n",
       "[0,                           0,                          0, 0, exp(0.666666666666667*I*pi),                          0, 0,                           0,                          0,                           0,                          0,             0,                           0,                          0,             0,                           0,                          0,             0,                          0,             0,                          0,                          0,             0,                          0,                          0,             0,                          0],\n",
       "[0,                           0,                          0, 0,                           0, exp(1.33333333333333*I*pi), 0,                           0,                          0,                           0,                          0,             0,                           0,                          0,             0,                           0,                          0,             0,                          0,             0,                          0,                          0,             0,                          0,                          0,             0,                          0],\n",
       "[0,                           0,                          0, 0,                           0,                          0, 0,                           0,                          0,                           0,                          0,             0,                           0,                          0,             0, exp(0.666666666666667*I*pi),                          0,             0,                          0,             0,                          0,                          0,             0,                          0,                          0,             0,                          0],\n",
       "[0,                           0,                          0, 0,                           0,                          0, 0,                           0,                          0,                           0,                          0,             0,                           0,                          0,             0,                           0, exp(1.33333333333333*I*pi),             0,                          0,             0,                          0,                          0,             0,                          0,                          0,             0,                          0],\n",
       "[0,                           0,                          0, 0,                           0,                          0, 0,                           0,                          0,                           0,                          0,             0,                           0,                          0,             0,                           0,                          0, exp(2.0*I*pi),                          0,             0,                          0,                          0,             0,                          0,                          0,             0,                          0],\n",
       "[0,                           0,                          0, 0,                           0,                          0, 0,                           0,                          0, exp(0.666666666666667*I*pi),                          0,             0,                           0,                          0,             0,                           0,                          0,             0,                          0,             0,                          0,                          0,             0,                          0,                          0,             0,                          0],\n",
       "[0,                           0,                          0, 0,                           0,                          0, 0,                           0,                          0,                           0, exp(1.33333333333333*I*pi),             0,                           0,                          0,             0,                           0,                          0,             0,                          0,             0,                          0,                          0,             0,                          0,                          0,             0,                          0],\n",
       "[0,                           0,                          0, 0,                           0,                          0, 0,                           0,                          0,                           0,                          0, exp(2.0*I*pi),                           0,                          0,             0,                           0,                          0,             0,                          0,             0,                          0,                          0,             0,                          0,                          0,             0,                          0],\n",
       "[0,                           0,                          0, 0,                           0,                          0, 0,                           0,                          0,                           0,                          0,             0, exp(0.666666666666667*I*pi),                          0,             0,                           0,                          0,             0,                          0,             0,                          0,                          0,             0,                          0,                          0,             0,                          0],\n",
       "[0,                           0,                          0, 0,                           0,                          0, 0,                           0,                          0,                           0,                          0,             0,                           0, exp(1.33333333333333*I*pi),             0,                           0,                          0,             0,                          0,             0,                          0,                          0,             0,                          0,                          0,             0,                          0],\n",
       "[0,                           0,                          0, 0,                           0,                          0, 0,                           0,                          0,                           0,                          0,             0,                           0,                          0, exp(2.0*I*pi),                           0,                          0,             0,                          0,             0,                          0,                          0,             0,                          0,                          0,             0,                          0],\n",
       "[0,                           0,                          0, 0,                           0,                          0, 0,                           0,                          0,                           0,                          0,             0,                           0,                          0,             0,                           0,                          0,             0,                          0,             0,                          0,                          0,             0,                          0, exp(1.33333333333333*I*pi),             0,                          0],\n",
       "[0,                           0,                          0, 0,                           0,                          0, 0,                           0,                          0,                           0,                          0,             0,                           0,                          0,             0,                           0,                          0,             0,                          0,             0,                          0,                          0,             0,                          0,                          0, exp(2.0*I*pi),                          0],\n",
       "[0,                           0,                          0, 0,                           0,                          0, 0,                           0,                          0,                           0,                          0,             0,                           0,                          0,             0,                           0,                          0,             0,                          0,             0,                          0,                          0,             0,                          0,                          0,             0, exp(2.66666666666667*I*pi)],\n",
       "[0,                           0,                          0, 0,                           0,                          0, 0,                           0,                          0,                           0,                          0,             0,                           0,                          0,             0,                           0,                          0,             0, exp(1.33333333333333*I*pi),             0,                          0,                          0,             0,                          0,                          0,             0,                          0],\n",
       "[0,                           0,                          0, 0,                           0,                          0, 0,                           0,                          0,                           0,                          0,             0,                           0,                          0,             0,                           0,                          0,             0,                          0, exp(2.0*I*pi),                          0,                          0,             0,                          0,                          0,             0,                          0],\n",
       "[0,                           0,                          0, 0,                           0,                          0, 0,                           0,                          0,                           0,                          0,             0,                           0,                          0,             0,                           0,                          0,             0,                          0,             0, exp(2.66666666666667*I*pi),                          0,             0,                          0,                          0,             0,                          0],\n",
       "[0,                           0,                          0, 0,                           0,                          0, 0,                           0,                          0,                           0,                          0,             0,                           0,                          0,             0,                           0,                          0,             0,                          0,             0,                          0, exp(1.33333333333333*I*pi),             0,                          0,                          0,             0,                          0],\n",
       "[0,                           0,                          0, 0,                           0,                          0, 0,                           0,                          0,                           0,                          0,             0,                           0,                          0,             0,                           0,                          0,             0,                          0,             0,                          0,                          0, exp(2.0*I*pi),                          0,                          0,             0,                          0],\n",
       "[0,                           0,                          0, 0,                           0,                          0, 0,                           0,                          0,                           0,                          0,             0,                           0,                          0,             0,                           0,                          0,             0,                          0,             0,                          0,                          0,             0, exp(2.66666666666667*I*pi),                          0,             0,                          0]])"
      ]
     },
     "execution_count": 179,
     "metadata": {},
     "output_type": "execute_result"
    }
   ],
   "source": [
    "Dagger(T_3)*TP(I,Z,I)*T_3 == smp.E**(1j*5*smp.pi/3)* TP(Z, X, Z)"
   ]
  },
  {
   "cell_type": "code",
   "execution_count": null,
   "id": "edc7564f-614c-4c6f-837a-9dd24d6596a1",
   "metadata": {},
   "outputs": [],
   "source": []
  }
 ],
 "metadata": {
  "kernelspec": {
   "display_name": "python3.9",
   "language": "python",
   "name": "python3.9.16"
  },
  "language_info": {
   "codemirror_mode": {
    "name": "ipython",
    "version": 3
   },
   "file_extension": ".py",
   "mimetype": "text/x-python",
   "name": "python",
   "nbconvert_exporter": "python",
   "pygments_lexer": "ipython3",
   "version": "3.9.16"
  }
 },
 "nbformat": 4,
 "nbformat_minor": 5
}
