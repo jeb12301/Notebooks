{
 "cells": [
  {
   "cell_type": "code",
   "execution_count": 1,
   "id": "93748787-d37a-4837-a46b-2c4b24a3ec87",
   "metadata": {},
   "outputs": [],
   "source": [
    "import sympy as smp\n",
    "import numpy as np\n",
    "from sympy.physics.quantum.dagger import Dagger\n",
    "from sympy.physics.quantum import TensorProduct as TP"
   ]
  },
  {
   "cell_type": "code",
   "execution_count": 149,
   "id": "e9f776e8-f16f-4428-878d-0384ea8cfbeb",
   "metadata": {},
   "outputs": [],
   "source": [
    "def hs(mat1, mat2):\n",
    "    return smp.Abs(smp.N(np.trace(Dagger(mat1)*mat2)))\n",
    "\n",
    "def norm(mat1):\n",
    "    return mat1/smp.N(np.sqrths(mat1, mat2))"
   ]
  },
  {
   "cell_type": "code",
   "execution_count": 3,
   "id": "aa06e06e-c66e-426f-8f28-699fce241160",
   "metadata": {},
   "outputs": [],
   "source": [
    "I = smp.Matrix([[1,0,0], [0,1,0], [0,0,1]])\n",
    "X = smp.Matrix([[0,0,1],[1,0,0], [0,1,0]])\n",
    "Z = smp.Matrix([[1,0,0], [0,smp.E**(1j*2*smp.pi/3),0], [0, 0, smp.E**(1j*4*smp.pi/3)]])\n",
    "\n",
    "\n",
    "H = (1/smp.sqrt(3))*smp.Matrix([[1,1,1],[1,smp.E**(1j*2*smp.pi/3),smp.E**(1j*4*smp.pi/3)], [1, smp.E**(1j*4*smp.pi/3), smp.E**(1j*2*smp.pi/3)]])\n",
    "#S = smp.Matrix([[1,0,0], [0,smp.E**(1j*2*smp.pi/3),0], [0, 0, 1]])#smp.sqrt(Z).doit().factor(deep=True)\n",
    "S = smp.Matrix([[smp.E**(1j*2*smp.pi/3),0,0], [0,1,0], [0, 0, 1]])\n",
    "#Y=Z*X\n",
    "CZ = TP(smp.Matrix([[1,0, 0], [0,0, 0], [0, 0, 0]]), I)+TP(smp.Matrix([[0,0, 0], [0,1, 0], [0, 0, 0]]), Z) + TP(smp.Matrix([[0,0, 0], [0,0, 0], [0, 0, 1]]), Z**2)\n",
    "CX = TP(smp.Matrix([[1,0, 0], [0,0, 0], [0, 0, 0]]), I)+TP(smp.Matrix([[0,0, 0], [0,1, 0], [0, 0, 0]]), X) + TP(smp.Matrix([[0,0, 0], [0,0, 0], [0, 0, 1]]), X**2)\n",
    "HS = smp.Matrix(H*S) #S, Z, I\n",
    "\n",
    "T_2 = TP(HS, HS)*CZ\n",
    "T_3 = TP(HS, HS, HS)*TP(CZ, I)*TP(I, CZ)\n",
    "T_4 = TP(HS, HS, HS, HS)*TP(CZ, CZ)*TP(I,CZ,I)\n",
    "\n",
    "w = smp.N(smp.E**(2*smp.I*smp.pi*1/3))"
   ]
  },
  {
   "cell_type": "code",
   "execution_count": 150,
   "id": "b6f4df97-f215-448b-a96e-c2874f47d347",
   "metadata": {},
   "outputs": [
    {
     "data": {
      "text/latex": [
       "$\\displaystyle 27.0$"
      ],
      "text/plain": [
       "27.0000000000000"
      ]
     },
     "execution_count": 150,
     "metadata": {},
     "output_type": "execute_result"
    }
   ],
   "source": [
    "Z_first = TP(Z, I, I) + TP(Z**2, I, I)\n",
    "\n",
    "Z_second = TP(Z, I, I) + w*TP(Z**2, I, I)\n",
    "\n",
    "smp.N(hs(Z_first, Z_second))"
   ]
  },
  {
   "cell_type": "code",
   "execution_count": 151,
   "id": "087365a1-6f1e-43e4-98ce-b4918b6d0a00",
   "metadata": {},
   "outputs": [
    {
     "data": {
      "text/latex": [
       "$\\displaystyle 54.0$"
      ],
      "text/plain": [
       "54.0000000000000"
      ]
     },
     "execution_count": 151,
     "metadata": {},
     "output_type": "execute_result"
    }
   ],
   "source": [
    "smp.N(hs(Z_first, Z_first))"
   ]
  },
  {
   "cell_type": "code",
   "execution_count": 139,
   "id": "63468688-6ec0-415f-9de1-dbcc1c76f7a2",
   "metadata": {},
   "outputs": [],
   "source": [
    "Z_1_ortho = smp.N(norm(Z_first))"
   ]
  },
  {
   "cell_type": "code",
   "execution_count": 130,
   "id": "c68ccd2c-e160-42d5-96db-bf528a9f08c3",
   "metadata": {},
   "outputs": [],
   "source": [
    "Z_2_ortho = smp.N(norm(Z_second))"
   ]
  },
  {
   "cell_type": "code",
   "execution_count": 144,
   "id": "3fe1d987-aa67-4a44-804d-7f1b83967d98",
   "metadata": {},
   "outputs": [],
   "source": [
    "Z_3 = smp.N(Z_2_ortho\\\n",
    "            -(hs(Z_1_ortho, Z_2_ortho)*Z_2_ortho))"
   ]
  },
  {
   "cell_type": "code",
   "execution_count": 145,
   "id": "5658596f-0fdd-4bc7-8e4d-3ef3ba8ef341",
   "metadata": {},
   "outputs": [
    {
     "data": {
      "text/latex": [
       "$\\displaystyle 0.375 + 0.21650635094611 i$"
      ],
      "text/plain": [
       "0.375 + 0.21650635094611*I"
      ]
     },
     "execution_count": 145,
     "metadata": {},
     "output_type": "execute_result"
    }
   ],
   "source": [
    "smp.N(hs(Z_1_ortho, Z_3))"
   ]
  },
  {
   "cell_type": "code",
   "execution_count": 146,
   "id": "52f5be05-afc4-4c43-b9d5-2217ec43c181",
   "metadata": {},
   "outputs": [
    {
     "data": {
      "text/latex": [
       "$\\displaystyle 0.25 + 0.433012701892219 i$"
      ],
      "text/plain": [
       "0.25 + 0.433012701892219*I"
      ]
     },
     "execution_count": 146,
     "metadata": {},
     "output_type": "execute_result"
    }
   ],
   "source": [
    "hs(Z_1_ortho, Z_2_ortho)"
   ]
  },
  {
   "cell_type": "code",
   "execution_count": 147,
   "id": "7b7c0917-a615-4f6f-8f12-fd79280ceca3",
   "metadata": {},
   "outputs": [
    {
     "data": {
      "text/latex": [
       "$\\displaystyle 0.25 - 0.433012701892219 i$"
      ],
      "text/plain": [
       "0.25 - 0.433012701892219*I"
      ]
     },
     "execution_count": 147,
     "metadata": {},
     "output_type": "execute_result"
    }
   ],
   "source": [
    "hs(Z_2_ortho, Z_1_ortho)"
   ]
  },
  {
   "cell_type": "code",
   "execution_count": null,
   "id": "c03286c3-8fdc-4244-a112-559399a8044a",
   "metadata": {},
   "outputs": [],
   "source": []
  }
 ],
 "metadata": {
  "kernelspec": {
   "display_name": "python3.9",
   "language": "python",
   "name": "python3.9.16"
  },
  "language_info": {
   "codemirror_mode": {
    "name": "ipython",
    "version": 3
   },
   "file_extension": ".py",
   "mimetype": "text/x-python",
   "name": "python",
   "nbconvert_exporter": "python",
   "pygments_lexer": "ipython3",
   "version": "3.9.16"
  }
 },
 "nbformat": 4,
 "nbformat_minor": 5
}
