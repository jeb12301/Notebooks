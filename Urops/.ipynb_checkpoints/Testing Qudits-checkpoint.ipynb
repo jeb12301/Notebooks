{
 "cells": [
  {
   "cell_type": "markdown",
   "id": "77526681-dd5c-4166-8724-36d9a7970161",
   "metadata": {},
   "source": [
    "# Qutrits"
   ]
  },
  {
   "cell_type": "markdown",
   "id": "e8b3b99e-2a4a-4069-94e9-8754fcca5313",
   "metadata": {},
   "source": [
    "Exhaustively, the choice S (given w either = w1, w2) \n",
    "\n",
    "S= diag(1, 1, w), diag(1, w, 1), diag(w, 1, 1), Z, Z^2, I\n",
    "\n",
    "Global phase is irrelevant. However, permutations of w generate the same evolution, so we do not need to count additional\n",
    "\n",
    "\n",
    "$(1, 1, \\omega_2)$ and permutations will generate Z -> TP(ZZ, ZX, ZZ), X -> Z*Z\n",
    "\n",
    "$(1, 1, \\omega_1)$ and permutations will generate Z -> TP(ZZ, ZZX, ZZ), X -> Z*Z\n",
    "\n",
    "$Z, Z^2, I$ will generate Z -> TP(ZZ, X, ZZ), X -> Z*Z"
   ]
  },
  {
   "cell_type": "code",
   "execution_count": null,
   "id": "6baa47b2-1cd2-4862-b22b-7c1e16c847de",
   "metadata": {},
   "outputs": [],
   "source": [
    "import sympy as smp\n",
    "from sympy.physics.quantum.dagger import Dagger\n",
    "from sympy.physics.quantum import TensorProduct as TP\n",
    "from sympy.vector import *\n",
    "I = smp.Matrix([[1,0,0], [0,1,0], [0,0,1]])\n",
    "X = smp.Matrix([[0,0,1],[1,0,0], [0,1,0]])\n",
    "Z = smp.Matrix([[1,0,0], [0,smp.E**(1j*2*smp.pi/3),0], [0, 0, smp.E**(1j*4*smp.pi/3)]])\n",
    "H = (1/smp.sqrt(3))*smp.Matrix([[1,1,1],[1,smp.E**(1j*2*smp.pi/3),smp.E**(1j*4*smp.pi/3)], [1, smp.E**(1j*4*smp.pi/3), smp.E**(1j*2*smp.pi/3)]])\n",
    "#S = smp.Matrix([[1,0,0], [0,smp.E**(1j*2*smp.pi/3),0], [0, 0, 1]])#smp.sqrt(Z).doit().factor(deep=True)\n",
    "S = smp.Matrix([[smp.E**(1j*2*smp.pi/3),0,0], [0,1,0], [0, 0, 1]])\n",
    "#Y=Z*X\n",
    "CZ = TP(smp.Matrix([[1,0, 0], [0,0, 0], [0, 0, 0]]), I)+TP(smp.Matrix([[0,0, 0], [0,1, 0], [0, 0, 0]]), Z) + TP(smp.Matrix([[0,0, 0], [0,0, 0], [0, 0, 1]]), Z**2)\n",
    "\n",
    "HS = smp.Matrix(H*Z**2) #S, Z, I\n",
    "\n",
    "T_2 = TP(HS, HS)*CZ\n",
    "T_3 = TP(HS, HS, HS)*TP(CZ, I)*TP(I, CZ)\n",
    "T_4 = TP(HS, HS, HS, HS)*TP(CZ, CZ)*TP(I,CZ,I)\n",
    "\n",
    "# https://arxiv.org/pdf/2003.04879.pdfkpjkpjkpj"
   ]
  },
  {
   "cell_type": "code",
   "execution_count": null,
   "id": "4ac5a1ab-32c5-4629-aa4a-12708f1e5584",
   "metadata": {},
   "outputs": [],
   "source": [
    "def round2zero(m, e):\n",
    "    for i in range(m.shape[0]):\n",
    "        for j in range(m.shape[1]):\n",
    "            if smp.Abs(m[i,j]) < e:\n",
    "                m[i,j] = 0\n",
    "e = .0000001\n",
    "round2zero(B, e)"
   ]
  },
  {
   "cell_type": "markdown",
   "id": "d913aca2-d413-49db-9203-956804bdd266",
   "metadata": {},
   "source": [
    "# Quadrits"
   ]
  },
  {
   "cell_type": "code",
   "execution_count": null,
   "id": "c809e583-2f6a-404d-be05-c7280e2df861",
   "metadata": {},
   "outputs": [],
   "source": [
    "Qutrits"
   ]
  }
 ],
 "metadata": {
  "kernelspec": {
   "display_name": "python3.9",
   "language": "python",
   "name": "python3.9.16"
  },
  "language_info": {
   "codemirror_mode": {
    "name": "ipython",
    "version": 3
   },
   "file_extension": ".py",
   "mimetype": "text/x-python",
   "name": "python",
   "nbconvert_exporter": "python",
   "pygments_lexer": "ipython3",
   "version": "3.9.16"
  }
 },
 "nbformat": 4,
 "nbformat_minor": 5
}
