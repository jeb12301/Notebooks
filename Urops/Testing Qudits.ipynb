{
 "cells": [
  {
   "cell_type": "markdown",
   "id": "77526681-dd5c-4166-8724-36d9a7970161",
   "metadata": {},
   "source": [
    "# Qutrits"
   ]
  },
  {
   "cell_type": "markdown",
   "id": "e8b3b99e-2a4a-4069-94e9-8754fcca5313",
   "metadata": {},
   "source": [
    "Exhaustively, the choice S (given w either = w1, w2) \n",
    "\n",
    "S= diag(1, 1, w), diag(1, w, 1), diag(w, 1, 1), Z, Z^2, I\n",
    "\n",
    "Global phase is irrelevant. However, permutations of w generate the same evolution, so we do not need to count additional\n",
    "\n",
    "\n",
    "$(1, 1, \\omega_2)$ and permutations will generate Z -> TP(ZZ, ZX, ZZ), X -> Z*Z\n",
    "\n",
    "$(1, 1, \\omega_1)$ and permutations will generate Z -> TP(ZZ, ZZX, ZZ), X -> Z*Z\n",
    "\n",
    "$Z, Z^2, I$ will generate Z -> TP(ZZ, X, ZZ), X -> Z*Z"
   ]
  },
  {
   "cell_type": "code",
   "execution_count": 2,
   "id": "6baa47b2-1cd2-4862-b22b-7c1e16c847de",
   "metadata": {},
   "outputs": [],
   "source": [
    "import sympy as smp\n",
    "from sympy.physics.quantum.dagger import Dagger\n",
    "from sympy.physics.quantum import TensorProduct as TP\n",
    "from sympy.vector import *\n",
    "I = smp.Matrix([[1,0,0], [0,1,0], [0,0,1]])\n",
    "X = smp.Matrix([[0,0,1],[1,0,0], [0,1,0]])\n",
    "Z = smp.Matrix([[1,0,0], [0,smp.E**(1j*2*smp.pi/3),0], [0, 0, smp.E**(1j*4*smp.pi/3)]])\n",
    "H = (1/smp.sqrt(3))*smp.Matrix([[1,1,1],[1,smp.E**(1j*2*smp.pi/3),smp.E**(1j*4*smp.pi/3)], [1, smp.E**(1j*4*smp.pi/3), smp.E**(1j*2*smp.pi/3)]])\n",
    "#S = smp.Matrix([[1,0,0], [0,smp.E**(1j*2*smp.pi/3),0], [0, 0, 1]])#smp.sqrt(Z).doit().factor(deep=True)\n",
    "S = smp.Matrix([[smp.E**(1j*2*smp.pi/3),0,0], [0,1,0], [0, 0, 1]])\n",
    "#Y=Z*X\n",
    "CZ = TP(smp.Matrix([[1,0, 0], [0,0, 0], [0, 0, 0]]), I)+TP(smp.Matrix([[0,0, 0], [0,1, 0], [0, 0, 0]]), Z) + TP(smp.Matrix([[0,0, 0], [0,0, 0], [0, 0, 1]]), Z**2)\n",
    "\n",
    "HS = smp.Matrix(H*Z**2) #S, Z, I\n",
    "\n",
    "T_2 = TP(HS, HS)*CZ\n",
    "T_3 = TP(HS, HS, HS)*TP(CZ, I)*TP(I, CZ)\n",
    "T_4 = TP(HS, HS, HS, HS)*TP(CZ, CZ)*TP(I,CZ,I)\n",
    "\n",
    "# https://arxiv.org/pdf/2003.04879.pdfkpjkpjkpj"
   ]
  },
  {
   "cell_type": "code",
   "execution_count": 2,
   "id": "7e4dde11-7285-4cdf-abd3-d48abc909a60",
   "metadata": {},
   "outputs": [
    {
     "data": {
      "text/latex": [
       "$\\displaystyle \\left[\\begin{matrix}\\frac{\\sqrt{3}}{3} & \\frac{\\sqrt{3}}{3} & \\frac{\\sqrt{3}}{3}\\\\\\frac{\\sqrt{3}}{3} & \\frac{\\sqrt{3} e^{0.666666666666667 i \\pi}}{3} & \\frac{\\sqrt{3} e^{1.33333333333333 i \\pi}}{3}\\\\\\frac{\\sqrt{3}}{3} & \\frac{\\sqrt{3} e^{1.33333333333333 i \\pi}}{3} & \\frac{\\sqrt{3} e^{0.666666666666667 i \\pi}}{3}\\end{matrix}\\right]$"
      ],
      "text/plain": [
       "Matrix([\n",
       "[sqrt(3)/3,                             sqrt(3)/3,                             sqrt(3)/3],\n",
       "[sqrt(3)/3, sqrt(3)*exp(0.666666666666667*I*pi)/3,  sqrt(3)*exp(1.33333333333333*I*pi)/3],\n",
       "[sqrt(3)/3,  sqrt(3)*exp(1.33333333333333*I*pi)/3, sqrt(3)*exp(0.666666666666667*I*pi)/3]])"
      ]
     },
     "execution_count": 2,
     "metadata": {},
     "output_type": "execute_result"
    }
   ],
   "source": [
    "H"
   ]
  },
  {
   "cell_type": "code",
   "execution_count": 18,
   "id": "6309af60-00b1-492b-aed3-0bad55aac05f",
   "metadata": {},
   "outputs": [
    {
     "data": {
      "text/latex": [
       "$\\displaystyle \\left[\\begin{matrix}\\frac{\\sqrt{3}}{3} & \\frac{\\sqrt{3}}{3} & \\frac{\\sqrt{3}}{3}\\\\\\frac{\\sqrt{3} e^{0.666666666666667 i \\pi}}{3} & \\frac{\\sqrt{3} e^{1.33333333333333 i \\pi}}{3} & \\frac{\\sqrt{3}}{3}\\\\\\frac{\\sqrt{3} e^{1.33333333333333 i \\pi}}{3} & \\frac{\\sqrt{3} e^{0.666666666666667 i \\pi}}{3} & \\frac{\\sqrt{3}}{3}\\end{matrix}\\right]$"
      ],
      "text/plain": [
       "Matrix([\n",
       "[                            sqrt(3)/3,                             sqrt(3)/3, sqrt(3)/3],\n",
       "[sqrt(3)*exp(0.666666666666667*I*pi)/3,  sqrt(3)*exp(1.33333333333333*I*pi)/3, sqrt(3)/3],\n",
       "[ sqrt(3)*exp(1.33333333333333*I*pi)/3, sqrt(3)*exp(0.666666666666667*I*pi)/3, sqrt(3)/3]])"
      ]
     },
     "execution_count": 18,
     "metadata": {},
     "output_type": "execute_result"
    }
   ],
   "source": [
    "H*X"
   ]
  },
  {
   "cell_type": "code",
   "execution_count": 33,
   "id": "7d08587e-cad4-4e2a-867e-410a0d90e2d9",
   "metadata": {},
   "outputs": [
    {
     "data": {
      "text/latex": [
       "$\\displaystyle \\left[\\begin{matrix}0.89089801989188 + 0.678502725502218 i & 0.577350269189626 & 0.89089801989188 - 0.678502725502218 i\\\\1.47849861671378 - 0.339251362751109 i & -0.288675134594813 + 0.5 i & -0.44544900994594 - 1.45004304290984 i\\\\0.303297423069979 - 0.339251362751109 i & -0.288675134594813 - 0.5 i & -0.44544900994594 + 0.0930375919054037 i\\end{matrix}\\right]$"
      ],
      "text/plain": [
       "Matrix([\n",
       "[ 0.89089801989188 + 0.678502725502218*I,          0.577350269189626,   0.89089801989188 - 0.678502725502218*I],\n",
       "[ 1.47849861671378 - 0.339251362751109*I, -0.288675134594813 + 0.5*I,   -0.44544900994594 - 1.45004304290984*I],\n",
       "[0.303297423069979 - 0.339251362751109*I, -0.288675134594813 - 0.5*I, -0.44544900994594 + 0.0930375919054037*I]])"
      ]
     },
     "execution_count": 33,
     "metadata": {},
     "output_type": "execute_result"
    }
   ],
   "source": [
    "H*smp.exp(smp.I*(l5))"
   ]
  },
  {
   "cell_type": "code",
   "execution_count": 37,
   "id": "a70089d7-a89c-4446-8a62-c6f7a0c72c32",
   "metadata": {},
   "outputs": [
    {
     "data": {
      "text/latex": [
       "$\\displaystyle \\left[\\begin{matrix}0.577350269189626 & 0.577350269189626 & 0.577350269189626\\\\-0.288675134594813 + 0.5 i & -0.288675134594813 - 0.5 i & 0.577350269189626 - 2.43942014190998 \\cdot 10^{-23} i\\\\-0.288675134594813 - 0.5 i & -0.288675134594813 + 0.5 i & 0.577350269189626 - 2.43942014190998 \\cdot 10^{-23} i\\end{matrix}\\right]$"
      ],
      "text/plain": [
       "Matrix([\n",
       "[         0.577350269189626,          0.577350269189626,                          0.577350269189626],\n",
       "[-0.288675134594813 + 0.5*I, -0.288675134594813 - 0.5*I, 0.577350269189626 - 2.43942014190998e-23*I],\n",
       "[-0.288675134594813 - 0.5*I, -0.288675134594813 + 0.5*I, 0.577350269189626 - 2.43942014190998e-23*I]])"
      ]
     },
     "execution_count": 37,
     "metadata": {},
     "output_type": "execute_result"
    }
   ],
   "source": [
    "smp.N(Z*H)"
   ]
  },
  {
   "cell_type": "code",
   "execution_count": 4,
   "id": "3c22a35b-88e0-410c-833f-47e6cb20151d",
   "metadata": {},
   "outputs": [
    {
     "ename": "SyntaxError",
     "evalue": "invalid syntax (3617009233.py, line 12)",
     "output_type": "error",
     "traceback": [
      "\u001b[0;36m  Cell \u001b[0;32mIn[4], line 12\u001b[0;36m\u001b[0m\n\u001b[0;31m    0.866i(\\sqrt{3}/2\\lambda_8-1/2 i\\lambda_3)\u001b[0m\n\u001b[0m         ^\u001b[0m\n\u001b[0;31mSyntaxError\u001b[0m\u001b[0;31m:\u001b[0m invalid syntax\n"
     ]
    }
   ],
   "source": [
    "x,y = sym.symbols('x,y')\n",
    "eq1 = sym.Eq(a+b,1)\n",
    "eq1 = sym.Eq(-a+b,-0.5)\n",
    "eq1 = sym.Eq(-a+b,0.5)\n",
    "eq2 = sym.Eq(x**2+y**2,17)\n",
    "\n",
    "b=0.25\n",
    "a = 0.75\n",
    "\n",
    "\n",
    "\n",
    "Z = (0.25\\sqrt{3}\\lambda_8-0.75\\lambda_3)+\\frac{0.866}{2}i(\\sqrt{3}\\lambda_8-i\\lambda_3)\n",
    "\n",
    "\n",
    "\n",
    "result = sym.solve([eq1,eq2],(x,y))"
   ]
  },
  {
   "cell_type": "code",
   "execution_count": 3,
   "id": "4fcac023-7ff3-47f2-9a21-3b48fdb15e4d",
   "metadata": {},
   "outputs": [
    {
     "data": {
      "text/latex": [
       "$\\displaystyle \\left[\\begin{matrix}1.0 & 0 & 0\\\\0 & -0.5 + 0.866025403784439 i & 0\\\\0 & 0 & -0.5 - 0.866025403784438 i\\end{matrix}\\right]$"
      ],
      "text/plain": [
       "Matrix([\n",
       "[1.0,                          0,                          0],\n",
       "[  0, -0.5 + 0.866025403784439*I,                          0],\n",
       "[  0,                          0, -0.5 - 0.866025403784438*I]])"
      ]
     },
     "execution_count": 3,
     "metadata": {},
     "output_type": "execute_result"
    }
   ],
   "source": [
    "smp.N(Z)"
   ]
  },
  {
   "cell_type": "code",
   "execution_count": 92,
   "id": "4ac5a1ab-32c5-4629-aa4a-12708f1e5584",
   "metadata": {},
   "outputs": [],
   "source": [
    "def round2zero(m, e):\n",
    "    for i in range(m.shape[0]):\n",
    "        for j in range(m.shape[1]):\n",
    "            if smp.Abs(smp.im(m[i,j])) < e:\n",
    "                m[i,j] = m[i,j]-smp.im(m[i,j])*1j\n",
    "            if smp.Abs(smp.re(m[i,j])) < e:\n",
    "                m[i,j] = m[i,j]-smp.re(m[i,j])\n",
    "e = .0000001\n",
    "round2zero(A, e)\n",
    "round2zero(B, e)"
   ]
  },
  {
   "cell_type": "markdown",
   "id": "d913aca2-d413-49db-9203-956804bdd266",
   "metadata": {},
   "source": [
    "# Qudits"
   ]
  },
  {
   "cell_type": "code",
   "execution_count": 1,
   "id": "b5c962bb-e491-494d-8587-d93dc56ca5bf",
   "metadata": {},
   "outputs": [],
   "source": [
    "import sympy as smp"
   ]
  },
  {
   "cell_type": "code",
   "execution_count": 82,
   "id": "fc46cd74-b308-4dff-b266-ebfeaed3e870",
   "metadata": {},
   "outputs": [],
   "source": [
    "import sympy as smp\n",
    "from sympy.physics.quantum.dagger import Dagger\n",
    "from sympy.physics.quantum import TensorProduct as TP\n",
    "from sympy.vector import *\n",
    "I = smp.Matrix(smp.eye(4))\n",
    "X = smp.Matrix([[0,0,0,1],[1,0,0,0], [0,1,0,0],[0,0,1,0]])\n",
    "Z = smp.Matrix([[1,0,0, 0], [0,smp.E**(1j*2*smp.pi/4),0,0], [0, 0, smp.E**(1j*4*smp.pi/4),0],[0, 0, 0,smp.E**(1j*6*smp.pi/4)]])\n",
    "\n",
    "H = (1/smp.sqrt(4))*smp.Matrix([[1,1,1,1],[1,smp.E**(1j*2*smp.pi/4),smp.E**(1j*4*smp.pi/4),smp.E**(1j*6*smp.pi/4)],\\\n",
    "                                [1, smp.E**(1j*4*smp.pi/4), 1, smp.E**(1j*4*smp.pi/4)],\\\n",
    "                               [1, smp.E**(1j*6*smp.pi/4), smp.E**(1j*4*smp.pi/4), smp.E**(1j*2*smp.pi/4)]])\n",
    "\n",
    "CZ = TP(smp.Matrix([[1,0, 0,0], [0,0, 0,0], [0, 0, 0,0],[0, 0, 0,0]]), I)\\\n",
    "+TP(smp.Matrix([[0,0, 0,0], [0,1, 0,0], [0, 0, 0,0],[0, 0, 0,0]]), Z) \\\n",
    "+TP(smp.Matrix([[0,0, 0,0], [0,0, 0,0], [0, 0, 1,0],[0, 0, 0,0]]), Z**2)\\\n",
    "+TP(smp.Matrix([[0,0, 0,0], [0,0, 0,0], [0, 0, 0,0],[0, 0, 0,1]]), Z**3)\n",
    "\n",
    "HS = smp.Matrix(H*Z*Z) #S, Z, I\n",
    "\n",
    "T_2 = TP(HS, HS)*CZ\n",
    "T_3 = TP(HS, HS, HS)*TP(CZ, I)*TP(I, CZ)\n",
    "T_4 = TP(HS, HS, HS, HS)*TP(CZ, CZ)*TP(I,CZ,I)"
   ]
  },
  {
   "cell_type": "code",
   "execution_count": 86,
   "id": "e98f80bb-defb-4d6f-b314-8c2ab0a88622",
   "metadata": {},
   "outputs": [],
   "source": [
    "A = smp.Matrix(smp.N(Dagger(T_2)*TP(Z,I)*T_2))"
   ]
  },
  {
   "cell_type": "code",
   "execution_count": 85,
   "id": "c7f5eeab-1a98-43ad-af18-17e1d77dc736",
   "metadata": {},
   "outputs": [
    {
     "data": {
      "text/latex": [
       "$\\displaystyle \\left[\\begin{array}{cccccccccccccccc}1.0 & 0 & 0 & 0 & 0 & 0 & 0 & 0 & 0 & 0 & 0 & 0 & 0 & 0 & 0 & 0\\\\0 & 1.0 & 0 & 0 & 0 & 0 & 0 & 0 & 0 & 0 & 0 & 0 & 0 & 0 & 0 & 0\\\\0 & 0 & 1.0 & 0 & 0 & 0 & 0 & 0 & 0 & 0 & 0 & 0 & 0 & 0 & 0 & 0\\\\0 & 0 & 0 & 1.0 & 0 & 0 & 0 & 0 & 0 & 0 & 0 & 0 & 0 & 0 & 0 & 0\\\\0 & 0 & 0 & 0 & - 1.0 i & 0 & 0 & 0 & 0 & 0 & 0 & 0 & 0 & 0 & 0 & 0\\\\0 & 0 & 0 & 0 & 0 & - 1.0 i & 0 & 0 & 0 & 0 & 0 & 0 & 0 & 0 & 0 & 0\\\\0 & 0 & 0 & 0 & 0 & 0 & - 1.0 i & 0 & 0 & 0 & 0 & 0 & 0 & 0 & 0 & 0\\\\0 & 0 & 0 & 0 & 0 & 0 & 0 & - 1.0 i & 0 & 0 & 0 & 0 & 0 & 0 & 0 & 0\\\\0 & 0 & 0 & 0 & 0 & 0 & 0 & 0 & -1.0 & 0 & 0 & 0 & 0 & 0 & 0 & 0\\\\0 & 0 & 0 & 0 & 0 & 0 & 0 & 0 & 0 & -1.0 & 0 & 0 & 0 & 0 & 0 & 0\\\\0 & 0 & 0 & 0 & 0 & 0 & 0 & 0 & 0 & 0 & -1.0 & 0 & 0 & 0 & 0 & 0\\\\0 & 0 & 0 & 0 & 0 & 0 & 0 & 0 & 0 & 0 & 0 & -1.0 & 0 & 0 & 0 & 0\\\\0 & 0 & 0 & 0 & 0 & 0 & 0 & 0 & 0 & 0 & 0 & 0 & 1.0 i & 0 & 0 & 0\\\\0 & 0 & 0 & 0 & 0 & 0 & 0 & 0 & 0 & 0 & 0 & 0 & 0 & 1.0 i & 0 & 0\\\\0 & 0 & 0 & 0 & 0 & 0 & 0 & 0 & 0 & 0 & 0 & 0 & 0 & 0 & 1.0 i & 0\\\\0 & 0 & 0 & 0 & 0 & 0 & 0 & 0 & 0 & 0 & 0 & 0 & 0 & 0 & 0 & 1.0 i\\end{array}\\right]$"
      ],
      "text/plain": [
       "Matrix([\n",
       "[1.0,   0,   0,   0,      0,      0,      0,      0,    0,    0,    0,    0,     0,     0,     0,     0],\n",
       "[  0, 1.0,   0,   0,      0,      0,      0,      0,    0,    0,    0,    0,     0,     0,     0,     0],\n",
       "[  0,   0, 1.0,   0,      0,      0,      0,      0,    0,    0,    0,    0,     0,     0,     0,     0],\n",
       "[  0,   0,   0, 1.0,      0,      0,      0,      0,    0,    0,    0,    0,     0,     0,     0,     0],\n",
       "[  0,   0,   0,   0, -1.0*I,      0,      0,      0,    0,    0,    0,    0,     0,     0,     0,     0],\n",
       "[  0,   0,   0,   0,      0, -1.0*I,      0,      0,    0,    0,    0,    0,     0,     0,     0,     0],\n",
       "[  0,   0,   0,   0,      0,      0, -1.0*I,      0,    0,    0,    0,    0,     0,     0,     0,     0],\n",
       "[  0,   0,   0,   0,      0,      0,      0, -1.0*I,    0,    0,    0,    0,     0,     0,     0,     0],\n",
       "[  0,   0,   0,   0,      0,      0,      0,      0, -1.0,    0,    0,    0,     0,     0,     0,     0],\n",
       "[  0,   0,   0,   0,      0,      0,      0,      0,    0, -1.0,    0,    0,     0,     0,     0,     0],\n",
       "[  0,   0,   0,   0,      0,      0,      0,      0,    0,    0, -1.0,    0,     0,     0,     0,     0],\n",
       "[  0,   0,   0,   0,      0,      0,      0,      0,    0,    0,    0, -1.0,     0,     0,     0,     0],\n",
       "[  0,   0,   0,   0,      0,      0,      0,      0,    0,    0,    0,    0, 1.0*I,     0,     0,     0],\n",
       "[  0,   0,   0,   0,      0,      0,      0,      0,    0,    0,    0,    0,     0, 1.0*I,     0,     0],\n",
       "[  0,   0,   0,   0,      0,      0,      0,      0,    0,    0,    0,    0,     0,     0, 1.0*I,     0],\n",
       "[  0,   0,   0,   0,      0,      0,      0,      0,    0,    0,    0,    0,     0,     0,     0, 1.0*I]])"
      ]
     },
     "execution_count": 85,
     "metadata": {},
     "output_type": "execute_result"
    }
   ],
   "source": [
    "A"
   ]
  },
  {
   "cell_type": "code",
   "execution_count": 91,
   "id": "65eb3a2c-dc50-4c26-8bc1-5a43376e4c50",
   "metadata": {},
   "outputs": [],
   "source": [
    "B = smp.Matrix(smp.N(TP(X, Z*Z*Z)*-1))\n",
    "#B = smp.Matrix(smp.N(TP(Z*Z*Z, I)))"
   ]
  },
  {
   "cell_type": "markdown",
   "id": "f9a1df4e-9079-444f-a5ef-961d1caaea4a",
   "metadata": {},
   "source": [
    "The rules likely generalise? I mean the action should be the same.\n",
    "\n",
    "$Z, Z^2, I$ will generate Z -> TP(ZZZ, X, ZZZ), X -> Z*Z*Z"
   ]
  },
  {
   "cell_type": "code",
   "execution_count": 5,
   "id": "bbea7ef5-3b29-444a-a4c0-33b873dca28e",
   "metadata": {},
   "outputs": [],
   "source": [
    "import sympy as smp"
   ]
  },
  {
   "cell_type": "code",
   "execution_count": 26,
   "id": "9efd6a39-942b-4e3d-b78a-66d7111e32dc",
   "metadata": {},
   "outputs": [],
   "source": [
    "t, p = smp.symbols('\\phi \\eta')\n",
    "A, B = smp.symbols('A, B', commutative=False)\n",
    "def commute(a, b):\n",
    "    return a*b - b*a\n",
    "def findit(a, b):\n",
    "    return a + b + (1/2)*commute(a, b)"
   ]
  },
  {
   "cell_type": "code",
   "execution_count": 29,
   "id": "0f8d0c83-5fa8-46e3-87d2-569203bc084d",
   "metadata": {},
   "outputs": [
    {
     "data": {
      "text/latex": [
       "$\\displaystyle \\eta \\phi \\left(0.5 i \\eta A B^{2} - 1.0 i \\eta B A B + 0.5 i \\eta B^{2} A + 1.0 i \\phi A B A - 0.5 i \\phi A^{2} B - 0.5 i \\phi B A^{2} - 1.0 A B + 1.0 B A\\right)$"
      ],
      "text/plain": [
       "\\eta*\\phi*(0.5*I*\\eta*A*B**2 - 1.0*I*\\eta*B*A*B + 0.5*I*\\eta*B**2*A + 1.0*I*\\phi*A*B*A - 0.5*I*\\phi*A**2*B - 0.5*I*\\phi*B*A**2 - 1.0*A*B + 1.0*B*A)"
      ]
     },
     "execution_count": 29,
     "metadata": {},
     "output_type": "execute_result"
    }
   ],
   "source": [
    "t1 = findit(smp.I*t*A, smp.I*p*B)\n",
    "t2 = findit(-smp.I*t*A, -smp.I*p*B)\n",
    "smp.simplify(findit(t1, t2))"
   ]
  },
  {
   "cell_type": "code",
   "execution_count": 33,
   "id": "ec0c30e2-dd96-4fa5-a6f1-1ff5707bd91f",
   "metadata": {},
   "outputs": [
    {
     "data": {
      "text/latex": [
       "$\\displaystyle 1.0 \\eta \\phi \\left(- A B + B A\\right)$"
      ],
      "text/plain": [
       "1.0*\\eta*\\phi*(-A*B + B*A)"
      ]
     },
     "execution_count": 33,
     "metadata": {},
     "output_type": "execute_result"
    }
   ],
   "source": [
    "smp.simplify(t1+t2)"
   ]
  },
  {
   "cell_type": "markdown",
   "id": "e1a8198d-f5a3-4946-9581-f1f48f9f3a40",
   "metadata": {},
   "source": [
    "# Gell-Mann Matrices"
   ]
  },
  {
   "cell_type": "code",
   "execution_count": 1,
   "id": "c2292780-9d92-4a72-9484-bb652a2ec362",
   "metadata": {},
   "outputs": [],
   "source": [
    "import sympy as smp"
   ]
  },
  {
   "cell_type": "code",
   "execution_count": 2,
   "id": "0eeb64b7-3609-4c22-b981-b2467126689f",
   "metadata": {},
   "outputs": [],
   "source": [
    "l1 = smp.Matrix([[0, 1, 0], [1, 0, 0], [0, 0, 0]])\n",
    "l2 = smp.Matrix([[0, -1, 0], [1, 0, 0], [0, 0, 0]])\n",
    "l3 = smp.Matrix([[1, 0, 0], [0, -1, 0], [0, 0, 0]])\n",
    "l4 = smp.Matrix([[0, 0, 1], [0, 0, 0], [1, 0, 0]])\n",
    "l5 = smp.Matrix([[0, 0, -1], [0, 0, 0], [1, 0, 0]])\n",
    "l6 = smp.Matrix([[0, 0, 0], [0, 0, 1], [0, 1, 0]])\n",
    "l7 = smp.Matrix([[0, 0, 0], [0, 0, -1], [0, 1, 0]])\n",
    "l8 = smp.Matrix([[1, 0, 0], [0, 1, 0], [0, 0, -2]])*1/smp.sqrt(3)\n",
    "# Don't Allow l8"
   ]
  },
  {
   "cell_type": "code",
   "execution_count": 3,
   "id": "0a1fe8da-8d21-47b2-aec7-da2ceb10354c",
   "metadata": {},
   "outputs": [
    {
     "data": {
      "text/plain": [
       "True"
      ]
     },
     "execution_count": 3,
     "metadata": {},
     "output_type": "execute_result"
    }
   ],
   "source": [
    "l3*l8 == l8*l3"
   ]
  },
  {
   "cell_type": "code",
   "execution_count": 5,
   "id": "6905a078-14cf-4953-8ea4-59e130bf5fbe",
   "metadata": {},
   "outputs": [
    {
     "data": {
      "text/latex": [
       "$\\displaystyle \\left[\\begin{matrix}1 & 0 & 0\\\\0 & 1 & 0\\\\0 & 0 & 0\\end{matrix}\\right]$"
      ],
      "text/plain": [
       "Matrix([\n",
       "[1, 0, 0],\n",
       "[0, 1, 0],\n",
       "[0, 0, 0]])"
      ]
     },
     "execution_count": 5,
     "metadata": {},
     "output_type": "execute_result"
    }
   ],
   "source": [
    "l3*l3"
   ]
  },
  {
   "cell_type": "code",
   "execution_count": 6,
   "id": "6e5cb711-4d4e-46bd-84b7-cdad4144782f",
   "metadata": {},
   "outputs": [
    {
     "data": {
      "text/latex": [
       "$\\displaystyle \\left[\\begin{matrix}1 & 0 & 0\\\\0 & -1 & 0\\\\0 & 0 & 0\\end{matrix}\\right]$"
      ],
      "text/plain": [
       "Matrix([\n",
       "[1,  0, 0],\n",
       "[0, -1, 0],\n",
       "[0,  0, 0]])"
      ]
     },
     "execution_count": 6,
     "metadata": {},
     "output_type": "execute_result"
    }
   ],
   "source": [
    "l3*l3*l3"
   ]
  },
  {
   "cell_type": "code",
   "execution_count": null,
   "id": "bb28dcfc-6e9d-45d2-852d-ddc3615759c0",
   "metadata": {},
   "outputs": [],
   "source": []
  }
 ],
 "metadata": {
  "kernelspec": {
   "display_name": "python3.9",
   "language": "python",
   "name": "python3.9.16"
  },
  "language_info": {
   "codemirror_mode": {
    "name": "ipython",
    "version": 3
   },
   "file_extension": ".py",
   "mimetype": "text/x-python",
   "name": "python",
   "nbconvert_exporter": "python",
   "pygments_lexer": "ipython3",
   "version": "3.9.16"
  }
 },
 "nbformat": 4,
 "nbformat_minor": 5
}
